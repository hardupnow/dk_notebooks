{
 "cells": [
  {
   "cell_type": "markdown",
   "metadata": {},
   "source": [
    "# 冬季集合预报数据下载"
   ]
  },
  {
   "cell_type": "code",
   "execution_count": 1,
   "metadata": {
    "ExecuteTime": {
     "end_time": "2018-12-29T08:36:03.606908Z",
     "start_time": "2018-12-29T08:36:03.122502Z"
    }
   },
   "outputs": [],
   "source": [
    "%matplotlib inline\n",
    "%load_ext autoreload\n",
    "%autoreload 2"
   ]
  },
  {
   "cell_type": "code",
   "execution_count": 2,
   "metadata": {
    "ExecuteTime": {
     "end_time": "2018-12-29T08:36:04.477006Z",
     "start_time": "2018-12-29T08:36:04.383932Z"
    }
   },
   "outputs": [],
   "source": [
    "import os\n",
    "import pathlib\n",
    "import shutil\n",
    "import warnings\n",
    "from datetime import datetime, timedelta\n",
    "warnings.filterwarnings('ignore')"
   ]
  },
  {
   "cell_type": "code",
   "execution_count": 5,
   "metadata": {
    "ExecuteTime": {
     "end_time": "2018-12-29T09:55:35.807779Z",
     "start_time": "2018-12-29T08:38:33.080208Z"
    },
    "scrolled": true
   },
   "outputs": [],
   "source": [
    "# set origin and output directory\n",
    "data_dir = pathlib.Path(\"\\\\\\\\10.20.90.102\\\\products\\\\daily\\\\grads\")\n",
    "# data_dir = pathlib.Path(\"\\\\\\\\10.20.90.102\\\\products_bak2\\\\daily\\\\grads\")\n",
    "out_dir = pathlib.Path(\"G:/DATA/ecmf/\")\n",
    "\n",
    "for file_dir in data_dir.glob(\"??????????\"):\n",
    "    out_subdir = out_dir.joinpath(file_dir.name)\n",
    "    if not out_subdir.exists():\n",
    "        out_subdir.mkdir(parents=True, exist_ok=True)\n",
    "    \n",
    "    for file in file_dir.glob(\"ecmf_*_precipitation_type*\"):\n",
    "        out_file = out_subdir.joinpath(file.name)\n",
    "        if not out_file.is_file():\n",
    "            shutil.copy(file, out_file)\n",
    "            \n",
    "    for file in file_dir.glob(\"ecmf_*_total_precipitation*\"):\n",
    "        out_file = out_subdir.joinpath(file.name)\n",
    "        if not out_file.is_file():\n",
    "            shutil.copy(file, out_file)\n",
    "            \n",
    "    for file in file_dir.glob(\"ecmf_*_2m_above_ground_temperature*\"):\n",
    "        out_file = out_subdir.joinpath(file.name)\n",
    "        if not out_file.is_file():\n",
    "            shutil.copy(file, out_file)\n",
    "            \n",
    "    for file in file_dir.glob(\"ecmf_*_snow*\"):\n",
    "        out_file = out_subdir.joinpath(file.name)\n",
    "        if not out_file.is_file():\n",
    "            shutil.copy(file, out_file)"
   ]
  },
  {
   "cell_type": "code",
   "execution_count": 7,
   "metadata": {
    "ExecuteTime": {
     "end_time": "2018-12-28T00:51:05.878062Z",
     "start_time": "2018-12-28T00:45:52.600878Z"
    }
   },
   "outputs": [],
   "source": [
    "# 拷贝netcdf原始数据, 但现在不必要, 只需要拷贝grads目录下的数据即可\n",
    "# set origin and output directory\n",
    "data_dir = pathlib.Path(\"X:/ecmf\")\n",
    "out_dir = pathlib.Path(\"G:/DATA/ecmf/\")\n",
    "\n",
    "for file_dir in data_dir.glob(\"??????????\"):\n",
    "    out_subdir = out_dir.joinpath(file_dir.name)\n",
    "    if not out_subdir.exists():\n",
    "        out_subdir.mkdir(parents=True, exist_ok=True)\n",
    "    \n",
    "    for file in file_dir.glob(\"*_sfc_*\"):\n",
    "        out_file = out_subdir.joinpath(file.name)\n",
    "        if not out_file.is_file():\n",
    "            shutil.copy(file, out_file)"
   ]
  },
  {
   "cell_type": "code",
   "execution_count": null,
   "metadata": {},
   "outputs": [],
   "source": []
  }
 ],
 "metadata": {
  "kernelspec": {
   "display_name": "Python 3",
   "language": "python",
   "name": "python3"
  },
  "language_info": {
   "codemirror_mode": {
    "name": "ipython",
    "version": 3
   },
   "file_extension": ".py",
   "mimetype": "text/x-python",
   "name": "python",
   "nbconvert_exporter": "python",
   "pygments_lexer": "ipython3",
   "version": "3.7.1"
  },
  "toc": {
   "base_numbering": 1,
   "nav_menu": {},
   "number_sections": true,
   "sideBar": true,
   "skip_h1_title": true,
   "title_cell": "Table of Contents",
   "title_sidebar": "Contents",
   "toc_cell": false,
   "toc_position": {},
   "toc_section_display": true,
   "toc_window_display": false
  },
  "varInspector": {
   "cols": {
    "lenName": 16,
    "lenType": 16,
    "lenVar": 40
   },
   "kernels_config": {
    "python": {
     "delete_cmd_postfix": "",
     "delete_cmd_prefix": "del ",
     "library": "var_list.py",
     "varRefreshCmd": "print(var_dic_list())"
    },
    "r": {
     "delete_cmd_postfix": ") ",
     "delete_cmd_prefix": "rm(",
     "library": "var_list.r",
     "varRefreshCmd": "cat(var_dic_list()) "
    }
   },
   "types_to_exclude": [
    "module",
    "function",
    "builtin_function_or_method",
    "instance",
    "_Feature"
   ],
   "window_display": false
  }
 },
 "nbformat": 4,
 "nbformat_minor": 2
}
