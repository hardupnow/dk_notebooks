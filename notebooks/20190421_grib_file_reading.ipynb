{
 "cells": [
  {
   "cell_type": "markdown",
   "metadata": {
    "toc": true
   },
   "source": [
    "<h1>读取和分析GRIB数据文件<span class=\"tocSkip\"></span></h1>\n",
    "<div class=\"toc\"><ul class=\"toc-item\"><li><span><a href=\"#采用cfgrib读取GRIB文件\" data-toc-modified-id=\"采用cfgrib读取GRIB文件-1\"><span class=\"toc-item-num\">1&nbsp;&nbsp;</span>采用cfgrib读取GRIB文件</a></span></li><li><span><a href=\"#使用eccodes-python\" data-toc-modified-id=\"使用eccodes-python-2\"><span class=\"toc-item-num\">2&nbsp;&nbsp;</span>使用eccodes-python</a></span></li></ul></div>"
   ]
  },
  {
   "cell_type": "markdown",
   "metadata": {},
   "source": [
    "## 采用cfgrib读取GRIB文件"
   ]
  },
  {
   "cell_type": "code",
   "execution_count": 5,
   "metadata": {
    "ExecuteTime": {
     "end_time": "2019-04-21T14:33:28.339388Z",
     "start_time": "2019-04-21T14:33:28.335385Z"
    }
   },
   "outputs": [],
   "source": [
    "import xarray as xr\n",
    "import cfgrib"
   ]
  },
  {
   "cell_type": "markdown",
   "metadata": {},
   "source": [
    "在windows环境下读取和分析grib数据文件，需要安装如下软件包:\n",
    "\n",
    "* [eccodes](https://anaconda.org/conda-forge/eccodes), 这将安装在windows下的eccodes软件支持库, 各种命令软件及dll链接库放在C:\\Anaconda3\\Library\\bin 目录下.\n",
    "* [cfgrib](https://github.com/ecmwf/cfgrib), 这提供了一个接口, 调用eccodes软件解码grib文件, 并转换为xarray数据类型."
   ]
  },
  {
   "cell_type": "code",
   "execution_count": 4,
   "metadata": {
    "ExecuteTime": {
     "end_time": "2019-04-21T14:33:10.624945Z",
     "start_time": "2019-04-21T14:33:10.568896Z"
    }
   },
   "outputs": [
    {
     "data": {
      "text/plain": [
       "<xarray.Dataset>\n",
       "Dimensions:        (isobaricInhPa: 2, latitude: 61, longitude: 120, number: 10, time: 4)\n",
       "Coordinates:\n",
       "  * number         (number) int32 0 1 2 3 4 5 6 7 8 9\n",
       "  * time           (time) datetime64[ns] 2017-01-01 ... 2017-01-02T12:00:00\n",
       "    step           timedelta64[ns] ...\n",
       "  * isobaricInhPa  (isobaricInhPa) int32 850 500\n",
       "  * latitude       (latitude) float64 90.0 87.0 84.0 81.0 ... -84.0 -87.0 -90.0\n",
       "  * longitude      (longitude) float64 0.0 3.0 6.0 9.0 ... 351.0 354.0 357.0\n",
       "    valid_time     (time) datetime64[ns] ...\n",
       "Data variables:\n",
       "    z              (number, time, isobaricInhPa, latitude, longitude) float32 ...\n",
       "    t              (number, time, isobaricInhPa, latitude, longitude) float32 ...\n",
       "Attributes:\n",
       "    GRIB_edition:            1\n",
       "    GRIB_centre:             ecmf\n",
       "    GRIB_centreDescription:  European Centre for Medium-Range Weather Forecasts\n",
       "    GRIB_subCentre:          0\n",
       "    Conventions:             CF-1.7\n",
       "    institution:             European Centre for Medium-Range Weather Forecasts\n",
       "    history:                 2019-04-21T22:33:10 GRIB to CDM+CF via cfgrib-0...."
      ]
     },
     "execution_count": 4,
     "metadata": {},
     "output_type": "execute_result"
    }
   ],
   "source": [
    "ds = xr.open_dataset(\"data/era5-levels-members.grib\", engine='cfgrib')\n",
    "ds"
   ]
  },
  {
   "cell_type": "code",
   "execution_count": 6,
   "metadata": {
    "ExecuteTime": {
     "end_time": "2019-04-21T14:34:05.003280Z",
     "start_time": "2019-04-21T14:34:04.141583Z"
    }
   },
   "outputs": [
    {
     "name": "stderr",
     "output_type": "stream",
     "text": [
      "Ignoring index file 'data/era5-levels-members.grib.887f8.idx' incompatible with GRIB file\n"
     ]
    }
   ],
   "source": [
    "# 直接读取grib数据文件\n",
    "ds = cfgrib.open_file('data/era5-levels-members.grib')"
   ]
  },
  {
   "cell_type": "code",
   "execution_count": 7,
   "metadata": {
    "ExecuteTime": {
     "end_time": "2019-04-21T14:34:23.882677Z",
     "start_time": "2019-04-21T14:34:23.876669Z"
    }
   },
   "outputs": [
    {
     "data": {
      "text/plain": [
       "1"
      ]
     },
     "execution_count": 7,
     "metadata": {},
     "output_type": "execute_result"
    }
   ],
   "source": [
    "ds.attributes['GRIB_edition']"
   ]
  },
  {
   "cell_type": "code",
   "execution_count": 8,
   "metadata": {
    "ExecuteTime": {
     "end_time": "2019-04-21T14:34:34.770621Z",
     "start_time": "2019-04-21T14:34:34.764612Z"
    }
   },
   "outputs": [
    {
     "data": {
      "text/plain": [
       "[('isobaricInhPa', 2),\n",
       " ('latitude', 61),\n",
       " ('longitude', 120),\n",
       " ('number', 10),\n",
       " ('time', 4)]"
      ]
     },
     "execution_count": 8,
     "metadata": {},
     "output_type": "execute_result"
    }
   ],
   "source": [
    "sorted(ds.dimensions.items())"
   ]
  },
  {
   "cell_type": "code",
   "execution_count": 9,
   "metadata": {
    "ExecuteTime": {
     "end_time": "2019-04-21T14:35:26.505375Z",
     "start_time": "2019-04-21T14:35:26.497368Z"
    }
   },
   "outputs": [
    {
     "data": {
      "text/plain": [
       "['isobaricInhPa',\n",
       " 'latitude',\n",
       " 'longitude',\n",
       " 'number',\n",
       " 'step',\n",
       " 't',\n",
       " 'time',\n",
       " 'valid_time',\n",
       " 'z']"
      ]
     },
     "execution_count": 9,
     "metadata": {},
     "output_type": "execute_result"
    }
   ],
   "source": [
    "sorted(ds.variables)"
   ]
  },
  {
   "cell_type": "code",
   "execution_count": 10,
   "metadata": {
    "ExecuteTime": {
     "end_time": "2019-04-21T14:35:36.237204Z",
     "start_time": "2019-04-21T14:35:36.233201Z"
    }
   },
   "outputs": [],
   "source": [
    "var = ds.variables['t']"
   ]
  },
  {
   "cell_type": "code",
   "execution_count": 11,
   "metadata": {
    "ExecuteTime": {
     "end_time": "2019-04-21T14:35:48.229153Z",
     "start_time": "2019-04-21T14:35:48.223148Z"
    }
   },
   "outputs": [
    {
     "data": {
      "text/plain": [
       "('number', 'time', 'isobaricInhPa', 'latitude', 'longitude')"
      ]
     },
     "execution_count": 11,
     "metadata": {},
     "output_type": "execute_result"
    }
   ],
   "source": [
    "var.dimensions"
   ]
  },
  {
   "cell_type": "markdown",
   "metadata": {},
   "source": [
    "## 使用eccodes-python"
   ]
  },
  {
   "cell_type": "markdown",
   "metadata": {},
   "source": [
    "[eccodes-python](https://github.com/ecmwf/eccodes-python)是ecmwf开发的eccodes python库，可以直接支持对grib文件的分析, 但目前还不支持windows平台."
   ]
  },
  {
   "cell_type": "code",
   "execution_count": null,
   "metadata": {},
   "outputs": [],
   "source": []
  }
 ],
 "metadata": {
  "kernelspec": {
   "display_name": "Python 3",
   "language": "python",
   "name": "python3"
  },
  "language_info": {
   "codemirror_mode": {
    "name": "ipython",
    "version": 3
   },
   "file_extension": ".py",
   "mimetype": "text/x-python",
   "name": "python",
   "nbconvert_exporter": "python",
   "pygments_lexer": "ipython3",
   "version": "3.7.3"
  },
  "toc": {
   "base_numbering": 1,
   "nav_menu": {},
   "number_sections": true,
   "sideBar": true,
   "skip_h1_title": true,
   "title_cell": "读取和分析GRIB数据文件",
   "title_sidebar": "Contents",
   "toc_cell": true,
   "toc_position": {},
   "toc_section_display": true,
   "toc_window_display": true
  },
  "varInspector": {
   "cols": {
    "lenName": 16,
    "lenType": 16,
    "lenVar": 40
   },
   "kernels_config": {
    "python": {
     "delete_cmd_postfix": "",
     "delete_cmd_prefix": "del ",
     "library": "var_list.py",
     "varRefreshCmd": "print(var_dic_list())"
    },
    "r": {
     "delete_cmd_postfix": ") ",
     "delete_cmd_prefix": "rm(",
     "library": "var_list.r",
     "varRefreshCmd": "cat(var_dic_list()) "
    }
   },
   "types_to_exclude": [
    "module",
    "function",
    "builtin_function_or_method",
    "instance",
    "_Feature"
   ],
   "window_display": false
  }
 },
 "nbformat": 4,
 "nbformat_minor": 2
}
