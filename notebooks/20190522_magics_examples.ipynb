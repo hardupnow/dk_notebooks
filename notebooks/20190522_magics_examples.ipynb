{
 "cells": [
  {
   "cell_type": "markdown",
   "metadata": {},
   "source": [
    "# ECMWF magics examples"
   ]
  },
  {
   "cell_type": "code",
   "execution_count": 1,
   "metadata": {
    "ExecuteTime": {
     "end_time": "2019-05-22T03:13:54.564074Z",
     "start_time": "2019-05-22T03:13:54.137727Z"
    }
   },
   "outputs": [],
   "source": [
    "%matplotlib inline\n",
    "%load_ext autoreload\n",
    "%autoreload 2"
   ]
  },
  {
   "cell_type": "code",
   "execution_count": 2,
   "metadata": {
    "ExecuteTime": {
     "end_time": "2019-05-22T03:14:20.258722Z",
     "start_time": "2019-05-22T03:14:20.016525Z"
    }
   },
   "outputs": [],
   "source": [
    "import xarray as xr\n",
    "import numpy as np\n",
    "from Magics import macro as magics\n",
    "from nmc_met_io.retrieve_micaps_server import get_model_grid"
   ]
  },
  {
   "cell_type": "code",
   "execution_count": 29,
   "metadata": {
    "ExecuteTime": {
     "end_time": "2019-05-22T03:34:47.783886Z",
     "start_time": "2019-05-22T03:34:47.536690Z"
    }
   },
   "outputs": [],
   "source": [
    "# load micaps data\n",
    "ds = get_model_grid(\"GRAPES_GFS/HGT/500/\", filename=\"19052202.000\")"
   ]
  },
  {
   "cell_type": "code",
   "execution_count": 30,
   "metadata": {
    "ExecuteTime": {
     "end_time": "2019-05-22T03:34:48.468882Z",
     "start_time": "2019-05-22T03:34:48.319761Z"
    }
   },
   "outputs": [],
   "source": [
    "ds = ds[0,0,:,:].to_dataset()"
   ]
  },
  {
   "cell_type": "code",
   "execution_count": 31,
   "metadata": {
    "ExecuteTime": {
     "end_time": "2019-05-22T03:34:50.606981Z",
     "start_time": "2019-05-22T03:34:50.447842Z"
    }
   },
   "outputs": [],
   "source": [
    "ds = ds.rename({'data':'gh'})"
   ]
  },
  {
   "cell_type": "code",
   "execution_count": 32,
   "metadata": {
    "ExecuteTime": {
     "end_time": "2019-05-22T03:34:51.505259Z",
     "start_time": "2019-05-22T03:34:51.343124Z"
    }
   },
   "outputs": [
    {
     "data": {
      "text/plain": [
       "<xarray.Dataset>\n",
       "Dimensions:    (lat: 360, lon: 721)\n",
       "Coordinates:\n",
       "    time       datetime64[ns] 2019-05-22T02:00:00\n",
       "    level      float32 500.0\n",
       "  * lat        (lat) float64 79.88 79.62 79.38 79.12 ... -9.375 -9.625 -9.875\n",
       "  * lon        (lon) float64 0.0 0.25 0.5 0.75 1.0 ... 179.2 179.5 179.8 180.0\n",
       "    init_time  datetime64[ns] 2019-05-22T02:00:00\n",
       "    fhour      float64 0.0\n",
       "Data variables:\n",
       "    gh         (lat, lon) float32 552.34375 552.2438 ... 588.6138 588.70374"
      ]
     },
     "execution_count": 32,
     "metadata": {},
     "output_type": "execute_result"
    }
   ],
   "source": [
    "ds"
   ]
  },
  {
   "cell_type": "code",
   "execution_count": 36,
   "metadata": {
    "ExecuteTime": {
     "end_time": "2019-05-22T03:35:32.549325Z",
     "start_time": "2019-05-22T03:35:32.390193Z"
    }
   },
   "outputs": [
    {
     "ename": "NameError",
     "evalue": "name 'data' is not defined",
     "output_type": "error",
     "traceback": [
      "\u001b[1;31m---------------------------------------------------------------------------\u001b[0m",
      "\u001b[1;31mNameError\u001b[0m                                 Traceback (most recent call last)",
      "\u001b[1;32m<ipython-input-36-8a57a7877f63>\u001b[0m in \u001b[0;36m<module>\u001b[1;34m\u001b[0m\n\u001b[0;32m      1\u001b[0m \u001b[0mpng\u001b[0m \u001b[1;33m=\u001b[0m \u001b[0mmagics\u001b[0m\u001b[1;33m.\u001b[0m\u001b[0moutput\u001b[0m\u001b[1;33m(\u001b[0m\u001b[0moutput_name_first_page_number\u001b[0m \u001b[1;33m=\u001b[0m \u001b[1;34m\"off\"\u001b[0m\u001b[1;33m,\u001b[0m \u001b[0moutput_name\u001b[0m \u001b[1;33m=\u001b[0m \u001b[1;34m\"test1\"\u001b[0m\u001b[1;33m)\u001b[0m\u001b[1;33m\u001b[0m\u001b[1;33m\u001b[0m\u001b[0m\n\u001b[1;32m----> 2\u001b[1;33m \u001b[0mdata\u001b[0m \u001b[1;33m=\u001b[0m \u001b[0mmagics\u001b[0m\u001b[1;33m.\u001b[0m\u001b[0mmxarray\u001b[0m\u001b[1;33m(\u001b[0m\u001b[0mds\u001b[0m\u001b[1;33m,\u001b[0m \u001b[1;34m'gh'\u001b[0m\u001b[1;33m)\u001b[0m\u001b[1;33m\u001b[0m\u001b[1;33m\u001b[0m\u001b[0m\n\u001b[0m\u001b[0;32m      3\u001b[0m \u001b[0mcontour\u001b[0m \u001b[1;33m=\u001b[0m \u001b[0mmagics\u001b[0m\u001b[1;33m.\u001b[0m\u001b[0mmcont\u001b[0m\u001b[1;33m(\u001b[0m\u001b[0mcontour_automatic_setting\u001b[0m \u001b[1;33m=\u001b[0m \u001b[1;34m\"ecmwf\"\u001b[0m\u001b[1;33m)\u001b[0m\u001b[1;33m\u001b[0m\u001b[1;33m\u001b[0m\u001b[0m\n",
      "\u001b[1;32mC:\\Anaconda3\\lib\\site-packages\\Magics\\macro.py\u001b[0m in \u001b[0;36mmxarray\u001b[1;34m(dataset, var)\u001b[0m\n\u001b[0;32m    423\u001b[0m \u001b[1;33m\u001b[0m\u001b[0m\n\u001b[0;32m    424\u001b[0m \u001b[1;33m\u001b[0m\u001b[0m\n\u001b[1;32m--> 425\u001b[1;33m     \u001b[1;32mreturn\u001b[0m \u001b[0mdata\u001b[0m\u001b[1;33m\u001b[0m\u001b[1;33m\u001b[0m\u001b[0m\n\u001b[0m\u001b[0;32m    426\u001b[0m \u001b[1;33m\u001b[0m\u001b[0m\n\u001b[0;32m    427\u001b[0m \u001b[1;33m\u001b[0m\u001b[0m\n",
      "\u001b[1;31mNameError\u001b[0m: name 'data' is not defined"
     ]
    }
   ],
   "source": [
    "png = magics.output(output_name_first_page_number = \"off\", output_name = \"test1\")\n",
    "data = magics.mxarray(ds, 'gh')\n",
    "contour = magics.mcont(contour_automatic_setting = \"ecmwf\")"
   ]
  },
  {
   "cell_type": "code",
   "execution_count": 37,
   "metadata": {
    "ExecuteTime": {
     "end_time": "2019-05-22T03:52:54.054475Z",
     "start_time": "2019-05-22T03:52:53.888246Z"
    }
   },
   "outputs": [],
   "source": [
    "import cftime\n",
    "import xarray as xr\n",
    "import numpy as np\n",
    "from Magics import macro as magics"
   ]
  },
  {
   "cell_type": "code",
   "execution_count": 38,
   "metadata": {
    "ExecuteTime": {
     "end_time": "2019-05-22T03:56:28.518145Z",
     "start_time": "2019-05-22T03:56:28.309473Z"
    }
   },
   "outputs": [],
   "source": [
    "ref = \"xarray7\"\n",
    "ds = xr.open_dataset('./data/magics_examples/2dlatlon.nc')\n",
    "time = cftime.DatetimeNoLeap(2081, 2, 15, 0, 0, 0, 0, 5, 46)"
   ]
  },
  {
   "cell_type": "code",
   "execution_count": 40,
   "metadata": {
    "ExecuteTime": {
     "end_time": "2019-05-22T03:57:06.642263Z",
     "start_time": "2019-05-22T03:57:06.483894Z"
    }
   },
   "outputs": [
    {
     "ename": "NameError",
     "evalue": "name 'data' is not defined",
     "output_type": "error",
     "traceback": [
      "\u001b[1;31m---------------------------------------------------------------------------\u001b[0m",
      "\u001b[1;31mNameError\u001b[0m                                 Traceback (most recent call last)",
      "\u001b[1;32m<ipython-input-40-0b1d3dd9c2ec>\u001b[0m in \u001b[0;36m<module>\u001b[1;34m\u001b[0m\n\u001b[0;32m      1\u001b[0m \u001b[0mpng\u001b[0m \u001b[1;33m=\u001b[0m \u001b[0mmagics\u001b[0m\u001b[1;33m.\u001b[0m\u001b[0moutput\u001b[0m\u001b[1;33m(\u001b[0m\u001b[0moutput_name_first_page_number\u001b[0m \u001b[1;33m=\u001b[0m \u001b[1;34m\"off\"\u001b[0m\u001b[1;33m,\u001b[0m \u001b[0moutput_name\u001b[0m \u001b[1;33m=\u001b[0m \u001b[0mref\u001b[0m\u001b[1;33m)\u001b[0m\u001b[1;33m\u001b[0m\u001b[1;33m\u001b[0m\u001b[0m\n\u001b[1;32m----> 2\u001b[1;33m \u001b[0mdata\u001b[0m \u001b[1;33m=\u001b[0m \u001b[0mmagics\u001b[0m\u001b[1;33m.\u001b[0m\u001b[0mmxarray\u001b[0m\u001b[1;33m(\u001b[0m\u001b[0mds\u001b[0m\u001b[1;33m,\u001b[0m \u001b[1;34m\"sic\"\u001b[0m\u001b[1;33m)\u001b[0m\u001b[1;33m\u001b[0m\u001b[1;33m\u001b[0m\u001b[0m\n\u001b[0m\u001b[0;32m      3\u001b[0m \u001b[0mcontour\u001b[0m \u001b[1;33m=\u001b[0m \u001b[0mmagics\u001b[0m\u001b[1;33m.\u001b[0m\u001b[0mmcont\u001b[0m\u001b[1;33m(\u001b[0m\u001b[0mcontour_automatic_setting\u001b[0m \u001b[1;33m=\u001b[0m \u001b[1;34m\"ecmwf\"\u001b[0m\u001b[1;33m)\u001b[0m\u001b[1;33m\u001b[0m\u001b[1;33m\u001b[0m\u001b[0m\n",
      "\u001b[1;32mC:\\Anaconda3\\lib\\site-packages\\Magics\\macro.py\u001b[0m in \u001b[0;36mmxarray\u001b[1;34m(dataset, var)\u001b[0m\n\u001b[0;32m    423\u001b[0m \u001b[1;33m\u001b[0m\u001b[0m\n\u001b[0;32m    424\u001b[0m \u001b[1;33m\u001b[0m\u001b[0m\n\u001b[1;32m--> 425\u001b[1;33m     \u001b[1;32mreturn\u001b[0m \u001b[0mdata\u001b[0m\u001b[1;33m\u001b[0m\u001b[1;33m\u001b[0m\u001b[0m\n\u001b[0m\u001b[0;32m    426\u001b[0m \u001b[1;33m\u001b[0m\u001b[0m\n\u001b[0;32m    427\u001b[0m \u001b[1;33m\u001b[0m\u001b[0m\n",
      "\u001b[1;31mNameError\u001b[0m: name 'data' is not defined"
     ]
    }
   ],
   "source": [
    "png = magics.output(output_name_first_page_number = \"off\", output_name = ref)\n",
    "data = magics.mxarray(ds, \"sic\")\n",
    "contour = magics.mcont(contour_automatic_setting = \"ecmwf\")\n"
   ]
  },
  {
   "cell_type": "code",
   "execution_count": null,
   "metadata": {},
   "outputs": [],
   "source": []
  }
 ],
 "metadata": {
  "kernelspec": {
   "display_name": "Python 3",
   "language": "python",
   "name": "python3"
  },
  "language_info": {
   "codemirror_mode": {
    "name": "ipython",
    "version": 3
   },
   "file_extension": ".py",
   "mimetype": "text/x-python",
   "name": "python",
   "nbconvert_exporter": "python",
   "pygments_lexer": "ipython3",
   "version": "3.7.3"
  },
  "toc": {
   "base_numbering": 1,
   "nav_menu": {},
   "number_sections": true,
   "sideBar": true,
   "skip_h1_title": true,
   "title_cell": "",
   "title_sidebar": "Contents",
   "toc_cell": true,
   "toc_position": {},
   "toc_section_display": true,
   "toc_window_display": true
  },
  "varInspector": {
   "cols": {
    "lenName": 16,
    "lenType": 16,
    "lenVar": 40
   },
   "kernels_config": {
    "python": {
     "delete_cmd_postfix": "",
     "delete_cmd_prefix": "del ",
     "library": "var_list.py",
     "varRefreshCmd": "print(var_dic_list())"
    },
    "r": {
     "delete_cmd_postfix": ") ",
     "delete_cmd_prefix": "rm(",
     "library": "var_list.r",
     "varRefreshCmd": "cat(var_dic_list()) "
    }
   },
   "types_to_exclude": [
    "module",
    "function",
    "builtin_function_or_method",
    "instance",
    "_Feature"
   ],
   "window_display": false
  }
 },
 "nbformat": 4,
 "nbformat_minor": 2
}
