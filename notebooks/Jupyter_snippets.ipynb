{
 "cells": [
  {
   "cell_type": "markdown",
   "metadata": {},
   "source": [
    "# Jupyter Snippets配置"
   ]
  },
  {
   "cell_type": "markdown",
   "metadata": {},
   "source": [
    "运行本文件中程序, 设置Jupyter notebooks的Snippets配置."
   ]
  },
  {
   "cell_type": "code",
   "execution_count": 3,
   "metadata": {
    "ExecuteTime": {
     "end_time": "2018-12-29T00:16:29.357476Z",
     "start_time": "2018-12-29T00:16:28.934631Z"
    }
   },
   "outputs": [
    {
     "name": "stdout",
     "output_type": "stream",
     "text": [
      "C:\\Users\\kan.dai\\AppData\\Roaming\\jupyter/nbextensions/snippets/snippets.json\n"
     ]
    }
   ],
   "source": [
    "# 设置snippets配置文件位置\n",
    "path = get_ipython().getoutput('jupyter --data-dir')\n",
    "path = \"\".join([path[0],r\"/nbextensions/snippets/snippets.json\"])\n",
    "print(path)"
   ]
  },
  {
   "cell_type": "code",
   "execution_count": 4,
   "metadata": {
    "ExecuteTime": {
     "end_time": "2018-12-29T00:16:30.252693Z",
     "start_time": "2018-12-29T00:16:30.246188Z"
    }
   },
   "outputs": [
    {
     "name": "stdout",
     "output_type": "stream",
     "text": [
      "原来的snips:\n",
      "{'snippets': [{'name': '初始化jupyter', 'code': ['%matplotlib inline', '%load_ext autoreload', '%autoreload 2']}, {'name': '导入常见模块', 'code': ['import numpy as np', 'import matplotlib as mpl', 'import matplotlib.pyplot as plt', 'import cartopy.crs as ccrs']}]}\n"
     ]
    }
   ],
   "source": [
    "# 打印原有的snippets内容\n",
    "import json\n",
    "file = open(path,\"r\",encoding=\"utf-8\")\n",
    "snips = json.load(file)\n",
    "print(\"原来的snips:\")\n",
    "print(snips)"
   ]
  },
  {
   "cell_type": "code",
   "execution_count": 5,
   "metadata": {
    "ExecuteTime": {
     "end_time": "2018-12-29T00:16:33.878027Z",
     "start_time": "2018-12-29T00:16:33.870020Z"
    }
   },
   "outputs": [],
   "source": [
    "# # 设置自定义snips，<————**自定义snippet代码段写在这里**\n",
    "snips = {\n",
    "    \"snippets\" : [\n",
    "        {\n",
    "            \"name\" : \"初始化jupyter\",\n",
    "            \"code\" : [\n",
    "                \"%matplotlib inline\",\n",
    "                \"%load_ext autoreload\",\n",
    "                \"%autoreload 2\"\n",
    "            ]\n",
    "        },\n",
    "        {\n",
    "            \"name\" : \"导入常见模块\",\n",
    "            \"code\":[\n",
    "                \"import numpy as np\",\n",
    "                \"import matplotlib as mpl\",\n",
    "                \"import matplotlib.pyplot as plt\",\n",
    "                \"import cartopy.crs as ccrs\"\n",
    "            ]\n",
    "        },\n",
    "        {\n",
    "            \"name\" : \"Matplotlib参数设置\",\n",
    "            \"code\":[\n",
    "                \"mpl.rcParams['figure.figsize'] = [16,9]\",\n",
    "                \"mpl.rcParams['xtick.labelsize'] = 15\",\n",
    "                \"mpl.rcParams['ytick.labelsize'] = 15\",\n",
    "                \"mpl.rcParams['axes.labelsize'] = 17\",\n",
    "                \"mpl.rcParams['axes.titlesize'] =20\",\n",
    "                \"mpl.rcParams['grid.linewidth'] = .25\",\n",
    "                \"mpl.rcParams['legend.fontsize'] = 15\",\n",
    "                \"mpl.rcParams['legend.loc'] = 'best'\",\n",
    "                \"mpl.rcParams['savefig.bbox'] = 'tight'\"\n",
    "            ]\n",
    "        }\n",
    "    ]\n",
    "}"
   ]
  },
  {
   "cell_type": "code",
   "execution_count": 6,
   "metadata": {
    "ExecuteTime": {
     "end_time": "2018-12-29T00:16:34.796850Z",
     "start_time": "2018-12-29T00:16:34.790344Z"
    }
   },
   "outputs": [],
   "source": [
    "# # 写入snips\n",
    "model = snips\n",
    "with open(path,'w',encoding='utf-8') as json_file:\n",
    "         json.dump(model,json_file,ensure_ascii=False)"
   ]
  },
  {
   "cell_type": "code",
   "execution_count": null,
   "metadata": {},
   "outputs": [],
   "source": []
  }
 ],
 "metadata": {
  "kernelspec": {
   "display_name": "Python 3",
   "language": "python",
   "name": "python3"
  },
  "language_info": {
   "codemirror_mode": {
    "name": "ipython",
    "version": 3
   },
   "file_extension": ".py",
   "mimetype": "text/x-python",
   "name": "python",
   "nbconvert_exporter": "python",
   "pygments_lexer": "ipython3",
   "version": "3.7.1"
  },
  "toc": {
   "base_numbering": 1,
   "nav_menu": {},
   "number_sections": true,
   "sideBar": true,
   "skip_h1_title": false,
   "title_cell": "Table of Contents",
   "title_sidebar": "Contents",
   "toc_cell": false,
   "toc_position": {},
   "toc_section_display": true,
   "toc_window_display": false
  },
  "varInspector": {
   "cols": {
    "lenName": 16,
    "lenType": 16,
    "lenVar": 40
   },
   "kernels_config": {
    "python": {
     "delete_cmd_postfix": "",
     "delete_cmd_prefix": "del ",
     "library": "var_list.py",
     "varRefreshCmd": "print(var_dic_list())"
    },
    "r": {
     "delete_cmd_postfix": ") ",
     "delete_cmd_prefix": "rm(",
     "library": "var_list.r",
     "varRefreshCmd": "cat(var_dic_list()) "
    }
   },
   "types_to_exclude": [
    "module",
    "function",
    "builtin_function_or_method",
    "instance",
    "_Feature"
   ],
   "window_display": false
  }
 },
 "nbformat": 4,
 "nbformat_minor": 2
}
