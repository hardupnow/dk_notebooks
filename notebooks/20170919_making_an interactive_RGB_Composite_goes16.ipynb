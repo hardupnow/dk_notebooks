{
 "cells": [
  {
   "cell_type": "markdown",
   "metadata": {},
   "source": [
    "# Make an interactive RGB composite\n",
    "https://github.com/Unidata/unidata-python-workshop/blob/master/notebooks/Satellite_Data/GOES_Interactive_Plot.ipynb"
   ]
  },
  {
   "cell_type": "code",
   "execution_count": 1,
   "metadata": {
    "collapsed": true
   },
   "outputs": [],
   "source": [
    "from datetime import datetime\n",
    "\n",
    "import cartopy.crs as ccrs\n",
    "import cartopy.feature as cfeat\n",
    "from IPython.display import display\n",
    "from ipywidgets import DatePicker, Dropdown, interact, fixed, Select, FloatRangeSlider\n",
    "from matplotlib import patheffects\n",
    "import matplotlib.pyplot as plt\n",
    "from netCDF4 import Dataset\n",
    "import numpy as np\n",
    "from scipy import interpolate\n",
    "from siphon.catalog import TDSCatalog"
   ]
  },
  {
   "cell_type": "code",
   "execution_count": 2,
   "metadata": {
    "collapsed": true
   },
   "outputs": [],
   "source": [
    "def open_dataset(date, channel, idx, region):\n",
    "    \"\"\"\n",
    "    Open and return a netCDF Dataset object for a given date, channel, and image index\n",
    "    of GOES-16 data from THREDDS test server.\n",
    "    \"\"\"\n",
    "    cat = TDSCatalog('http://thredds-test.unidata.ucar.edu/thredds/catalog/satellite/goes16/GOES16/'\n",
    "             '{}/Channel{:02d}/{}/catalog.xml'.format(region, channel, date))\n",
    "    dataset_name = list(cat.datasets)[idx]\n",
    "    dataset = cat.datasets[dataset_name]                       \n",
    "    ds = Dataset(dataset.access_urls['OPENDAP'])\n",
    "    return ds"
   ]
  },
  {
   "cell_type": "code",
   "execution_count": 3,
   "metadata": {
    "collapsed": true
   },
   "outputs": [],
   "source": [
    "def plot_GOES16_channel(date, idx, channel, region):\n",
    "    \"\"\"\n",
    "    Get and plot a GOES 16 data band from the ABI.\n",
    "    \"\"\"\n",
    "    ds = open_dataset(date, channel, idx, region)\n",
    "    x = ds.variables['x'][:]\n",
    "    y = ds.variables['y'][:]\n",
    "    z = ds.variables['Sectorized_CMI'][:]\n",
    "    proj_var = ds.variables[ds.variables['Sectorized_CMI'].grid_mapping]\n",
    "\n",
    "    # Create a Globe specifying a spherical earth with the correct radius\n",
    "    globe = ccrs.Globe(ellipse='sphere', semimajor_axis=proj_var.semi_major,\n",
    "                       semiminor_axis=proj_var.semi_minor)\n",
    "\n",
    "    proj = ccrs.LambertConformal(central_longitude=proj_var.longitude_of_central_meridian,\n",
    "                                 central_latitude=proj_var.latitude_of_projection_origin,\n",
    "                                 standard_parallels=[proj_var.standard_parallel],\n",
    "                                 globe=globe)\n",
    "\n",
    "\n",
    "    # Set up a feature for the state/province lines. Tell cartopy not to fill in the polygons\n",
    "    state_boundaries = cfeat.NaturalEarthFeature(category='cultural',\n",
    "                                                 name='admin_1_states_provinces_lakes',\n",
    "                                                 scale='50m', facecolor='none')\n",
    "\n",
    "    fig = plt.figure(figsize=(10, 10))\n",
    "    ax = fig.add_subplot(1, 1, 1, projection=proj)\n",
    "    ax.coastlines(resolution='50m', color='black')\n",
    "    ax.add_feature(state_boundaries, linestyle=':', edgecolor='black')\n",
    "    ax.add_feature(cfeat.BORDERS, linewidth='2', edgecolor='black')\n",
    "\n",
    "    for im in ax.images:\n",
    "        im.remove()\n",
    "    im = ax.imshow(z, extent=(x.min(), x.max(), y.min(), y.max()), origin='upper')\n",
    "    timestamp = datetime.strptime(ds.start_date_time, '%Y%j%H%M%S')\n",
    "    # Add text (aligned to the right); save the returned object so we can manipulate it.\n",
    "    text_time = ax.text(0.99, 0.01, timestamp.strftime('%d %B %Y %H%MZ'),\n",
    "                   horizontalalignment='right', transform=ax.transAxes,\n",
    "                   color='white', fontsize='x-large', weight='bold')\n",
    "\n",
    "    text_channel = ax.text(0.5, 0.94, 'Channel {}'.format(channel),\n",
    "                   horizontalalignment='center', transform=ax.transAxes,\n",
    "                   color='white', fontsize='large', weight='bold')\n",
    "    \n",
    "    text_experimental = ax.text(0.5, 0.97, 'Experimental GOES-16 Data',\n",
    "               horizontalalignment='center', transform=ax.transAxes,\n",
    "               color='white', fontsize='large', weight='bold')\n",
    "\n",
    "    # Make the text stand out even better using matplotlib's path effects\n",
    "    # Make the text stand out even better using matplotlib's path effects\n",
    "    outline_effect = [patheffects.withStroke(linewidth=2, foreground='black')]\n",
    "    text_time.set_path_effects(outline_effect)\n",
    "    text_channel.set_path_effects(outline_effect)\n",
    "    text_experimental.set_path_effects(outline_effect)\n",
    "    display(fig)\n",
    "    plt.close()"
   ]
  },
  {
   "cell_type": "code",
   "execution_count": 4,
   "metadata": {},
   "outputs": [
    {
     "data": {
      "application/vnd.jupyter.widget-view+json": {
       "model_id": "b54a47d7aa0644749d43fa5d300c781d",
       "version_major": 2,
       "version_minor": 0
      },
      "text/html": [
       "<p>Failed to display Jupyter Widget of type <code>interactive</code>.</p>\n",
       "<p>\n",
       "  If you're reading this message in Jupyter Notebook or JupyterLab, it may mean\n",
       "  that the widgets JavaScript is still loading. If this message persists, it\n",
       "  likely means that the widgets JavaScript library is either not installed or\n",
       "  not enabled. See the <a href=\"https://ipywidgets.readthedocs.io/en/stable/user_install.html\">Jupyter\n",
       "  Widgets Documentation</a> for setup instructions.\n",
       "</p>\n",
       "<p>\n",
       "  If you're reading this message in another notebook frontend (for example, a static\n",
       "  rendering on GitHub or <a href=\"https://nbviewer.jupyter.org/\">NBViewer</a>),\n",
       "  it may mean that your frontend doesn't currently support widgets.\n",
       "</p>\n"
      ],
      "text/plain": [
       "interactive(children=(Dropdown(description='Channel:', index=8, options={'1 - Blue Band': 1, '2 - Red Band': 2, '3 - Veggie Band': 3, '4 - Cirrus Band': 4, '5 - Snow/Ice Band:': 5, '6 - Cloud Particle Size Band': 6, '7 - Shortwave Window Band': 7, '8 - Upper-Level Tropo. WV Band': 8, '9 - Mid-Level Tropo. WV Band': 9, '10 - Low-Level WV Band': 10, '11 - Cloud-Top Phase Band': 11, '12 - Ozone Band': 12, '13 - Clean IR Longwave Band': 13, '14 - IR Longwave Band': 14, '15 - Dirty Longwave Band': 15, '16 - CO2 Longwave IR': 16}, value=9), Select(description='Region:', options=('Mesoscale-1', 'Mesoscale-2', 'CONUS'), value='Mesoscale-1'), Output()), _dom_classes=('widget-interact',))"
      ]
     },
     "metadata": {},
     "output_type": "display_data"
    },
    {
     "data": {
      "text/plain": [
       "<function __main__.plot_GOES16_channel>"
      ]
     },
     "execution_count": 4,
     "metadata": {},
     "output_type": "execute_result"
    }
   ],
   "source": [
    "channel_list = {'1 - Blue Band': 1,\n",
    "                '2 - Red Band': 2,\n",
    "                '3 - Veggie Band': 3,\n",
    "                '4 - Cirrus Band': 4,\n",
    "                '5 - Snow/Ice Band:': 5,\n",
    "                '6 - Cloud Particle Size Band': 6,\n",
    "                '7 - Shortwave Window Band': 7,\n",
    "                '8 - Upper-Level Tropo. WV Band': 8,\n",
    "                '9 - Mid-Level Tropo. WV Band': 9,\n",
    "                '10 - Low-Level WV Band': 10,\n",
    "                '11 - Cloud-Top Phase Band': 11,\n",
    "                '12 - Ozone Band': 12,\n",
    "                '13 - Clean IR Longwave Band': 13,\n",
    "                '14 - IR Longwave Band': 14,\n",
    "                '15 - Dirty Longwave Band': 15,\n",
    "                '16 - CO2 Longwave IR': 16}\n",
    "\n",
    "region = Select(\n",
    "    options=['Mesoscale-1', 'Mesoscale-2', 'CONUS'],\n",
    "    #value='Mesoscale 1',\n",
    "    description='Region:',\n",
    ")\n",
    "\n",
    "channel = Dropdown(\n",
    "    options=channel_list,\n",
    "    value=9,\n",
    "    description='Channel:',\n",
    ")\n",
    "\n",
    "date = datetime.strftime(datetime.utcnow(), '%Y%m%d')\n",
    "interact(plot_GOES16_channel, date=fixed(date), idx=fixed(-2), \n",
    "         channel=channel, region=region)"
   ]
  },
  {
   "cell_type": "code",
   "execution_count": null,
   "metadata": {
    "collapsed": true
   },
   "outputs": [],
   "source": []
  }
 ],
 "metadata": {
  "hide_input": false,
  "kernelspec": {
   "display_name": "Python 3",
   "language": "python",
   "name": "python3"
  },
  "language_info": {
   "codemirror_mode": {
    "name": "ipython",
    "version": 3
   },
   "file_extension": ".py",
   "mimetype": "text/x-python",
   "name": "python",
   "nbconvert_exporter": "python",
   "pygments_lexer": "ipython3",
   "version": "3.7.1"
  },
  "toc": {
   "nav_menu": {
    "height": "30px",
    "width": "252px"
   },
   "number_sections": true,
   "sideBar": true,
   "skip_h1_title": false,
   "toc_cell": false,
   "toc_position": {},
   "toc_section_display": "block",
   "toc_window_display": false
  },
  "varInspector": {
   "cols": {
    "lenName": 16,
    "lenType": 16,
    "lenVar": 40
   },
   "kernels_config": {
    "python": {
     "delete_cmd_postfix": "",
     "delete_cmd_prefix": "del ",
     "library": "var_list.py",
     "varRefreshCmd": "print(var_dic_list())"
    },
    "r": {
     "delete_cmd_postfix": ") ",
     "delete_cmd_prefix": "rm(",
     "library": "var_list.r",
     "varRefreshCmd": "cat(var_dic_list()) "
    }
   },
   "types_to_exclude": [
    "module",
    "function",
    "builtin_function_or_method",
    "instance",
    "_Feature"
   ],
   "window_display": false
  }
 },
 "nbformat": 4,
 "nbformat_minor": 2
}
