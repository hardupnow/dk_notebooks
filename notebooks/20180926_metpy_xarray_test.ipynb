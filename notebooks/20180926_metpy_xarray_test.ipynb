{
 "cells": [
  {
   "cell_type": "code",
   "execution_count": 1,
   "metadata": {},
   "outputs": [],
   "source": [
    "import cartopy.crs as ccrs\n",
    "import cartopy.feature as cfeasture\n",
    "import matplotlib.pyplot as plt\n",
    "import xarray as xr\n",
    "\n",
    "import metpy.calc as mpcalc\n",
    "from metpy.testing import get_test_data"
   ]
  },
  {
   "cell_type": "code",
   "execution_count": 3,
   "metadata": {},
   "outputs": [
    {
     "name": "stderr",
     "output_type": "stream",
     "text": [
      "C:\\Anaconda3\\lib\\site-packages\\pooch\\core.py:232: UserWarning: Downloading data file 'irma_gfs_example.nc' from remote data store 'https://github.com/Unidata/MetPy/raw/v0.9.1/staticdata/' to 'C:\\Users\\kan.dai\\AppData\\Local\\metpy\\cache\\v0.9.1'.\n",
      "  action, fname, self.base_url, str(self.path)\n"
     ]
    },
    {
     "name": "stdout",
     "output_type": "stream",
     "text": [
      "<xarray.Dataset>\n",
      "Dimensions:                              (isobaric1: 21, isobaric3: 31, latitude: 81, longitude: 131, time1: 9)\n",
      "Coordinates:\n",
      "  * time1                                (time1) datetime64[ns] 2017-09-05T12:00:00 ... 2017-09-06T12:00:00\n",
      "    reftime                              datetime64[ns] ...\n",
      "  * latitude                             (latitude) float32 50.0 49.5 ... 10.0\n",
      "  * isobaric3                            (isobaric3) float64 100.0 ... 1e+05\n",
      "  * isobaric1                            (isobaric1) float64 1e+04 ... 1e+05\n",
      "  * longitude                            (longitude) float32 250.0 ... 315.0\n",
      "Data variables:\n",
      "    Vertical_velocity_pressure_isobaric  (time1, isobaric1, latitude, longitude) float32 ...\n",
      "    Relative_humidity_isobaric           (time1, isobaric3, latitude, longitude) float32 ...\n",
      "    Temperature_isobaric                 (time1, isobaric3, latitude, longitude) float32 ...\n",
      "    u-component_of_wind_isobaric         (time1, isobaric3, latitude, longitude) float32 ...\n",
      "    v-component_of_wind_isobaric         (time1, isobaric3, latitude, longitude) float32 ...\n",
      "    Geopotential_height_isobaric         (time1, isobaric3, latitude, longitude) float32 ...\n",
      "    LatLon_361X720-0p25S-180p00E         int32 ...\n",
      "Attributes:\n",
      "    Originating_or_generating_Center:                                        ...\n",
      "    Originating_or_generating_Subcenter:                                     ...\n",
      "    GRIB_table_version:                                                      ...\n",
      "    Type_of_generating_process:                                              ...\n",
      "    Analysis_or_forecast_generating_process_identifier_defined_by_originating...\n",
      "    Conventions:                                                             ...\n",
      "    history:                                                                 ...\n",
      "    featureType:                                                             ...\n",
      "    History:                                                                 ...\n",
      "    geospatial_lat_min:                                                      ...\n",
      "    geospatial_lat_max:                                                      ...\n",
      "    geospatial_lon_min:                                                      ...\n",
      "    geospatial_lon_max:                                                      ...\n"
     ]
    }
   ],
   "source": [
    "# Open netCDF file as a xarray Dataset\n",
    "data = xr.open_dataset(get_test_data('irma_gfs_example.nc', False))\n",
    "\n",
    "#view a summary of the Dataset\n",
    "print(data)"
   ]
  },
  {
   "cell_type": "code",
   "execution_count": 4,
   "metadata": {},
   "outputs": [],
   "source": [
    "# Parse the dataset for projection and coordinate information\n",
    "data = data.metpy.parse_cf()"
   ]
  },
  {
   "cell_type": "code",
   "execution_count": 6,
   "metadata": {},
   "outputs": [],
   "source": [
    "# Parse only a single variable\n",
    "data_var = data.metpy.parse_cf('Temperature_isobaric')"
   ]
  },
  {
   "cell_type": "code",
   "execution_count": 7,
   "metadata": {},
   "outputs": [
    {
     "data": {
      "text/plain": [
       "<xarray.DataArray 'Temperature_isobaric' (time1: 9, isobaric3: 31, latitude: 81, longitude: 131)>\n",
       "[2960469 values with dtype=float32]\n",
       "Coordinates:\n",
       "  * time1      (time1) datetime64[ns] 2017-09-05T12:00:00 ... 2017-09-06T12:00:00\n",
       "    reftime    datetime64[ns] 2017-09-05T12:00:00\n",
       "  * latitude   (latitude) float32 50.0 49.5 49.0 48.5 ... 11.5 11.0 10.5 10.0\n",
       "  * longitude  (longitude) float32 250.0 250.5 251.0 251.5 ... 314.0 314.5 315.0\n",
       "    crs        object Projection: latitude_longitude\n",
       "  * isobaric3  (isobaric3) float64 100.0 200.0 300.0 ... 9.5e+04 9.75e+04 1e+05\n",
       "Attributes:\n",
       "    long_name:                      Temperature @ Isobaric surface\n",
       "    units:                          K\n",
       "    Grib_Variable_Id:               VAR_0-0-0_L100\n",
       "    Grib2_Parameter:                [0 0 0]\n",
       "    Grib2_Parameter_Discipline:     Meteorological products\n",
       "    Grib2_Parameter_Category:       Temperature\n",
       "    Grib2_Parameter_Name:           Temperature\n",
       "    Grib2_Level_Type:               100\n",
       "    Grib2_Level_Desc:               Isobaric surface\n",
       "    Grib2_Generating_Process_Type:  Forecast"
      ]
     },
     "execution_count": 7,
     "metadata": {},
     "output_type": "execute_result"
    }
   ],
   "source": [
    "data_var"
   ]
  },
  {
   "cell_type": "code",
   "execution_count": 8,
   "metadata": {},
   "outputs": [
    {
     "data": {
      "text/plain": [
       "<xarray.Dataset>\n",
       "Dimensions:                       (isobaric1: 21, isobaric3: 31, latitude: 81, longitude: 131, time1: 9)\n",
       "Coordinates:\n",
       "  * time1                         (time1) datetime64[ns] 2017-09-05T12:00:00 ... 2017-09-06T12:00:00\n",
       "    reftime                       datetime64[ns] 2017-09-05T12:00:00\n",
       "  * latitude                      (latitude) float32 50.0 49.5 ... 10.5 10.0\n",
       "  * isobaric1                     (isobaric1) float64 1e+04 1.5e+04 ... 1e+05\n",
       "  * longitude                     (longitude) float32 250.0 250.5 ... 315.0\n",
       "    crs                           object Projection: latitude_longitude\n",
       "  * isobaric3                     (isobaric3) float64 100.0 200.0 ... 1e+05\n",
       "Data variables:\n",
       "    omega                         (time1, isobaric1, latitude, longitude) float32 ...\n",
       "    relative_humidity             (time1, isobaric3, latitude, longitude) float32 ...\n",
       "    temperature                   (time1, isobaric3, latitude, longitude) float32 ...\n",
       "    u                             (time1, isobaric3, latitude, longitude) float32 ...\n",
       "    v                             (time1, isobaric3, latitude, longitude) float32 ...\n",
       "    height                        (time1, isobaric3, latitude, longitude) float32 ...\n",
       "    LatLon_361X720-0p25S-180p00E  int32 ..."
      ]
     },
     "execution_count": 8,
     "metadata": {},
     "output_type": "execute_result"
    }
   ],
   "source": [
    "data.rename({\n",
    "    'Vertical_velocity_pressure_isobaric': 'omega',\n",
    "    'Relative_humidity_isobaric': 'relative_humidity',\n",
    "    'Temperature_isobaric': 'temperature',\n",
    "    'u-component_of_wind_isobaric': 'u',\n",
    "    'v-component_of_wind_isobaric': 'v',\n",
    "    'Geopotential_height_isobaric': 'height'\n",
    "}, inplace=True)"
   ]
  },
  {
   "cell_type": "code",
   "execution_count": 9,
   "metadata": {},
   "outputs": [],
   "source": [
    "data['isobaric1'].metpy.convert_units('hPa')"
   ]
  },
  {
   "cell_type": "code",
   "execution_count": 11,
   "metadata": {},
   "outputs": [],
   "source": [
    "data['isobaric3'].metpy.convert_units('hPa')"
   ]
  },
  {
   "cell_type": "code",
   "execution_count": 12,
   "metadata": {},
   "outputs": [],
   "source": [
    "x, y = data['temperature'].metpy.coordinates('x', 'y')"
   ]
  },
  {
   "cell_type": "code",
   "execution_count": 14,
   "metadata": {},
   "outputs": [],
   "source": [
    "vertical, = data['temperature'].metpy.coordinates('vertical')"
   ]
  },
  {
   "cell_type": "code",
   "execution_count": 15,
   "metadata": {},
   "outputs": [],
   "source": [
    "time = data['temperature'].metpy.time"
   ]
  },
  {
   "cell_type": "code",
   "execution_count": 16,
   "metadata": {},
   "outputs": [
    {
     "name": "stdout",
     "output_type": "stream",
     "text": [
      "['longitude', 'latitude', 'isobaric3', 'time1']\n"
     ]
    }
   ],
   "source": [
    "print([coord.name for coord in (x,y,vertical,time)])"
   ]
  },
  {
   "cell_type": "code",
   "execution_count": 17,
   "metadata": {},
   "outputs": [],
   "source": [
    "data_crs = data['temperature'].metpy.cartopy_crs"
   ]
  },
  {
   "cell_type": "code",
   "execution_count": 20,
   "metadata": {},
   "outputs": [],
   "source": [
    "data_globe = data['temperature'].metpy.cartopy_globe"
   ]
  },
  {
   "cell_type": "code",
   "execution_count": 21,
   "metadata": {},
   "outputs": [],
   "source": [
    "lat, lon = xr.broadcast(y, x)"
   ]
  },
  {
   "cell_type": "code",
   "execution_count": 22,
   "metadata": {},
   "outputs": [],
   "source": [
    "f = mpcalc.coriolis_parameter(lat)"
   ]
  },
  {
   "cell_type": "code",
   "execution_count": null,
   "metadata": {},
   "outputs": [],
   "source": []
  }
 ],
 "metadata": {
  "kernelspec": {
   "display_name": "Python 3",
   "language": "python",
   "name": "python3"
  },
  "language_info": {
   "codemirror_mode": {
    "name": "ipython",
    "version": 3
   },
   "file_extension": ".py",
   "mimetype": "text/x-python",
   "name": "python",
   "nbconvert_exporter": "python",
   "pygments_lexer": "ipython3",
   "version": "3.6.6"
  }
 },
 "nbformat": 4,
 "nbformat_minor": 2
}
