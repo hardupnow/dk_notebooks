{
 "cells": [
  {
   "cell_type": "markdown",
   "metadata": {},
   "source": [
    "<a name=\"pagetop\"></a>\n",
    "<div style=\"width:1000 px\">\n",
    "\n",
    "<div style=\"float:right; width:98 px; height:98px;\">\n",
    "<img src=\"https://raw.githubusercontent.com/Unidata/MetPy/master/metpy/plots/_static/unidata_150x150.png\" alt=\"Unidata Logo\" style=\"height: 98px;\">\n",
    "</div>\n",
    "\n",
    "<h1>Upper Air and the Skew-T Log-P</h1>\n",
    "<h3>Unidata Python Workshop</h3>\n",
    "\n",
    "<div style=\"clear:both\"></div>\n",
    "</div>\n",
    "\n",
    "<hr style=\"height:2px;\">\n",
    "\n",
    "<div style=\"float:right; width:250 px\"><img src=\"https://unidata.github.io/MetPy/latest/_images/sphx_glr_Advanced_Sounding_001.png\" alt=\"Example Skew-T\" style=\"height: 500px;\"></div>\n",
    "\n",
    "\n",
    "## Overview:\n",
    "\n",
    "* **Teaching:** 25 minutes\n",
    "* **Exercises:** 25 minutes\n",
    "\n",
    "### Questions\n",
    "1. Where can upper air data be found and what format is it in?\n",
    "1. How can I obtain upper air data programatically?\n",
    "1. How can MetPy be used to make a Skew-T Log-P diagram and associated fiducial lines?\n",
    "1. How are themodynamic calculations performed on upper-air data?\n",
    "\n",
    "### Table of Contents\n",
    "1. <a href=\"#upperairdata\">Obtain upper air data</a>\n",
    "1. <a href=\"#makeskewt\">Make a Skew-T</a>\n",
    "1. <a href=\"#thermo\">Thermodynamics</a>\n",
    "1. <a href=\"#hodograph\">Plotting a Hodograph</a>\n",
    "1. <a href=\"#advanced\">Advanced Layout</a>"
   ]
  },
  {
   "cell_type": "markdown",
   "metadata": {},
   "source": [
    "<hr style=\"height:2px;\">\n",
    "\n",
    "<a name=\"upperairdata\"></a>\n",
    "## Obtain upper air data\n",
    "\n",
    "### Overview\n",
    "Upper air observations are generally reported as a plain text file in a tabular format that represents the down sampled raw data transmitted by the rawinsonde. Data are reported an mandatory levels and at levels of significant change. An example of sounding data may look like this:\n",
    "\n",
    "```\n",
    "-----------------------------------------------------------------------------\n",
    "   PRES   HGHT   TEMP   DWPT   RELH   MIXR   DRCT   SKNT   THTA   THTE   THTV\n",
    "    hPa     m      C      C      %    g/kg    deg   knot     K      K      K \n",
    "-----------------------------------------------------------------------------\n",
    " 1000.0    270                                                               \n",
    "  991.0    345   -0.3   -2.8     83   3.15      0      0  273.6  282.3  274.1\n",
    "  984.0    403   10.2   -7.8     27   2.17    327      4  284.7  291.1  285.0\n",
    "  963.0    581   11.8   -9.2     22   1.99    226     17  288.0  294.1  288.4\n",
    "  959.7    610   11.6   -9.4     22   1.96    210     19  288.1  294.1  288.5\n",
    "  ```\n",
    "  \n",
    "Data are available to download from the [University of Wyoming archive](http://weather.uwyo.edu/upperair/sounding.html), the [Iowa State archive](https://mesonet.agron.iastate.edu/archive/raob/), and the [Integrated Global Radiosonde Archive (IGRA)](https://www.ncdc.noaa.gov/data-access/weather-balloon/integrated-global-radiosonde-archive). **There is no need to download data manually.** We can use the siphon library (also developed at Unidata) to request and download these data. Be sure to checkout the [documentation](https://unidata.github.io/siphon/latest/api/index.html) on all of siphon's capabilities.\n",
    "\n",
    "### Getting our data\n",
    "First, we need to create a `datetime` object that has the time of observation we are looking for. We can then request the data for a specific station. Note that if you provide an invalid time or station where no sounding data are present you will receive an error."
   ]
  },
  {
   "cell_type": "code",
   "execution_count": null,
   "metadata": {},
   "outputs": [],
   "source": [
    "# Create a datetime for our request - notice the times are from laregest (year) to smallest (hour)\n",
    "from datetime import datetime\n",
    "request_time = datetime(1999, 5, 3, 12)"
   ]
  },
  {
   "cell_type": "code",
   "execution_count": null,
   "metadata": {},
   "outputs": [],
   "source": [
    "# Store the station name in a variable for flexibility and clarity\n",
    "station = 'OUN'"
   ]
  },
  {
   "cell_type": "code",
   "execution_count": null,
   "metadata": {},
   "outputs": [],
   "source": [
    "# Import the Wyoming simple web service and request the data\n",
    "# Don't worry about a possible warning from Pandas - it's related to our handling of units\n",
    "from siphon.simplewebservice.wyoming import WyomingUpperAir\n",
    "df = WyomingUpperAir.request_data(request_time, station)"
   ]
  },
  {
   "cell_type": "code",
   "execution_count": null,
   "metadata": {},
   "outputs": [],
   "source": [
    "# Let's see what we got in return\n",
    "df.head()"
   ]
  },
  {
   "cell_type": "markdown",
   "metadata": {},
   "source": [
    "We got a Pandas dataframe back, which is great. Sadly, Pandas does not play well with units, so we need to attach units and make some other kind of data structure. We've provided a helper function for this - it takes the dataframe with our special `.units` attribute and returns a dictionary where the keys are column (data series) names and the values are united arrays. This means we can still use the dictionary access syntax and mostly forget that it is not a data frame any longer.\n",
    "\n",
    "Fist, let's look at the special attribute siphon added:"
   ]
  },
  {
   "cell_type": "code",
   "execution_count": null,
   "metadata": {},
   "outputs": [],
   "source": [
    "df.units"
   ]
  },
  {
   "cell_type": "markdown",
   "metadata": {},
   "source": [
    "Now let's import the helper and the units registry from MetPy and get units attached."
   ]
  },
  {
   "cell_type": "code",
   "execution_count": null,
   "metadata": {},
   "outputs": [],
   "source": [
    "from metpy.units import pandas_dataframe_to_unit_arrays, units\n",
    "sounding = pandas_dataframe_to_unit_arrays(df)"
   ]
  },
  {
   "cell_type": "code",
   "execution_count": null,
   "metadata": {},
   "outputs": [],
   "source": [
    "sounding"
   ]
  },
  {
   "cell_type": "markdown",
   "metadata": {},
   "source": [
    "<a href=\"#pagetop\">Top</a>\n",
    "<hr style=\"height:2px;\">"
   ]
  },
  {
   "cell_type": "markdown",
   "metadata": {},
   "source": [
    "<a name=\"makeskewt\"></a>\n",
    "## Make a Skew-T\n",
    "Now that we have data, we can actually start making our Skew-T Log-P diagram. This consists of:\n",
    "\n",
    "* Import matplotlib\n",
    "* Importing the SkewT object\n",
    "* Creating a figure\n",
    "* Creating a SkewT object based upon that figure\n",
    "* Plotting our data"
   ]
  },
  {
   "cell_type": "code",
   "execution_count": null,
   "metadata": {},
   "outputs": [],
   "source": [
    "import matplotlib.pyplot as plt\n",
    "from metpy.plots import SkewT\n",
    "%matplotlib inline"
   ]
  },
  {
   "cell_type": "code",
   "execution_count": null,
   "metadata": {},
   "outputs": [],
   "source": [
    "# Create a new figure. The dimensions here give a good aspect ratio\n",
    "fig = plt.figure(figsize=(10, 10))\n",
    "skew = SkewT(fig)"
   ]
  },
  {
   "cell_type": "code",
   "execution_count": null,
   "metadata": {},
   "outputs": [],
   "source": [
    "# Plot the data using normal plotting functions, all of the transforms\n",
    "# happen in the background!\n",
    "skew.plot(sounding['pressure'], sounding['temperature'], color='tab:red')\n",
    "\n",
    "# Redisplay the figure\n",
    "fig"
   ]
  },
  {
   "cell_type": "code",
   "execution_count": null,
   "metadata": {},
   "outputs": [],
   "source": [
    "# Plot a isotherm using axvline (axis vertical line)\n",
    "skew.ax.axvline(0 * units.degC, color='cyan', linestyle='--')\n",
    "\n",
    "# Redisplay the figure\n",
    "fig"
   ]
  },
  {
   "cell_type": "markdown",
   "metadata": {},
   "source": [
    "### Exercise\n",
    "\n",
    "#### Part 1\n",
    "* Download your own data using the Iowa State archive. Have a look at the [documentation](https://unidata.github.io/siphon/latest/api/simplewebservice.html#module-siphon.simplewebservice.iastate) to help get started. Don't have a favorite case study? Try getting data for the same case as above, but from Iowa.\n",
    "* Attach units using the unit helper."
   ]
  },
  {
   "cell_type": "code",
   "execution_count": null,
   "metadata": {},
   "outputs": [],
   "source": [
    "# Import the Iowa state simple web service upper air object\n",
    "# YOUR CODE GOES HERE"
   ]
  },
  {
   "cell_type": "code",
   "execution_count": null,
   "metadata": {},
   "outputs": [],
   "source": [
    "# Create the datetime and station variables you'll need\n",
    "# YOUR CODE GOES HERE"
   ]
  },
  {
   "cell_type": "code",
   "execution_count": null,
   "metadata": {},
   "outputs": [],
   "source": [
    "# Make the request for the data\n",
    "# YOUR CODE GOES HERE"
   ]
  },
  {
   "cell_type": "code",
   "execution_count": null,
   "metadata": {},
   "outputs": [],
   "source": [
    "# Attach units to the data\n",
    "# YOUR CODE GOES HERE"
   ]
  },
  {
   "cell_type": "markdown",
   "metadata": {},
   "source": [
    "#### Solution"
   ]
  },
  {
   "cell_type": "code",
   "execution_count": null,
   "metadata": {},
   "outputs": [],
   "source": [
    "# %load solutions/skewt_get_data.py"
   ]
  },
  {
   "cell_type": "code",
   "execution_count": null,
   "metadata": {},
   "outputs": [],
   "source": [
    "df"
   ]
  },
  {
   "cell_type": "markdown",
   "metadata": {},
   "source": [
    "#### Part 2\n",
    "* Make a figure and `SkewT` object.\n",
    "* Plot the temperature and dewpoint in red and green lines.\n",
    "* Set the axis limits to sensible limits with `set_xlim` and `set_ylim`."
   ]
  },
  {
   "cell_type": "code",
   "execution_count": null,
   "metadata": {},
   "outputs": [],
   "source": [
    "# Make a figure\n",
    "\n",
    "# Make a SkewT object\n",
    "\n",
    "# Plot the temperature and dewpoint\n"
   ]
  },
  {
   "cell_type": "markdown",
   "metadata": {},
   "source": [
    "#### Solution"
   ]
  },
  {
   "cell_type": "code",
   "execution_count": null,
   "metadata": {},
   "outputs": [],
   "source": [
    "# %load solutions/skewt_make_figure.py"
   ]
  },
  {
   "cell_type": "markdown",
   "metadata": {},
   "source": [
    "#### Part 3\n",
    "* Plot wind barbs using the `plot_barbs` method of the `SkewT` object.\n",
    "* Add the fiducial lines for dry adiabats, moist adiabats, and mixing ratio lines using the `plot_dry_adiabats()`, `plot_moist_adiabats()`, `plot_mixing_lines()` functions. "
   ]
  },
  {
   "cell_type": "code",
   "execution_count": null,
   "metadata": {},
   "outputs": [],
   "source": [
    "# Plot wind barbs\n",
    "\n",
    "# Add dry adiabats\n",
    "\n",
    "# Add moist adiabats\n",
    "\n",
    "# Add mixing ratio lines\n",
    "\n",
    "# Redisplay figure\n"
   ]
  },
  {
   "cell_type": "markdown",
   "metadata": {},
   "source": [
    "#### Solution"
   ]
  },
  {
   "cell_type": "code",
   "execution_count": null,
   "metadata": {},
   "outputs": [],
   "source": [
    "# %load solutions/skewt_wind_fiducials.py"
   ]
  },
  {
   "cell_type": "markdown",
   "metadata": {},
   "source": [
    "<a href=\"#pagetop\">Top</a>\n",
    "<hr style=\"height:2px;\">"
   ]
  },
  {
   "cell_type": "markdown",
   "metadata": {},
   "source": [
    "<a name=\"thermo\"></a>\n",
    "## Thermodynamics\n",
    "\n",
    "Using MetPy's calculations functions we can calculate thermodynamic paramters like LCL, LFC, EL, CAPE, and CIN. Let's start off with the LCL."
   ]
  },
  {
   "cell_type": "code",
   "execution_count": null,
   "metadata": {},
   "outputs": [],
   "source": [
    "# Grab data for our original case and make a basic figure for us to keep working with.\n",
    "df = WyomingUpperAir.request_data(datetime(1999, 5, 3, 12), 'OUN')\n",
    "sounding = pandas_dataframe_to_unit_arrays(df)\n",
    "\n",
    "# Create a new figure and SkewT object\n",
    "fig = plt.figure(figsize=(10, 10))\n",
    "skew = SkewT(fig)\n",
    "\n",
    "skew.plot(sounding['pressure'], sounding['temperature'], color='tab:red')\n",
    "skew.plot(sounding['pressure'], sounding['dewpoint'], color='tab:blue')\n",
    "\n",
    "skew.ax.set_xlim(-60, 30)\n",
    "skew.ax.set_ylim(1000, 100)\n",
    "\n",
    "skew.plot_dry_adiabats()\n",
    "skew.plot_moist_adiabats()\n",
    "skew.plot_mixing_lines()"
   ]
  },
  {
   "cell_type": "code",
   "execution_count": null,
   "metadata": {},
   "outputs": [],
   "source": [
    "import metpy.calc as mpcalc"
   ]
  },
  {
   "cell_type": "code",
   "execution_count": null,
   "metadata": {},
   "outputs": [],
   "source": [
    "lcl_pressure, lcl_temperature = mpcalc.lcl(sounding['pressure'][0],\n",
    "                                           sounding['temperature'][0],\n",
    "                                           sounding['dewpoint'][0])\n",
    "print(lcl_pressure, lcl_temperature)"
   ]
  },
  {
   "cell_type": "markdown",
   "metadata": {},
   "source": [
    "We can this as a point on our sounding using the `scatter` method."
   ]
  },
  {
   "cell_type": "code",
   "execution_count": null,
   "metadata": {},
   "outputs": [],
   "source": [
    "skew.ax.scatter(lcl_temperature, lcl_pressure, color='k')\n",
    "fig"
   ]
  },
  {
   "cell_type": "markdown",
   "metadata": {},
   "source": [
    "We can also calculate the ideal parcel profile and plot it."
   ]
  },
  {
   "cell_type": "code",
   "execution_count": null,
   "metadata": {},
   "outputs": [],
   "source": [
    "sounding['profile'] = mpcalc.parcel_profile(sounding['pressure'], sounding['temperature'][0], sounding['dewpoint'][0])\n",
    "print(sounding['profile'])"
   ]
  },
  {
   "cell_type": "code",
   "execution_count": null,
   "metadata": {},
   "outputs": [],
   "source": [
    "# Plot the profile\n",
    "skew.plot(sounding['pressure'], sounding['profile'], color='black')\n",
    "\n",
    "# Redisplay the figure\n",
    "fig"
   ]
  },
  {
   "cell_type": "markdown",
   "metadata": {},
   "source": [
    "### Exercise\n",
    "\n",
    "#### Part 1\n",
    "* Calculate the LFC and EL for the sounding.\n",
    "* Plot them as horizontal lines with the linestyle of your choice. Remember `axvline`? Checkout `axhline` for this exercise."
   ]
  },
  {
   "cell_type": "code",
   "execution_count": null,
   "metadata": {},
   "outputs": [],
   "source": [
    "# Get data for the sounding\n",
    "df = WyomingUpperAir.request_data(datetime(1999, 5, 3, 12), 'OUN')\n",
    "\n",
    "# Calculate the ideal surface parcel path\n",
    "sounding['profile'] = mpcalc.parcel_profile(sounding['pressure'],\n",
    "                                            sounding['temperature'][0],\n",
    "                                            sounding['dewpoint'][0]).to('degC')\n",
    "\n",
    "# Calculate the LCL\n",
    "lcl_pressure, lcl_temperature = mpcalc.lcl(sounding['pressure'][0],\n",
    "                                           sounding['temperature'][0],\n",
    "                                           sounding['dewpoint'][0])\n",
    "\n",
    "# Calculate the LFC\n",
    "# YOUR CODE GOES HERE\n",
    "\n",
    "# Calculate the EL\n",
    "# YOUR CODE GOES HERE"
   ]
  },
  {
   "cell_type": "code",
   "execution_count": null,
   "metadata": {},
   "outputs": [],
   "source": [
    "# Create a new figure and SkewT object\n",
    "fig = plt.figure(figsize=(10, 10))\n",
    "skew = SkewT(fig)\n",
    "\n",
    "# Plot the profile and data\n",
    "skew.plot(sounding['pressure'], sounding['profile'], color='black')\n",
    "skew.plot(sounding['pressure'], sounding['temperature'], color='tab:red')\n",
    "skew.plot(sounding['pressure'], sounding['dewpoint'], color='tab:blue')\n",
    "\n",
    "# Plot the LCL, LFC, and EL as horizontal lines\n",
    "# YOUR CODE GOES HERE\n",
    "\n",
    "# Set axis limits\n",
    "skew.ax.set_xlim(-60, 30)\n",
    "skew.ax.set_ylim(1000, 100)\n",
    "\n",
    "# Add fiducial lines\n",
    "skew.plot_dry_adiabats()\n",
    "skew.plot_moist_adiabats()\n",
    "skew.plot_mixing_lines()"
   ]
  },
  {
   "cell_type": "markdown",
   "metadata": {},
   "source": [
    "#### Solution"
   ]
  },
  {
   "cell_type": "code",
   "execution_count": null,
   "metadata": {},
   "outputs": [],
   "source": [
    "# %load solutions/skewt_thermo.py"
   ]
  },
  {
   "cell_type": "markdown",
   "metadata": {},
   "source": [
    "#### Bonus\n",
    "* Use the function `surface_based_cape_cin` in the MetPy calculations module to calculate the CAPE and CIN of this sounding. Print out the values\n",
    "* Using the methods `shade_cape` and `shade_cin` on the SkewT object, shade the areas representing CAPE and CIN."
   ]
  },
  {
   "cell_type": "code",
   "execution_count": null,
   "metadata": {},
   "outputs": [],
   "source": [
    "# Calculate surface based cape/cin\n",
    "# YOUR CODE GOES HERE\n",
    "\n",
    "# Print CAPE and CIN\n",
    "# YOUR CODE GOES HERE\n"
   ]
  },
  {
   "cell_type": "code",
   "execution_count": null,
   "metadata": {},
   "outputs": [],
   "source": [
    "# Shade CAPE\n",
    "# YOUR CODE GOES HERE\n",
    "\n",
    "# Shade CIN\n",
    "# YOUR CODE GOES HERE\n",
    "\n",
    "# Redisplay the figure\n",
    "fig"
   ]
  },
  {
   "cell_type": "markdown",
   "metadata": {},
   "source": [
    "#### Solution"
   ]
  },
  {
   "cell_type": "code",
   "execution_count": null,
   "metadata": {},
   "outputs": [],
   "source": [
    "# %load solutions/skewt_cape_cin.py"
   ]
  },
  {
   "cell_type": "markdown",
   "metadata": {},
   "source": [
    "<a href=\"#pagetop\">Top</a>\n",
    "<hr style=\"height:2px;\">"
   ]
  },
  {
   "cell_type": "markdown",
   "metadata": {},
   "source": [
    "<a name=\"hodograph\"></a>\n",
    "## Plotting a Hodograph\n",
    "\n",
    "Hodographs are a great way to look at wind shear - they are created by drawing wind vectors, all starting at the origin of a plot, and the connecting the vector tips. They are often thought of as a polar plot where the range rings (lines of constant radius) represent speed and the angle representes the compass angle of the wind.\n",
    "\n",
    "In MetPy we can create a hodograph in a similar way to a skew-T - we create a hodograph object and attach it to an axes."
   ]
  },
  {
   "cell_type": "code",
   "execution_count": null,
   "metadata": {},
   "outputs": [],
   "source": [
    "# Import the hodograph class\n",
    "from metpy.plots import Hodograph"
   ]
  },
  {
   "cell_type": "code",
   "execution_count": null,
   "metadata": {},
   "outputs": [],
   "source": [
    "# Make a figure and axis\n",
    "fig, ax = plt.subplots(1, 1, figsize=(6, 6))\n",
    "\n",
    "# Create a hodograph\n",
    "h = Hodograph(ax, component_range=60.)\n",
    "\n",
    "# Add \"range rings\" to the plot\n",
    "h.add_grid(increment=20)\n",
    "\n",
    "# Plot the wind data\n",
    "h.plot(sounding['u_wind'], sounding['v_wind'], color='tab:red')"
   ]
  },
  {
   "cell_type": "markdown",
   "metadata": {},
   "source": [
    "We can even add wind vectors, which is helpful for learning/teaching hodographs."
   ]
  },
  {
   "cell_type": "code",
   "execution_count": null,
   "metadata": {},
   "outputs": [],
   "source": [
    "# Add vectors\n",
    "h.wind_vectors(sounding['u_wind'], sounding['v_wind'])\n",
    "\n",
    "# Redisplay figure\n",
    "fig"
   ]
  },
  {
   "cell_type": "markdown",
   "metadata": {},
   "source": [
    "This is great, but we generally don't care about wind shear for the entire sounding. Let's say we want to view it in the lowest 10km of the atmosphere. We can do this with the powerful, but complex `get_layer` function. Let's get a subset of the u-wind, v-wind, and windspeed."
   ]
  },
  {
   "cell_type": "code",
   "execution_count": null,
   "metadata": {},
   "outputs": [],
   "source": [
    "(_, u_trimmed, v_trimmed,\n",
    " speed_trimmed, height_trimmed) = mpcalc.get_layer(sounding['pressure'],\n",
    "                                                   sounding['u_wind'],\n",
    "                                                   sounding['v_wind'],\n",
    "                                                   sounding['speed'],\n",
    "                                                   sounding['height'],\n",
    "                                                   heights=sounding['height'],\n",
    "                                                   depth=10 * units.km)"
   ]
  },
  {
   "cell_type": "markdown",
   "metadata": {},
   "source": [
    "Let's make the same hodograph again, but we'll also color the line by the value of the windspeed and we'll use the trimmed data we just created."
   ]
  },
  {
   "cell_type": "code",
   "execution_count": null,
   "metadata": {},
   "outputs": [],
   "source": [
    "from metpy.plots import colortables\n",
    "import numpy as np"
   ]
  },
  {
   "cell_type": "code",
   "execution_count": null,
   "metadata": {},
   "outputs": [],
   "source": [
    "fig, ax = plt.subplots(1, 1, figsize=(6, 6))\n",
    "\n",
    "h = Hodograph(ax, component_range=60.)\n",
    "h.add_grid(increment=20)\n",
    "\n",
    "norm, cmap = colortables.get_with_range('ir_rgbv', np.nanmin(speed_trimmed),\n",
    "                                        np.nanmax(speed_trimmed))\n",
    "\n",
    "h.plot_colormapped(u_trimmed, v_trimmed, speed_trimmed,\n",
    "                   cmap=cmap, norm=norm)\n",
    "h.wind_vectors(u_trimmed[::3], v_trimmed[::3])"
   ]
  },
  {
   "cell_type": "markdown",
   "metadata": {},
   "source": [
    "### Exercise\n",
    "In this exercise you'll create a hodograph that is colored by a variable that is not displayed - height above ground level. We generally wouldn't want to color this in a continuous fashion, so we'll make a hodograph that is segmented by height.\n",
    "\n",
    "#### Part 1\n",
    "* Make a variable to hold the height above ground level (subtract the surface height from the heights in the sounding).\n",
    "* Make an list of boundary values that we'll use to segment the hodograph from 0-1, 1-3, 3-5, and 5-8 km. (Hint the array should have one more value than the number of segments desired.)\n",
    "* Make a list of colors for each segment."
   ]
  },
  {
   "cell_type": "code",
   "execution_count": null,
   "metadata": {},
   "outputs": [],
   "source": [
    "# Calculate the height above ground level (AGL)\n",
    "# YOUR CODE GOES HERE"
   ]
  },
  {
   "cell_type": "code",
   "execution_count": null,
   "metadata": {},
   "outputs": [],
   "source": [
    "# Make an array of segment boundaries - don't forget units!\n",
    "# YOUR CODE GOES HERE"
   ]
  },
  {
   "cell_type": "code",
   "execution_count": null,
   "metadata": {},
   "outputs": [],
   "source": [
    "# Make a list of colors for the segments\n",
    "# YOUR CODE GOES HERE"
   ]
  },
  {
   "cell_type": "markdown",
   "metadata": {},
   "source": [
    "#### Solution"
   ]
  },
  {
   "cell_type": "code",
   "execution_count": null,
   "metadata": {},
   "outputs": [],
   "source": [
    "# %load solutions/hodograph_preprocessing.py"
   ]
  },
  {
   "cell_type": "markdown",
   "metadata": {},
   "source": [
    "#### Part 2\n",
    "* Make a new figure and hodograph object.\n",
    "* Using the `bounds` and `colors` keyword arguments to `plot_colormapped` create the segmented hodograph.\n",
    "* BONUS: Add a colorbar!"
   ]
  },
  {
   "cell_type": "code",
   "execution_count": null,
   "metadata": {},
   "outputs": [],
   "source": [
    "# Create figure/axis\n",
    "# YOUR CODE GOES HERE\n",
    "\n",
    "# Create a hodograph object/fiducial lines\n",
    "# YOUR CODE GOES HERE\n",
    "\n",
    "# Plot the data\n",
    "# YOUR CODE GOES HERE\n",
    "\n",
    "# BONUS - add a colorbar\n",
    "# YOUR CODE GOES HERE"
   ]
  },
  {
   "cell_type": "markdown",
   "metadata": {},
   "source": [
    "#### Solution"
   ]
  },
  {
   "cell_type": "code",
   "execution_count": null,
   "metadata": {},
   "outputs": [],
   "source": [
    "# %load solutions/hodograph_segmented.py"
   ]
  },
  {
   "cell_type": "markdown",
   "metadata": {},
   "source": [
    "<a href=\"#pagetop\">Top</a>\n",
    "<hr style=\"height:2px;\">"
   ]
  },
  {
   "cell_type": "markdown",
   "metadata": {},
   "source": [
    "<a name=\"advanced\"></a>\n",
    "## Advanced Layout\n",
    "This section is meant to show you some fancy matplotlib to make nice Skew-T/Hodograph combinations. It's a good starting place to make your custom plot for your needs."
   ]
  },
  {
   "cell_type": "code",
   "execution_count": null,
   "metadata": {},
   "outputs": [],
   "source": [
    "# Get the data we want\n",
    "df = WyomingUpperAir.request_data(datetime(1998, 10, 4, 0), 'OUN')\n",
    "sounding = pandas_dataframe_to_unit_arrays(df)"
   ]
  },
  {
   "cell_type": "code",
   "execution_count": null,
   "metadata": {},
   "outputs": [],
   "source": [
    "# Calculate thermodynamics\n",
    "lcl_pressure, lcl_temperature = mpcalc.lcl(sounding['pressure'][0],\n",
    "                                           sounding['temperature'][0],\n",
    "                                           sounding['dewpoint'][0])\n",
    "\n",
    "lfc_pressure, lfc_temperature = mpcalc.lfc(sounding['pressure'],\n",
    "                                           sounding['temperature'],\n",
    "                                           sounding['dewpoint'])\n",
    "\n",
    "el_pressure, el_temperature = mpcalc.el(sounding['pressure'],\n",
    "                                        sounding['temperature'],\n",
    "                                        sounding['dewpoint'])\n",
    "\n",
    "parcel_profile = mpcalc.parcel_profile(sounding['pressure'],\n",
    "                                       sounding['temperature'][0],\n",
    "                                       sounding['dewpoint'][0])"
   ]
  },
  {
   "cell_type": "code",
   "execution_count": null,
   "metadata": {},
   "outputs": [],
   "source": [
    "# Some new imports\n",
    "import matplotlib.gridspec as gridspec\n",
    "from mpl_toolkits.axes_grid1.inset_locator import inset_axes\n",
    "from metpy.plots import add_metpy_logo"
   ]
  },
  {
   "cell_type": "code",
   "execution_count": null,
   "metadata": {},
   "outputs": [],
   "source": [
    "# Make the plot\n",
    "# Create a new figure. The dimensions here give a good aspect ratio\n",
    "fig = plt.figure(figsize=(9, 9))\n",
    "add_metpy_logo(fig, 630, 80, size='large')\n",
    "\n",
    "# Grid for plots\n",
    "gs = gridspec.GridSpec(3, 3)\n",
    "skew = SkewT(fig, rotation=45, subplot=gs[:, :2])\n",
    "\n",
    "# Plot the sounding using normal plotting functions, in this case using\n",
    "# log scaling in Y, as dictated by the typical meteorological plot\n",
    "skew.plot(sounding['pressure'], sounding['temperature'], 'tab:red')\n",
    "skew.plot(sounding['pressure'], sounding['dewpoint'], 'tab:green')\n",
    "skew.plot(sounding['pressure'], parcel_profile, 'k')\n",
    "\n",
    "# Mask barbs to be below 100 hPa only\n",
    "mask = sounding['pressure'] >= 100 * units.hPa\n",
    "skew.plot_barbs(sounding['pressure'][mask], sounding['u_wind'][mask], sounding['v_wind'][mask])\n",
    "skew.ax.set_ylim(1000, 100)\n",
    "\n",
    "# Add the relevant special lines\n",
    "skew.plot_dry_adiabats()\n",
    "skew.plot_moist_adiabats()\n",
    "skew.plot_mixing_lines()\n",
    "\n",
    "# Shade areas\n",
    "skew.shade_cin(sounding['pressure'], sounding['temperature'], parcel_profile)\n",
    "skew.shade_cape(sounding['pressure'], sounding['temperature'], parcel_profile)\n",
    "\n",
    "# Good bounds for aspect ratio\n",
    "skew.ax.set_xlim(-30, 40)\n",
    "\n",
    "if lcl_pressure:\n",
    "    skew.ax.axhline(lcl_pressure, color='black')\n",
    "    \n",
    "if lfc_pressure:\n",
    "    skew.ax.axhline(lfc_pressure, color='tab:brown')\n",
    "    \n",
    "if el_pressure:\n",
    "    skew.ax.axhline(el_pressure, color='tab:blue')\n",
    "\n",
    "# Create a hodograph\n",
    "agl = sounding['height'] - sounding['height'][0]\n",
    "mask = agl <= 10 * units.km\n",
    "boundaries = np.array([0, 1, 3, 5, 8]) * units.km\n",
    "colors = ['tab:red', 'tab:green', 'tab:blue', 'tab:olive']\n",
    "ax = fig.add_subplot(gs[0, -1])\n",
    "h = Hodograph(ax, component_range=30.)\n",
    "h.add_grid(increment=10)\n",
    "h.plot_colormapped(sounding['u_wind'][mask], sounding['v_wind'][mask], agl[mask], bounds=boundaries, colors=colors)"
   ]
  },
  {
   "cell_type": "markdown",
   "metadata": {},
   "source": [
    "<a href=\"#pagetop\">Top</a>\n",
    "<hr style=\"height:2px;\">"
   ]
  }
 ],
 "metadata": {
  "kernelspec": {
   "display_name": "Python 3",
   "language": "python",
   "name": "python3"
  },
  "language_info": {
   "codemirror_mode": {
    "name": "ipython",
    "version": 3
   },
   "file_extension": ".py",
   "mimetype": "text/x-python",
   "name": "python",
   "nbconvert_exporter": "python",
   "pygments_lexer": "ipython3",
   "version": "3.7.1"
  }
 },
 "nbformat": 4,
 "nbformat_minor": 2
}
