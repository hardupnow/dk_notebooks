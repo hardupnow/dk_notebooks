{
 "cells": [
  {
   "cell_type": "markdown",
   "metadata": {},
   "source": [
    "<div style=\"width:1000 px\">\n",
    "\n",
    "<div style=\"float:right; width:98 px; height:98px;\">\n",
    "<img src=\"https://raw.githubusercontent.com/Unidata/MetPy/master/metpy/plots/_static/unidata_150x150.png\" alt=\"Unidata Logo\" style=\"height: 98px;\">\n",
    "</div>\n",
    "\n",
    "<h1>What to do when things go wrong</h1>\n",
    "<h3>Unidata Python Workshop</h3>\n",
    "\n",
    "<div style=\"clear:both\"></div>\n",
    "</div>\n",
    "\n",
    "<hr style=\"height:2px;\">\n",
    "\n",
    "<div style=\"float:right; width:250 px\"><img src=\"https://regmedia.co.uk/2015/06/15/silicon-valley-fire.jpg\" alt=\"Server on fire\" style=\"height: 200px;\"></div>\n",
    "\n",
    "This session is designed as both a workshop and group discussion.   We will examine basic failures in Python and how they manifest, followed by a discussion of what sort of errors and failure cases plague *you*, the audience.  We will try to identify things that we (Unidata) can do differently to make the software development/usage process easier for our community.  We will also pool our python knowledge/experiences to try to identify common issues and potential solutions.\n",
    "\n",
    "This is useful because, eventually, problems will arise when programming with Python. Common issues include:\n",
    "\n",
    "* Syntax Errors\n",
    "* Runtime Errors\n",
    "* Unexpected Results\n",
    "\n",
    "Identifying and correcting these issues can be difficult.  However, there are strategies for preventing and mitigating many of the problems a developer may encounter."
   ]
  },
  {
   "cell_type": "markdown",
   "metadata": {},
   "source": [
    "# Syntax Errors\n",
    "\n",
    "Syntax errors usually occur when python is translated from `source code` into `byte code`.  This is typically identified by a message similar to:\n",
    "\n",
    "~~~\n",
    "SyntaxError: invalid syntax\n",
    "~~~\n",
    "\n",
    "## Common syntax errors include:\n",
    "\n",
    "* Using a reserved python keyword for a variable name."
   ]
  },
  {
   "cell_type": "code",
   "execution_count": null,
   "metadata": {},
   "outputs": [],
   "source": [
    "while = 1"
   ]
  },
  {
   "cell_type": "markdown",
   "metadata": {},
   "source": [
    "--------\n",
    "* Missing colon at the end of `for`, `while`, `if`, `def` statements."
   ]
  },
  {
   "cell_type": "code",
   "execution_count": null,
   "metadata": {},
   "outputs": [],
   "source": [
    "for i in range(1,10) print('Hello world')"
   ]
  },
  {
   "cell_type": "markdown",
   "metadata": {},
   "source": [
    "---------------\n",
    "* Incorrect indentation. Don't mix spaces and tabs!"
   ]
  },
  {
   "cell_type": "code",
   "execution_count": null,
   "metadata": {},
   "outputs": [],
   "source": [
    "for i in range(1,10):\n",
    "  x = 1 + i\n",
    "    print(x)"
   ]
  },
  {
   "cell_type": "markdown",
   "metadata": {},
   "source": [
    "----------\n",
    "\n",
    "* Mismatched quotation marks."
   ]
  },
  {
   "cell_type": "code",
   "execution_count": null,
   "metadata": {},
   "outputs": [],
   "source": [
    "print(\"Some python issues are easier to find than others ')"
   ]
  },
  {
   "cell_type": "markdown",
   "metadata": {},
   "source": [
    "----------\n",
    "\n",
    "* Unclosed brackets"
   ]
  },
  {
   "cell_type": "code",
   "execution_count": null,
   "metadata": {},
   "outputs": [],
   "source": [
    "print(\"Missing brackets can be difficult\" , range(1,10)\n",
    "print(\"to find. probably not these ones however.\")"
   ]
  },
  {
   "cell_type": "markdown",
   "metadata": {},
   "source": [
    "# Runtime errors"
   ]
  },
  {
   "cell_type": "markdown",
   "metadata": {},
   "source": [
    "Once the program is syntactically correct, it can run and now nothing will go wrong!  Until it does.  There are multiple ways runtime errors may manifest:\n",
    "\n",
    "1. Nothing happens.\n",
    "2. The program hangs.\n",
    "3. Infinite loop or recursion."
   ]
  },
  {
   "cell_type": "markdown",
   "metadata": {},
   "source": [
    "## Debugging Runtime errors in Python with GDB\n",
    "\n",
    "It's possible to debug python using `gdb`.  It requires the pythong debugging extensions be installed.\n",
    "\n",
    "Running `gdb` interactively:\n",
    "\n",
    "````\n",
    "   $ gdb python\n",
    "   ....\n",
    "   (gdb) run <programname>.py <arguments>\n",
    "````\n",
    "\n",
    "Running `gdb` Automatically:\n",
    "\n",
    "````\n",
    "   $ gdb -ex r --args python <programname>.py <arguments>\n",
    "````\n",
    "\n",
    "The latter case runs the program until it exits, segfaults or execution is stopped.\n",
    "\n",
    "You can get a stack trace or python stack trace via:\n",
    "\n",
    "````\n",
    "   (gdb) bt\n",
    "````\n",
    "\n",
    "or\n",
    "\n",
    "````\n",
    "   (gdb) py-bt\n",
    "````   \n",
    "   "
   ]
  },
  {
   "cell_type": "markdown",
   "metadata": {},
   "source": [
    "# Handling exceptions with `try/except`\n",
    "\n",
    "Handling exceptions may done using `try/except` statements in python.  "
   ]
  },
  {
   "cell_type": "code",
   "execution_count": null,
   "metadata": {},
   "outputs": [],
   "source": [
    "x = int(input(\"Please enter a number: \"))\n",
    "print(x)"
   ]
  },
  {
   "cell_type": "code",
   "execution_count": null,
   "metadata": {},
   "outputs": [],
   "source": [
    "while True:\n",
    "    try:\n",
    "        x = int(input(\"Please enter a number:\"))\n",
    "        break\n",
    "    except ValueError:\n",
    "        print(\"oops!\")\n",
    "            "
   ]
  },
  {
   "cell_type": "markdown",
   "metadata": {},
   "source": [
    "## User-defined exceptions\n",
    "\n",
    "Developers can create thir own exceptions by creating new exception classes derived from the Exception class."
   ]
  },
  {
   "cell_type": "code",
   "execution_count": null,
   "metadata": {},
   "outputs": [],
   "source": [
    "class MyInputError(Exception):\n",
    "    \"\"\"Exception raised for errors in the input.\n",
    "\n",
    "    Attributes:\n",
    "        message -- explanation of the error\n",
    "    \"\"\"\n",
    "\n",
    "    def __init__(self,*args,**kwargs):\n",
    "        Exception.__init__(self,*args,**kwargs)\n",
    "        self.dError = \"Internal Error 10\""
   ]
  },
  {
   "cell_type": "code",
   "execution_count": null,
   "metadata": {},
   "outputs": [],
   "source": [
    "try:\n",
    "    raise MyInputError(\"MyInputError\")\n",
    "    raise AssertionError(\"Sample Assertion Error\")\n",
    "except MyInputError as err: \n",
    "    print('InputError caught:',err)\n",
    "    print('dError:',err.dError)\n",
    "except AssertionError as err:\n",
    "    print('Assertion error caught:',err)"
   ]
  },
  {
   "cell_type": "code",
   "execution_count": null,
   "metadata": {},
   "outputs": [],
   "source": [
    "?type"
   ]
  },
  {
   "cell_type": "markdown",
   "metadata": {},
   "source": [
    "## Defining Clean-up Actions\n",
    "\n",
    "The `try` statement has an optional cluase which lets you define a clean-up action; this is an action executed whether an action has occured or not."
   ]
  },
  {
   "cell_type": "code",
   "execution_count": null,
   "metadata": {},
   "outputs": [],
   "source": [
    "try:\n",
    "    # raise MyInputError(\"New error, test finally\")\n",
    "    # \n",
    "except MyInputError as err:\n",
    "    print('MyInputError:',err)\n",
    "    print('dError:',err.dError)\n",
    "finally:\n",
    "    print('Graceful Cleanup: Goodbye, world!')\n",
    "    "
   ]
  },
  {
   "cell_type": "markdown",
   "metadata": {},
   "source": [
    "# Unexpected Results\n",
    "\n",
    "Just because a program runs, we shouldn't assume that the program has generated correct output.  It is important to, when possible, create software tests which test the output of your program against known good outputs.\n",
    "\n",
    "There are services, like http://travis-ci.org, that can automate this process assuming you are using a remote repository like **GitHub**."
   ]
  },
  {
   "cell_type": "markdown",
   "metadata": {},
   "source": [
    "### References\n",
    "\n",
    "* [https://wiki.python.org/moin/DebuggingWithGdb](https://wiki.python.org/moin/DebuggingWithGdb)\n",
    "* [http://www.openbookproject.net/thinkcs/python/english2e/app_a.html](http://www.openbookproject.net/thinkcs/python/english2e/app_a.html)\n",
    "* [https://docs.python.org/3/tutorial/errors.html](https://docs.python.org/3/tutorial/errors.html)"
   ]
  }
 ],
 "metadata": {
  "kernelspec": {
   "display_name": "Python 3",
   "language": "python",
   "name": "python3"
  },
  "language_info": {
   "codemirror_mode": {
    "name": "ipython",
    "version": 3
   },
   "file_extension": ".py",
   "mimetype": "text/x-python",
   "name": "python",
   "nbconvert_exporter": "python",
   "pygments_lexer": "ipython3",
   "version": "3.6.2"
  }
 },
 "nbformat": 4,
 "nbformat_minor": 1
}
