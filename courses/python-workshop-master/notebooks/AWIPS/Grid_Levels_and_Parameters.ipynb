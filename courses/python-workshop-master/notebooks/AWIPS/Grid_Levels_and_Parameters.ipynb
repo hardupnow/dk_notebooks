{
 "cells": [
  {
   "cell_type": "markdown",
   "metadata": {},
   "source": [
    "This example covers the callable methods of the Python AWIPS DAF when working with gridded data.  We start with a connection to an EDEX server, then query data types, then grid names, parameters, levels, and other information. Finally the gridded data is plotted for its domain using Matplotlib and Cartopy."
   ]
  },
  {
   "cell_type": "markdown",
   "metadata": {},
   "source": [
    "## DataAccessLayer.getSupportedDatatypes()\n",
    "\n",
    "getSupportedDatatypes() returns a list of available data types offered by the EDEX server defined above. "
   ]
  },
  {
   "cell_type": "code",
   "execution_count": null,
   "metadata": {},
   "outputs": [],
   "source": [
    "from awips.dataaccess import DataAccessLayer\n",
    "DataAccessLayer.changeEDEXHost(\"edex-cloud.unidata.ucar.edu\")\n",
    "dataTypes = DataAccessLayer.getSupportedDatatypes()\n",
    "list(dataTypes)"
   ]
  },
  {
   "cell_type": "markdown",
   "metadata": {},
   "source": [
    "## DataAccessLayer.getAvailableLocationNames()\n",
    "\n",
    "Now create a new data request, and set the data type to **grid** to request all available grids with **getAvailableLocationNames()**"
   ]
  },
  {
   "cell_type": "code",
   "execution_count": null,
   "metadata": {},
   "outputs": [],
   "source": [
    "request = DataAccessLayer.newDataRequest()\n",
    "request.setDatatype(\"grid\")\n",
    "available_grids = DataAccessLayer.getAvailableLocationNames(request)\n",
    "available_grids.sort()\n",
    "list(available_grids)"
   ]
  },
  {
   "cell_type": "markdown",
   "metadata": {},
   "source": [
    "## DataAccessLayer.getAvailableParameters()\n",
    "\n",
    "After datatype and model name (locationName) are set, you can query all available parameters with **getAvailableParameters()**"
   ]
  },
  {
   "cell_type": "code",
   "execution_count": null,
   "metadata": {},
   "outputs": [],
   "source": [
    "request.setLocationNames(\"RAP13\")\n",
    "availableParms = DataAccessLayer.getAvailableParameters(request)\n",
    "availableParms.sort()\n",
    "list(availableParms)"
   ]
  },
  {
   "cell_type": "markdown",
   "metadata": {},
   "source": [
    "## DataAccessLayer.getAvailableLevels()\n",
    "\n",
    "Selecting **\"T\"** for temperature."
   ]
  },
  {
   "cell_type": "code",
   "execution_count": null,
   "metadata": {
    "scrolled": true
   },
   "outputs": [],
   "source": [
    "request.setParameters(\"T\")\n",
    "availableLevels = DataAccessLayer.getAvailableLevels(request)\n",
    "for level in availableLevels:\n",
    "    print(level)"
   ]
  },
  {
   "cell_type": "markdown",
   "metadata": {},
   "source": [
    "* **0.0SFC** is the Surface level\n",
    "* **FHAG** stands for Fixed Height Above Ground (in meters)\n",
    "* **NTAT** stands for Nominal Top of the ATmosphere\n",
    "* **BL** stands for Boundary Layer, where **0.0_30.0BL** reads as *0-30 mb above ground level*  \n",
    "* **TROP** is the Tropopause level\n",
    "\n",
    "**request.setLevels()**\n",
    "\n",
    "For this example we will use Surface Temperature"
   ]
  },
  {
   "cell_type": "code",
   "execution_count": null,
   "metadata": {},
   "outputs": [],
   "source": [
    "request.setLevels(\"2.0FHAG\")"
   ]
  },
  {
   "cell_type": "markdown",
   "metadata": {},
   "source": [
    "## DataAccessLayer.getAvailableTimes()\n",
    "\n",
    "* **getAvailableTimes(request, True)** will return an object of *run times* - formatted as `YYYY-MM-DD HH:MM:SS`\n",
    "* **getAvailableTimes(request)** will return an object of all times - formatted as `YYYY-MM-DD HH:MM:SS (F:ff)`\n",
    "* **getForecastRun(cycle, times)** will return a DataTime array for a single forecast cycle."
   ]
  },
  {
   "cell_type": "code",
   "execution_count": null,
   "metadata": {},
   "outputs": [],
   "source": [
    "cycles = DataAccessLayer.getAvailableTimes(request, True)\n",
    "times = DataAccessLayer.getAvailableTimes(request)\n",
    "fcstRun = DataAccessLayer.getForecastRun(cycles[-1], times)"
   ]
  },
  {
   "cell_type": "markdown",
   "metadata": {},
   "source": [
    "## DataAccessLayer.getGridData()\n",
    "\n",
    "Now that we have our `request` and DataTime `fcstRun` arrays ready, it's time to request the data array from EDEX."
   ]
  },
  {
   "cell_type": "code",
   "execution_count": null,
   "metadata": {},
   "outputs": [],
   "source": [
    "response = DataAccessLayer.getGridData(request, [fcstRun[-1]])\n",
    "for grid in response:\n",
    "    data = grid.getRawData()\n",
    "    lons, lats = grid.getLatLonCoords()\n",
    "    print('Time :', str(grid.getDataTime()))\n",
    "\n",
    "print('Model:', str(grid.getLocationName()))\n",
    "print('Parm :', str(grid.getParameter()))\n",
    "print('Unit :', str(grid.getUnit()))\n",
    "print(data.shape)"
   ]
  },
  {
   "cell_type": "markdown",
   "metadata": {},
   "source": [
    "## Plotting with Matplotlib and Cartopy\n",
    "\n",
    "**1. pcolormesh**"
   ]
  },
  {
   "cell_type": "code",
   "execution_count": null,
   "metadata": {},
   "outputs": [],
   "source": [
    "%matplotlib inline\n",
    "import matplotlib.pyplot as plt\n",
    "import matplotlib\n",
    "import cartopy.crs as ccrs\n",
    "import cartopy.feature as cfeature\n",
    "from cartopy.mpl.gridliner import LONGITUDE_FORMATTER, LATITUDE_FORMATTER\n",
    "import numpy as np\n",
    "import numpy.ma as ma\n",
    "from scipy.io import loadmat\n",
    "def make_map(bbox, projection=ccrs.PlateCarree()):\n",
    "    fig, ax = plt.subplots(figsize=(16, 9),\n",
    "                           subplot_kw=dict(projection=projection))\n",
    "    ax.set_extent(bbox)\n",
    "    ax.coastlines(resolution='50m')\n",
    "    gl = ax.gridlines(draw_labels=True)\n",
    "    gl.xlabels_top = gl.ylabels_right = False\n",
    "    gl.xformatter = LONGITUDE_FORMATTER\n",
    "    gl.yformatter = LATITUDE_FORMATTER\n",
    "    return fig, ax\n",
    "\n",
    "cmap = plt.get_cmap('rainbow')\n",
    "bbox = [lons.min(), lons.max(), lats.min(), lats.max()]\n",
    "fig, ax = make_map(bbox=bbox)\n",
    "cs = ax.pcolormesh(lons, lats, data, cmap=cmap)\n",
    "cbar = fig.colorbar(cs, extend='both', shrink=0.5, orientation='horizontal')\n",
    "cbar.set_label(grid.getLocationName().decode('UTF-8')  +\" \" \\\n",
    "               + grid.getLevel().decode('UTF-8') + \" \" \\\n",
    "               + grid.getParameter().decode('UTF-8') \\\n",
    "               + \" (\" + grid.getUnit().decode('UTF-8') + \") \" \\\n",
    "               + \"valid \" + str(grid.getDataTime().getRefTime()))"
   ]
  },
  {
   "cell_type": "markdown",
   "metadata": {},
   "source": [
    "**2. contourf**"
   ]
  },
  {
   "cell_type": "code",
   "execution_count": null,
   "metadata": {},
   "outputs": [],
   "source": [
    "fig2, ax2 = make_map(bbox=bbox)\n",
    "cs2 = ax2.contourf(lons, lats, data, 80, cmap=cmap,\n",
    "                  vmin=data.min(), vmax=data.max())\n",
    "cbar2 = fig2.colorbar(cs2, extend='both', shrink=0.5, orientation='horizontal')\n",
    "cbar2.set_label(grid.getLocationName().decode('UTF-8')  +\" \" \\\n",
    "               + grid.getLevel().decode('UTF-8') + \" \" \\\n",
    "               + grid.getParameter().decode('UTF-8') \\\n",
    "               + \" (\" + grid.getUnit().decode('UTF-8') + \") \" \\\n",
    "               + \"valid \" + str(grid.getDataTime().getRefTime()))"
   ]
  }
 ],
 "metadata": {
  "kernelspec": {
   "display_name": "Python 3",
   "language": "python",
   "name": "python3"
  },
  "language_info": {
   "codemirror_mode": {
    "name": "ipython",
    "version": 3
   },
   "file_extension": ".py",
   "mimetype": "text/x-python",
   "name": "python",
   "nbconvert_exporter": "python",
   "pygments_lexer": "ipython3",
   "version": "3.6.6"
  }
 },
 "nbformat": 4,
 "nbformat_minor": 1
}
