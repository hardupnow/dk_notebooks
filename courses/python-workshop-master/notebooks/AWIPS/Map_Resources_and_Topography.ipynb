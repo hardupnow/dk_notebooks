{
 "cells": [
  {
   "cell_type": "markdown",
   "metadata": {},
   "source": [
    "The python-awips package provides access to the entire AWIPS Maps Database for use in Python GIS applications.  Map objects are returned as <a href=\"http://toblerity.org/shapely/manual.html\">Shapely</a> geometries (*Polygon*, *Point*, *MultiLineString*, etc.) and can be easily plotted by Matplotlib, Cartopy, MetPy, and other packages. \n",
    "\n",
    "Each map database table has a geometry field called `the_geom`, which can be used to spatially select map resources for any column of type geometry,\n",
    "\n",
    "## Notes\n",
    "\n",
    "\n",
    "* This notebook requires: **python-awips, numpy, matplotplib, cartopy, shapely**\n",
    "* Use datatype **maps** and **addIdentifier('table', &lt;postgres maps schema&gt;)** to define the map table:\n",
    "        DataAccessLayer.changeEDEXHost(\"edex-cloud.unidata.ucar.edu\")\n",
    "        request = DataAccessLayer.newDataRequest('maps')\n",
    "        request.addIdentifier('table', 'mapdata.county')\n",
    "* Use **request.setLocationNames()** and **request.addIdentifier()** to spatially filter a map resource. In the example below, WFO ID **BOU** (Boulder, Colorado) is used to query counties within the BOU county watch area (CWA) \n",
    "    \n",
    "        request.addIdentifier('geomField', 'the_geom')\n",
    "        request.addIdentifier('inLocation', 'true')\n",
    "        request.addIdentifier('locationField', 'cwa')\n",
    "        request.setLocationNames('BOU')\n",
    "        request.addIdentifier('cwa', 'BOU')\n",
    "        \n",
    "See the <a href=\"http://unidata.github.io/awips2/python/maps-database/#mapdatacwa\">Maps Database Reference Page</a> for available database tables, column names, and types. \n",
    "  \n",
    " > Note the geometry definition of `the_geom` for each data type, which can be **Point**, **MultiPolygon**, or **MultiLineString**.\n"
   ]
  },
  {
   "cell_type": "markdown",
   "metadata": {},
   "source": [
    "## Setup"
   ]
  },
  {
   "cell_type": "code",
   "execution_count": null,
   "metadata": {},
   "outputs": [],
   "source": [
    "from __future__ import print_function\n",
    "from awips.dataaccess import DataAccessLayer\n",
    "import matplotlib.pyplot as plt\n",
    "import cartopy.crs as ccrs\n",
    "import numpy as np\n",
    "from cartopy.mpl.gridliner import LONGITUDE_FORMATTER, LATITUDE_FORMATTER\n",
    "from cartopy.feature import ShapelyFeature,NaturalEarthFeature\n",
    "from shapely.geometry import Polygon\n",
    "from shapely.ops import cascaded_union\n",
    "\n",
    "# Standard map plot\n",
    "def make_map(bbox, projection=ccrs.PlateCarree()):\n",
    "    fig, ax = plt.subplots(figsize=(12,12),\n",
    "            subplot_kw=dict(projection=projection))\n",
    "    ax.set_extent(bbox)\n",
    "    ax.coastlines(resolution='50m')\n",
    "    gl = ax.gridlines(draw_labels=True)\n",
    "    gl.xlabels_top = gl.ylabels_right = False\n",
    "    gl.xformatter = LONGITUDE_FORMATTER\n",
    "    gl.yformatter = LATITUDE_FORMATTER\n",
    "    return fig, ax\n",
    "\n",
    "# Server, Data Request Type, and Database Table\n",
    "DataAccessLayer.changeEDEXHost(\"edex-cloud.unidata.ucar.edu\")\n",
    "\n",
    "request = DataAccessLayer.newDataRequest('maps')\n",
    "request.addIdentifier('table', 'mapdata.county')"
   ]
  },
  {
   "cell_type": "markdown",
   "metadata": {},
   "source": [
    "## Request County Boundaries for a WFO\n",
    "\n",
    "* Use **request.setParameters()** to define fields to be returned by the request."
   ]
  },
  {
   "cell_type": "code",
   "execution_count": null,
   "metadata": {},
   "outputs": [],
   "source": [
    "# Define a WFO ID for location\n",
    "# tie this ID to the mapdata.county column \"cwa\" for filtering\n",
    "request.setLocationNames('BOU')\n",
    "request.addIdentifier('cwa', 'BOU')\n",
    "\n",
    "# enable location filtering (inLocation)\n",
    "# locationField is tied to the above cwa definition (BOU)\n",
    "request.addIdentifier('geomField', 'the_geom')\n",
    "request.addIdentifier('inLocation', 'true')\n",
    "request.addIdentifier('locationField', 'cwa')\n",
    "\n",
    "# This is essentially the same as \"'\"select count(*) from mapdata.cwa where cwa='BOU';\" (=1)\n",
    "\n",
    "# Get response and create dict of county geometries\n",
    "response = DataAccessLayer.getGeometryData(request, [])\n",
    "counties = np.array([])\n",
    "for ob in response:\n",
    "    counties = np.append(counties,ob.getGeometry())\n",
    "print(\"Using \" + str(len(counties)) + \" county MultiPolygons\")\n",
    "\n",
    "\n",
    "%matplotlib inline\n",
    "# All WFO counties merged to a single Polygon\n",
    "merged_counties = cascaded_union(counties)\n",
    "envelope = merged_counties.buffer(2)\n",
    "boundaries=[merged_counties]\n",
    "\n",
    "# Get bounds of this merged Polygon to use as buffered map extent\n",
    "bounds = merged_counties.bounds\n",
    "bbox=[bounds[0]-1,bounds[2]+1,bounds[1]-1.5,bounds[3]+1.5]\n",
    "\n",
    "\n",
    "fig, ax = make_map(bbox=bbox)\n",
    "# Plot political/state boundaries handled by Cartopy\n",
    "political_boundaries = NaturalEarthFeature(category='cultural',\n",
    "                               name='admin_0_boundary_lines_land',\n",
    "                               scale='50m', facecolor='none')\n",
    "states = NaturalEarthFeature(category='cultural',\n",
    "                               name='admin_1_states_provinces_lines',\n",
    "                               scale='50m', facecolor='none')\n",
    "ax.add_feature(political_boundaries, linestyle='-', edgecolor='black')\n",
    "ax.add_feature(states, linestyle='-', edgecolor='black',linewidth=2)\n",
    "\n",
    "# Plot CWA counties\n",
    "for i, geom in enumerate(counties):\n",
    "    cbounds = Polygon(geom)\n",
    "    intersection = cbounds.intersection\n",
    "    geoms = (intersection(geom)\n",
    "         for geom in counties\n",
    "         if cbounds.intersects(geom))\n",
    "    shape_feature = ShapelyFeature(geoms,ccrs.PlateCarree(), \n",
    "                        facecolor='none', linestyle=\"-\",edgecolor='#86989B')\n",
    "    ax.add_feature(shape_feature)"
   ]
  },
  {
   "cell_type": "markdown",
   "metadata": {},
   "source": [
    "## Create a merged CWA with cascaded_union"
   ]
  },
  {
   "cell_type": "code",
   "execution_count": null,
   "metadata": {},
   "outputs": [],
   "source": [
    "# Plot CWA envelope\n",
    "for i, geom in enumerate(boundaries):\n",
    "    gbounds = Polygon(geom)\n",
    "    intersection = gbounds.intersection\n",
    "    geoms = (intersection(geom)\n",
    "         for geom in boundaries\n",
    "         if gbounds.intersects(geom))\n",
    "    shape_feature = ShapelyFeature(geoms,ccrs.PlateCarree(), \n",
    "                        facecolor='none', linestyle=\"-\",linewidth=3.,edgecolor='#cc5000')\n",
    "    ax.add_feature(shape_feature)\n",
    "\n",
    "fig"
   ]
  },
  {
   "cell_type": "markdown",
   "metadata": {},
   "source": [
    "## WFO boundary spatial filter for interstates\n",
    "\n",
    "Using the previously-defined **envelope=merged_counties.buffer(2)** in **newDataRequest()** to request geometries which fall inside the buffered boundary. "
   ]
  },
  {
   "cell_type": "code",
   "execution_count": null,
   "metadata": {},
   "outputs": [],
   "source": [
    "request = DataAccessLayer.newDataRequest('maps', envelope=envelope)\n",
    "request.addIdentifier('table', 'mapdata.interstate')\n",
    "request.addIdentifier('geomField', 'the_geom')\n",
    "request.setParameters('name')\n",
    "interstates = DataAccessLayer.getGeometryData(request, [])\n",
    "print(\"Using \" + str(len(interstates)) + \" interstate MultiLineStrings\")\n",
    "\n",
    "# Plot interstates\n",
    "for ob in interstates:\n",
    "    shape_feature = ShapelyFeature(ob.getGeometry(),ccrs.PlateCarree(), \n",
    "                        facecolor='none', linestyle=\"-\",edgecolor='orange')\n",
    "    ax.add_feature(shape_feature)\n",
    "fig"
   ]
  },
  {
   "cell_type": "markdown",
   "metadata": {},
   "source": [
    "## Nearby cities\n",
    "\n",
    "Request the city table and filter by population and progressive disclosure level:\n",
    "\n",
    "**Warning**: the `prog_disc` field is not entirely understood and values appear to change significantly depending on WFO site.  "
   ]
  },
  {
   "cell_type": "code",
   "execution_count": null,
   "metadata": {},
   "outputs": [],
   "source": [
    "request = DataAccessLayer.newDataRequest('maps', envelope=envelope)\n",
    "request.addIdentifier('table', 'mapdata.city')\n",
    "request.addIdentifier('geomField', 'the_geom')\n",
    "request.setParameters('name','population','prog_disc')\n",
    "cities = DataAccessLayer.getGeometryData(request, [])\n",
    "print(\"Queried \" + str(len(cities)) + \" total cities\")\n",
    "\n",
    "citylist = []\n",
    "cityname = []\n",
    "# For BOU, progressive disclosure values above 50 and pop above 5000 looks good\n",
    "for ob in cities:\n",
    "    if ob.getString(b\"population\"):\n",
    "        if ob.getString(b\"prog_disc\") > 50:\n",
    "            if int(ob.getString(b\"population\").decode('UTF-8')) > 5000:\n",
    "                citylist.append(ob.getGeometry())\n",
    "                cityname.append(ob.getString(b\"name\").decode('UTF-8'))\n",
    "print(\"Plotting \" + str(len(cityname)) + \" cities\")\n",
    "\n",
    "# Plot city markers\n",
    "ax.scatter([point.x for point in citylist],\n",
    "       [point.y for point in citylist],\n",
    "       transform=ccrs.Geodetic(),marker=\"+\",facecolor='black')\n",
    "# Plot city names\n",
    "for i, txt in enumerate(cityname):\n",
    "    ax.annotate(txt, (citylist[i].x,citylist[i].y),\n",
    "                xytext=(3,3), textcoords=\"offset points\")\n",
    "\n",
    "fig"
   ]
  },
  {
   "cell_type": "markdown",
   "metadata": {},
   "source": [
    "## Lakes"
   ]
  },
  {
   "cell_type": "code",
   "execution_count": null,
   "metadata": {
    "scrolled": true
   },
   "outputs": [],
   "source": [
    "request = DataAccessLayer.newDataRequest('maps', envelope=envelope)\n",
    "request.addIdentifier('table', 'mapdata.lake')\n",
    "request.addIdentifier('geomField', 'the_geom')\n",
    "request.setParameters('name')\n",
    "\n",
    "# Get lake geometries\n",
    "response = DataAccessLayer.getGeometryData(request, [])\n",
    "lakes = np.array([])\n",
    "for ob in response:\n",
    "    lakes = np.append(lakes,ob.getGeometry())\n",
    "print(\"Using \" + str(len(lakes)) + \" lake MultiPolygons\")\n",
    "\n",
    "# Plot lakes\n",
    "for i, geom in enumerate(lakes):\n",
    "    cbounds = Polygon(geom)\n",
    "    intersection = cbounds.intersection\n",
    "    geoms = (intersection(geom)\n",
    "         for geom in lakes\n",
    "         if cbounds.intersects(geom))\n",
    "    shape_feature = ShapelyFeature(geoms,ccrs.PlateCarree(), \n",
    "                        facecolor='blue', linestyle=\"-\",edgecolor='#20B2AA')\n",
    "    ax.add_feature(shape_feature)\n",
    "fig\n"
   ]
  },
  {
   "cell_type": "markdown",
   "metadata": {},
   "source": [
    "## Major Rivers"
   ]
  },
  {
   "cell_type": "code",
   "execution_count": null,
   "metadata": {},
   "outputs": [],
   "source": [
    "request = DataAccessLayer.newDataRequest('maps', envelope=envelope)\n",
    "request.addIdentifier('table', 'mapdata.majorrivers')\n",
    "request.addIdentifier('geomField', 'the_geom')\n",
    "request.setParameters('pname')\n",
    "rivers = DataAccessLayer.getGeometryData(request, [])\n",
    "print(\"Using \" + str(len(rivers)) + \" river MultiLineStrings\")\n",
    "\n",
    "# Plot rivers\n",
    "for ob in rivers:\n",
    "    shape_feature = ShapelyFeature(ob.getGeometry(),ccrs.PlateCarree(), \n",
    "                        facecolor='none', linestyle=\":\",edgecolor='#20B2AA')\n",
    "    ax.add_feature(shape_feature)\n",
    "fig"
   ]
  },
  {
   "cell_type": "markdown",
   "metadata": {},
   "source": [
    "## Topography\n",
    "\n",
    "Spatial envelopes are required for topo requests, which can become slow to download and render for large (CONUS) maps."
   ]
  },
  {
   "cell_type": "code",
   "execution_count": null,
   "metadata": {},
   "outputs": [],
   "source": [
    "import numpy.ma as ma\n",
    "request = DataAccessLayer.newDataRequest()\n",
    "request.setDatatype(\"topo\")\n",
    "request.addIdentifier(\"group\", \"/\")\n",
    "request.addIdentifier(\"dataset\", \"full\")\n",
    "request.setEnvelope(envelope)\n",
    "gridData = DataAccessLayer.getGridData(request)\n",
    "print(gridData)\n",
    "print(\"Number of grid records: \" + str(len(gridData)))\n",
    "print(\"Sample grid data shape:\\n\" + str(gridData[0].getRawData().shape) + \"\\n\")\n",
    "print(\"Sample grid data:\\n\" + str(gridData[0].getRawData()) + \"\\n\")"
   ]
  },
  {
   "cell_type": "code",
   "execution_count": null,
   "metadata": {},
   "outputs": [],
   "source": [
    "grid=gridData[0]\n",
    "topo=ma.masked_invalid(grid.getRawData()) \n",
    "lons, lats = grid.getLatLonCoords()\n",
    "print(topo.min()) # minimum elevation in our domain (meters)\n",
    "print(topo.max()) # maximum elevation in our domain (meters)\n",
    "\n",
    "# Plot topography\n",
    "cs = ax.contourf(lons, lats, topo, 80, cmap=plt.get_cmap('terrain'),alpha=0.1)\n",
    "cbar = fig.colorbar(cs, extend='both', shrink=0.5, orientation='horizontal')\n",
    "cbar.set_label(\"topography height in meters\")\n",
    "\n",
    "fig"
   ]
  }
 ],
 "metadata": {
  "kernelspec": {
   "display_name": "Python 3",
   "language": "python",
   "name": "python3"
  },
  "language_info": {
   "codemirror_mode": {
    "name": "ipython",
    "version": 3
   },
   "file_extension": ".py",
   "mimetype": "text/x-python",
   "name": "python",
   "nbconvert_exporter": "python",
   "pygments_lexer": "ipython3",
   "version": "3.6.6"
  }
 },
 "nbformat": 4,
 "nbformat_minor": 1
}
