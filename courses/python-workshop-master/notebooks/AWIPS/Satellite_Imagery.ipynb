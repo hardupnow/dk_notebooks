{
 "cells": [
  {
   "cell_type": "markdown",
   "metadata": {},
   "source": [
    "Satellite images are returned by Python AWIPS as grids, and can be rendered with Cartopy pcolormesh the same as gridded forecast models in other python-awips examples. \n",
    "\n",
    "### Available Sources, Creating Entities, Sectors, and Products"
   ]
  },
  {
   "cell_type": "code",
   "execution_count": null,
   "metadata": {},
   "outputs": [],
   "source": [
    "from awips.dataaccess import DataAccessLayer\n",
    "import cartopy.crs as ccrs\n",
    "import cartopy.feature as cfeat\n",
    "import matplotlib.pyplot as plt\n",
    "from cartopy.mpl.gridliner import LONGITUDE_FORMATTER, LATITUDE_FORMATTER\n",
    "import numpy as np\n",
    "import datetime\n",
    "\n",
    "# Create an EDEX data request\n",
    "DataAccessLayer.changeEDEXHost(\"edex-cloud.unidata.ucar.edu\")\n",
    "request = DataAccessLayer.newDataRequest()\n",
    "request.setDatatype(\"satellite\")\n",
    "\n",
    "# get optional identifiers for satellite datatype\n",
    "identifiers = set(DataAccessLayer.getOptionalIdentifiers(request))\n",
    "\n",
    "print(\"Available Identifiers:\")\n",
    "for id in identifiers:\n",
    "    if id.lower() == 'datauri':\n",
    "        continue\n",
    "    print(\" - \" + id.decode('UTF-8'))"
   ]
  },
  {
   "cell_type": "code",
   "execution_count": null,
   "metadata": {},
   "outputs": [],
   "source": [
    "# Show available sources\n",
    "identifier = \"source\"\n",
    "sources = DataAccessLayer.getIdentifierValues(request, identifier)\n",
    "print(identifier + \":\")\n",
    "print(list(sources))"
   ]
  },
  {
   "cell_type": "code",
   "execution_count": null,
   "metadata": {},
   "outputs": [],
   "source": [
    "# Show available creatingEntities\n",
    "identifier = \"creatingEntity\"\n",
    "creatingEntities = DataAccessLayer.getIdentifierValues(request, identifier)\n",
    "print(identifier + \":\")\n",
    "print(list(creatingEntities))"
   ]
  },
  {
   "cell_type": "code",
   "execution_count": null,
   "metadata": {},
   "outputs": [],
   "source": [
    "# Show available sectorIDs\n",
    "identifier = \"sectorID\"\n",
    "sectorIDs = DataAccessLayer.getIdentifierValues(request, identifier)\n",
    "print(identifier + \":\")\n",
    "print(list(sectorIDs))"
   ]
  },
  {
   "cell_type": "code",
   "execution_count": null,
   "metadata": {},
   "outputs": [],
   "source": [
    "# Contrust a full satellite product tree\n",
    "for entity in creatingEntities:\n",
    "    print(entity.decode('UTF-8'))\n",
    "    request = DataAccessLayer.newDataRequest(\"satellite\")\n",
    "    request.addIdentifier(\"creatingEntity\", entity)\n",
    "    availableSectors = DataAccessLayer.getAvailableLocationNames(request)\n",
    "    availableSectors.sort()\n",
    "    for sector in availableSectors:\n",
    "        print(\" - \" + sector.decode('UTF-8'))\n",
    "        request.setLocationNames(sector.decode('UTF-8'))\n",
    "        availableProducts = DataAccessLayer.getAvailableParameters(request)\n",
    "        availableProducts.sort()\n",
    "        for product in availableProducts:\n",
    "            print(\"    - \" + product.decode('UTF-8'))"
   ]
  },
  {
   "cell_type": "markdown",
   "metadata": {},
   "source": [
    "##  GOES 16 Mesoscale Sectors\n",
    "\n",
    "Define our imports, and define our map properties first. "
   ]
  },
  {
   "cell_type": "code",
   "execution_count": null,
   "metadata": {},
   "outputs": [],
   "source": [
    "%matplotlib inline\n",
    "\n",
    "def make_map(bbox, projection=ccrs.PlateCarree()):\n",
    "    fig, ax = plt.subplots(figsize=(10,12),\n",
    "            subplot_kw=dict(projection=projection))\n",
    "    if bbox[0] is not np.nan:\n",
    "        ax.set_extent(bbox)\n",
    "    ax.coastlines(resolution='50m')\n",
    "    gl = ax.gridlines(draw_labels=True)\n",
    "    gl.xlabels_top = gl.ylabels_right = False\n",
    "    gl.xformatter = LONGITUDE_FORMATTER\n",
    "    gl.yformatter = LATITUDE_FORMATTER\n",
    "    return fig, ax\n",
    "\n",
    "sectors = [\"EMESO-1\",\"EMESO-2\"]\n",
    "fig = plt.figure(figsize=(16,7*len(sectors)))\n",
    "\n",
    "for i, sector in enumerate(sectors):\n",
    "\n",
    "    request = DataAccessLayer.newDataRequest()\n",
    "    request.setDatatype(\"satellite\")\n",
    "    request.setLocationNames(sector)\n",
    "    request.setParameters(\"CH-13-10.35um\")\n",
    "\n",
    "    utc = datetime.datetime.utcnow()\n",
    "    times = DataAccessLayer.getAvailableTimes(request)\n",
    "    hourdiff = utc - datetime.datetime.strptime(str(times[-1]),'%Y-%m-%d %H:%M:%S')\n",
    "    hours,days = hourdiff.seconds/3600,hourdiff.days\n",
    "    minute = str((hourdiff.seconds - (3600 * hours)) / 60)\n",
    "    offsetStr = ''\n",
    "    if hours > 0:\n",
    "        offsetStr += str(hours) + \"hr \"\n",
    "    offsetStr += str(minute) + \"m ago\"\n",
    "    if days > 1:\n",
    "        offsetStr = str(days) + \" days ago\"\n",
    "\n",
    "    response = DataAccessLayer.getGridData(request, [times[-1]])\n",
    "    grid = response[0]\n",
    "    data = grid.getRawData()\n",
    "    lons,lats = grid.getLatLonCoords()\n",
    "    bbox = [lons.min(), lons.max(), lats.min(), lats.max()]\n",
    "\n",
    "    print(\"Latest image available: \"+str(times[-1]) + \" (\"+offsetStr+\")\")\n",
    "    print(\"Image grid size: \" + str(data.shape))\n",
    "    print(\"Image grid extent: \" + str(list(bbox)))\n",
    "\n",
    "    fig, ax = make_map(bbox=bbox)\n",
    "    states = cfeat.NaturalEarthFeature(category='cultural',\n",
    "                                        name='admin_1_states_provinces_lines',\n",
    "                                        scale='50m', facecolor='none')\n",
    "    ax.add_feature(states, linestyle=':')\n",
    "    cs = ax.pcolormesh(lons, lats, data, cmap='coolwarm')\n",
    "    cbar = fig.colorbar(cs, shrink=0.6, orientation='horizontal')\n",
    "    cbar.set_label(sector + \" \" \\\n",
    "    + grid.getParameter().decode('UTF-8') + \" \" \\\n",
    "    + str(grid.getDataTime().getRefTime()))"
   ]
  }
 ],
 "metadata": {
  "kernelspec": {
   "display_name": "Python 3",
   "language": "python",
   "name": "python3"
  },
  "language_info": {
   "codemirror_mode": {
    "name": "ipython",
    "version": 3
   },
   "file_extension": ".py",
   "mimetype": "text/x-python",
   "name": "python",
   "nbconvert_exporter": "python",
   "pygments_lexer": "ipython3",
   "version": "3.6.6"
  }
 },
 "nbformat": 4,
 "nbformat_minor": 1
}
