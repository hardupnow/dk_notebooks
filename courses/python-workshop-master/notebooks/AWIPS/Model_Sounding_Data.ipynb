{
 "cells": [
  {
   "cell_type": "markdown",
   "metadata": {},
   "source": [
    "The EDEX modelsounding plugin creates 64-level vertical profiles from GFS and ETA (NAM) BUFR products distirubted over NOAAport. Paramters which are requestable are **pressure**, **temperature**, **specHum**, **uComp**, **vComp**, **omega**, **cldCvr**."
   ]
  },
  {
   "cell_type": "code",
   "execution_count": null,
   "metadata": {
    "scrolled": true
   },
   "outputs": [],
   "source": [
    "from awips.dataaccess import DataAccessLayer\n",
    "import matplotlib.tri as mtri\n",
    "import matplotlib.pyplot as plt\n",
    "from mpl_toolkits.axes_grid1.inset_locator import inset_axes\n",
    "from math import exp, log\n",
    "import numpy as np\n",
    "from metpy.calc import get_wind_components, lcl, dry_lapse, parcel_profile, dewpoint\n",
    "from metpy.calc import wind_speed, wind_direction, thermo, vapor_pressure\n",
    "from metpy.plots import SkewT, Hodograph\n",
    "from metpy.units import units, concatenate\n",
    "\n",
    "DataAccessLayer.changeEDEXHost(\"edex-cloud.unidata.ucar.edu\")\n",
    "request = DataAccessLayer.newDataRequest()\n",
    "request.setDatatype(\"modelsounding\")\n",
    "forecastModel = \"GFS\"\n",
    "request.addIdentifier(\"reportType\", forecastModel)\n",
    "request.setParameters(\"pressure\",\"temperature\",\"specHum\",\"uComp\",\"vComp\",\"omega\",\"cldCvr\")"
   ]
  },
  {
   "cell_type": "markdown",
   "metadata": {},
   "source": [
    "## Available Locations"
   ]
  },
  {
   "cell_type": "code",
   "execution_count": null,
   "metadata": {},
   "outputs": [],
   "source": [
    "locations = DataAccessLayer.getAvailableLocationNames(request)\n",
    "locations.sort()\n",
    "list(locations)"
   ]
  },
  {
   "cell_type": "code",
   "execution_count": null,
   "metadata": {},
   "outputs": [],
   "source": [
    "request.setLocationNames(\"KFRM\")\n",
    "cycles = DataAccessLayer.getAvailableTimes(request, True)\n",
    "times = DataAccessLayer.getAvailableTimes(request)\n",
    "\n",
    "try:\n",
    "    fcstRun = DataAccessLayer.getForecastRun(cycles[-1], times)\n",
    "    list(fcstRun)\n",
    "    response = DataAccessLayer.getGeometryData(request,[fcstRun[0]])\n",
    "except:\n",
    "    print('No times available')\n",
    "    exit"
   ]
  },
  {
   "cell_type": "markdown",
   "metadata": {},
   "source": [
    "## Model Sounding Parameters\n",
    "\n",
    "Construct arrays for each parameter to plot (temperature, pressure, moisutre (spec. humidity), wind components, and cloud cover)"
   ]
  },
  {
   "cell_type": "code",
   "execution_count": null,
   "metadata": {},
   "outputs": [],
   "source": [
    "tmp,prs,sh = np.array([]),np.array([]),np.array([])\n",
    "uc,vc,om,cld = np.array([]),np.array([]),np.array([]),np.array([])\n",
    "\n",
    "for ob in response:\n",
    "    tmp = np.append(tmp,ob.getString(b\"temperature\"))\n",
    "    prs = np.append(prs,ob.getString(b\"pressure\"))\n",
    "    sh = np.append(sh,ob.getString(b\"specHum\"))\n",
    "    uc = np.append(uc,ob.getString(b\"uComp\"))\n",
    "    vc = np.append(vc,ob.getString(b\"vComp\"))\n",
    "    om = np.append(om,ob.getString(b\"omega\"))\n",
    "    cld = np.append(cld,ob.getString(b\"cldCvr\"))\n",
    "\n",
    "print(\"parms    = \" + str(ob.getParameters()))\n",
    "print(\"site     = \" + str(ob.getLocationName()))\n",
    "print(\"geom     = \" + str(ob.getGeometry()))\n",
    "print(\"datetime = \" + str(ob.getDataTime()))\n",
    "print(\"reftime  = \" + str(ob.getDataTime().getRefTime()))\n",
    "print(\"fcstHour = \" + str(ob.getDataTime().getFcstTime()))\n",
    "print(\"period   = \" + str(ob.getDataTime().getValidPeriod()))"
   ]
  },
  {
   "cell_type": "markdown",
   "metadata": {},
   "source": [
    "## Calculating Dewpoint from Specific Humidity\n",
    "\n",
    "Because the modelsounding plugin does not return dewpoint values, we must calculate the profile ourselves.  Here are three examples of dewpoint calculated from specific humidity, including a manual calculation following NCEP AWIPS/NSHARP. \n",
    "\n",
    "**1) MetPy calculated mixing ratio and vapor pressure**"
   ]
  },
  {
   "cell_type": "code",
   "execution_count": null,
   "metadata": {},
   "outputs": [],
   "source": [
    "t = (tmp-273.15) * units.degC\n",
    "p = prs/100 * units.mbar\n",
    "\n",
    "u,v = uc*1.94384,vc*1.94384 # m/s to knots\n",
    "spd = wind_speed(u, v) * units.knots\n",
    "dir = wind_direction(u, v) * units.deg"
   ]
  },
  {
   "cell_type": "code",
   "execution_count": null,
   "metadata": {},
   "outputs": [],
   "source": [
    "rmix = (sh/(1-sh)) *1000 * units('g/kg')\n",
    "e = vapor_pressure(p, rmix)\n",
    "td = dewpoint(e)"
   ]
  },
  {
   "cell_type": "markdown",
   "metadata": {},
   "source": [
    "**2) metpy calculated assuming spec. humidity = mixing ratio**"
   ]
  },
  {
   "cell_type": "code",
   "execution_count": null,
   "metadata": {},
   "outputs": [],
   "source": [
    "td2 = dewpoint(vapor_pressure(p, sh))"
   ]
  },
  {
   "cell_type": "markdown",
   "metadata": {},
   "source": [
    "**3) NCEP AWIPS soundingrequest plugin**\n",
    "\n",
    "based on GEMPAK/NSHARP, from https://github.com/Unidata/awips2-ncep/blob/unidata_16.2.2/edex/gov.noaa.nws.ncep.edex.plugin.soundingrequest/src/gov/noaa/nws/ncep/edex/plugin/soundingrequest/handler/MergeSounding.java#L1783"
   ]
  },
  {
   "cell_type": "code",
   "execution_count": null,
   "metadata": {},
   "outputs": [],
   "source": [
    "# new arrays\n",
    "ntmp = tmp\n",
    "\n",
    "# where p=pressure(pa), T=temp(C), T0=reference temp(273.16)\n",
    "rh = 0.263*prs*sh / (np.exp(17.67*ntmp/(ntmp+273.15-29.65)))\n",
    "vaps =  6.112 * np.exp((17.67 * ntmp) / (ntmp + 243.5))\n",
    "vapr = rh * vaps / 100\n",
    "dwpc = np.array(243.5 * (np.log(6.112) - np.log(vapr)) / (np.log(vapr) - np.log(6.112) - 17.67)) * units.degC"
   ]
  },
  {
   "cell_type": "markdown",
   "metadata": {},
   "source": [
    "## MetPy SkewT and Hodograph"
   ]
  },
  {
   "cell_type": "code",
   "execution_count": null,
   "metadata": {},
   "outputs": [],
   "source": [
    "%matplotlib inline\n",
    "\n",
    "plt.rcParams['figure.figsize'] = (12, 14)\n",
    "\n",
    "# Create a skewT plot\n",
    "skew = SkewT()\n",
    "\n",
    "# Plot the data\n",
    "skew.plot(p, t, 'r', linewidth=2)\n",
    "skew.plot(p, td, 'b', linewidth=2)\n",
    "skew.plot(p, td2, 'y')\n",
    "skew.plot(p, dwpc, 'g', linewidth=2)\n",
    "\n",
    "skew.plot_barbs(p, u, v)\n",
    "skew.ax.set_ylim(1000, 100)\n",
    "skew.ax.set_xlim(-40, 60)\n",
    "\n",
    "plt.title( forecastModel + \" \" \\\n",
    "          + ob.getLocationName().decode('UTF-8') \\\n",
    "          + \"(\"+ str(ob.getGeometry()) + \")\" \\\n",
    "          + \", \" + str(ob.getDataTime())\n",
    ")\n",
    "\n",
    "# An example of a slanted line at constant T -- in this case the 0 isotherm\n",
    "l = skew.ax.axvline(0, color='c', linestyle='--', linewidth=2)\n",
    "\n",
    "# Draw hodograph\n",
    "ax_hod = inset_axes(skew.ax, '40%', '40%', loc=2)\n",
    "h = Hodograph(ax_hod, component_range=wind_speed(u, v).max())\n",
    "h.add_grid(increment=20)\n",
    "h.plot_colormapped(u, v, spd)\n",
    "\n",
    "# Show the plot\n",
    "plt.show()"
   ]
  }
 ],
 "metadata": {
  "kernelspec": {
   "display_name": "Python 3",
   "language": "python",
   "name": "python3"
  },
  "language_info": {
   "codemirror_mode": {
    "name": "ipython",
    "version": 3
   },
   "file_extension": ".py",
   "mimetype": "text/x-python",
   "name": "python",
   "nbconvert_exporter": "python",
   "pygments_lexer": "ipython3",
   "version": "3.6.6"
  }
 },
 "nbformat": 4,
 "nbformat_minor": 1
}
