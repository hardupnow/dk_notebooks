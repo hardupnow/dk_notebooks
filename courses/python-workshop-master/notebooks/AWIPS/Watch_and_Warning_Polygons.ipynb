{
 "cells": [
  {
   "cell_type": "markdown",
   "metadata": {},
   "source": [
    "This example uses matplotlib, cartopy, shapely, and python-awips to plot watch and warning polygons requested from a real-time AWIPS EDEX server.\n",
    "\n",
    "First, set up our imports and define functions to be used later:"
   ]
  },
  {
   "cell_type": "code",
   "execution_count": null,
   "metadata": {},
   "outputs": [],
   "source": [
    "from awips.dataaccess import DataAccessLayer\n",
    "from awips.tables import vtec\n",
    "from datetime import datetime\n",
    "import numpy as np\n",
    "import matplotlib.pyplot as plt\n",
    "import cartopy.crs as ccrs\n",
    "import cartopy.feature as cfeature\n",
    "from cartopy.mpl.gridliner import LONGITUDE_FORMATTER, LATITUDE_FORMATTER\n",
    "from cartopy.feature import ShapelyFeature,NaturalEarthFeature\n",
    "from shapely.geometry import MultiPolygon,Polygon\n",
    "\n",
    "def warning_color(phensig):\n",
    "    return vtec[phensig]['color']\n",
    "\n",
    "def make_map(bbox, projection=ccrs.PlateCarree()):\n",
    "    fig, ax = plt.subplots(figsize=(20,12),\n",
    "            subplot_kw=dict(projection=projection))\n",
    "    ax.set_extent(bbox)\n",
    "    gl = ax.gridlines(draw_labels=True)\n",
    "    gl.xlabels_top = gl.ylabels_right = False\n",
    "    gl.xformatter = LONGITUDE_FORMATTER\n",
    "    gl.yformatter = LATITUDE_FORMATTER\n",
    "    return fig, ax"
   ]
  },
  {
   "cell_type": "markdown",
   "metadata": {},
   "source": [
    "Next, we create a request for the \"warning\" data type:"
   ]
  },
  {
   "cell_type": "code",
   "execution_count": null,
   "metadata": {},
   "outputs": [],
   "source": [
    "DataAccessLayer.changeEDEXHost(\"edex-cloud.unidata.ucar.edu\")\n",
    "request = DataAccessLayer.newDataRequest()\n",
    "request.setDatatype(\"warning\")\n",
    "request.setParameters('phensig')\n",
    "times = DataAccessLayer.getAvailableTimes(request)\n",
    "\n",
    "# Get records for last 50 available times\n",
    "response = DataAccessLayer.getGeometryData(request, times[-50:-1])\n",
    "print(\"Using \" + str(len(response)) + \" records\")\n",
    "\n",
    "# Each record will have a numpy array the length of the number of \"parameters\"\n",
    "# Default is 1 (request.setParameters('phensig'))\n",
    "parameters = {}\n",
    "for x in request.getParameters():\n",
    "    parameters[x] = np.array([])\n",
    "print(parameters)"
   ]
  },
  {
   "cell_type": "markdown",
   "metadata": {},
   "source": [
    "Now loop through each record and plot it as either Polygon or MultiPolygon, with appropriate colors"
   ]
  },
  {
   "cell_type": "code",
   "execution_count": null,
   "metadata": {},
   "outputs": [],
   "source": [
    "%matplotlib inline\n",
    "bbox=[-127,-64,24,49]\n",
    "fig, ax = make_map(bbox=bbox)\n",
    "\n",
    "siteids=np.array([])\n",
    "periods=np.array([])\n",
    "reftimes=np.array([])\n",
    "\n",
    "for ob in response:\n",
    "    \n",
    "    poly = ob.getGeometry()\n",
    "    site = ob.getLocationName()\n",
    "    pd   = ob.getDataTime().getValidPeriod()\n",
    "    ref  = ob.getDataTime().getRefTime()\n",
    "    \n",
    "    # do not plot if phensig is blank (SPS)\n",
    "    if ob.getString(b'phensig'):\n",
    "        \n",
    "        phensigString = ob.getString(b'phensig')\n",
    "        \n",
    "        siteids = np.append(siteids,site)\n",
    "        periods = np.append(periods,pd)\n",
    "        reftimes = np.append(reftimes,ref)\n",
    "\n",
    "        for parm in parameters:\n",
    "            byte_str = str.encode(parm)\n",
    "            parameters[parm] = np.append(parameters[parm],ob.getString(byte_str))\n",
    "\n",
    "        if poly.geom_type == 'MultiPolygon':\n",
    "            geometries = np.array([])\n",
    "            geometries = np.append(geometries,MultiPolygon(poly))\n",
    "            geom_count = \", \" + str(len(geometries)) +\" geometries\"\n",
    "        else:\n",
    "            geometries = np.array([])\n",
    "            geometries = np.append(geometries,Polygon(poly))\n",
    "            geom_count=\"\"\n",
    "\n",
    "        for geom in geometries:\n",
    "            bounds = Polygon(geom)\n",
    "            intersection = bounds.intersection\n",
    "            geoms = (intersection(geom)\n",
    "                 for geom in geometries\n",
    "                 if bounds.intersects(geom))\n",
    "    \n",
    "        #print(vtec[phensigString]['hdln'] \n",
    "        #  + \" (\" + phensigString + \") issued at \" + str(ref)\n",
    "        #  + \" (\"+str(poly.geom_type) + geom_count + \")\")\n",
    "        \n",
    "        color = warning_color(phensigString.decode('UTF-8'))\n",
    "        shape_feature = ShapelyFeature(geoms,ccrs.PlateCarree(), \n",
    "                        facecolor=color, edgecolor=color)\n",
    "        ax.add_feature(shape_feature)\n",
    "            \n",
    "states_provinces = cfeature.NaturalEarthFeature(\n",
    "        category='cultural',\n",
    "        name='admin_1_states_provinces_lines',\n",
    "        scale='50m',\n",
    "        facecolor='none')\n",
    "political_boundaries = cfeature.NaturalEarthFeature(category='cultural',\n",
    "                               name='admin_0_boundary_lines_land',\n",
    "                               scale='50m', facecolor='none')\n",
    "ax.add_feature(cfeature.LAND)\n",
    "ax.add_feature(cfeature.COASTLINE)\n",
    "ax.add_feature(states_provinces, edgecolor='black')\n",
    "ax.add_feature(political_boundaries, edgecolor='black')\n",
    "\n",
    "plt.show()"
   ]
  }
 ],
 "metadata": {
  "kernelspec": {
   "display_name": "Python 3",
   "language": "python",
   "name": "python3"
  },
  "language_info": {
   "codemirror_mode": {
    "name": "ipython",
    "version": 3
   },
   "file_extension": ".py",
   "mimetype": "text/x-python",
   "name": "python",
   "nbconvert_exporter": "python",
   "pygments_lexer": "ipython3",
   "version": "3.6.6"
  }
 },
 "nbformat": 4,
 "nbformat_minor": 1
}
