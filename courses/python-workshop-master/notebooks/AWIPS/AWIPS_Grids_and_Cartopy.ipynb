{
 "cells": [
  {
   "cell_type": "markdown",
   "metadata": {},
   "source": [
    "The simplest example of requesting and plotting AWIPS gridded data with Matplotlib and Cartopy."
   ]
  },
  {
   "cell_type": "code",
   "execution_count": null,
   "metadata": {},
   "outputs": [],
   "source": [
    "from awips.dataaccess import DataAccessLayer\n",
    "import cartopy.crs as ccrs\n",
    "import matplotlib.pyplot as plt\n",
    "from cartopy.mpl.gridliner import LONGITUDE_FORMATTER, LATITUDE_FORMATTER\n",
    "%matplotlib inline\n",
    "\n",
    "DataAccessLayer.changeEDEXHost(\"edex-cloud.unidata.ucar.edu\")\n",
    "request = DataAccessLayer.newDataRequest()\n",
    "request.setDatatype(\"grid\")\n",
    "request.setLocationNames(\"RAP13\")\n",
    "request.setParameters(\"T\")\n",
    "request.setLevels(\"2.0FHAG\")\n",
    "cycles = DataAccessLayer.getAvailableTimes(request, True)\n",
    "times = DataAccessLayer.getAvailableTimes(request)\n",
    "fcstRun = DataAccessLayer.getForecastRun(cycles[-1], times)\n",
    "response = DataAccessLayer.getGridData(request, [fcstRun[0]])\n",
    "grid = response[0]\n",
    "data = grid.getRawData()\n",
    "lons, lats = grid.getLatLonCoords()\n",
    "bbox = [lons.min(), lons.max(), lats.min(), lats.max()]\n",
    "\n",
    "def make_map(bbox, projection=ccrs.PlateCarree()):\n",
    "    fig, ax = plt.subplots(figsize=(16, 9),\n",
    "            subplot_kw=dict(projection=projection))\n",
    "    ax.set_extent(bbox)\n",
    "    ax.coastlines(resolution='50m')\n",
    "    gl = ax.gridlines(draw_labels=True)\n",
    "    gl.xlabels_top = gl.ylabels_right = False\n",
    "    gl.xformatter = LONGITUDE_FORMATTER\n",
    "    gl.yformatter = LATITUDE_FORMATTER\n",
    "    return fig, ax"
   ]
  },
  {
   "cell_type": "markdown",
   "metadata": {},
   "source": [
    "### with pcolormesh"
   ]
  },
  {
   "cell_type": "code",
   "execution_count": null,
   "metadata": {},
   "outputs": [],
   "source": [
    "cmap = plt.get_cmap('rainbow')\n",
    "fig, ax = make_map(bbox=bbox)\n",
    "cs = ax.pcolormesh(lons, lats, data, cmap=cmap)\n",
    "cbar = fig.colorbar(cs, shrink=0.7, orientation='horizontal')\n",
    "cbar.set_label(grid.getLocationName().decode('UTF-8')  +\" \" \\\n",
    "               + grid.getLevel().decode('UTF-8') + \" \" \\\n",
    "               + grid.getParameter().decode('UTF-8') \\\n",
    "               + \" (\" + grid.getUnit().decode('UTF-8') + \") \" \\\n",
    "               + \"valid \" + str(grid.getDataTime().getRefTime()))"
   ]
  },
  {
   "cell_type": "markdown",
   "metadata": {},
   "source": [
    "### with contourf"
   ]
  },
  {
   "cell_type": "code",
   "execution_count": null,
   "metadata": {},
   "outputs": [],
   "source": [
    "fig2, ax2 = make_map(bbox=bbox)\n",
    "cs2 = ax2.contourf(lons, lats, data, 80, cmap=cmap,\n",
    "                  vmin=data.min(), vmax=data.max())\n",
    "cbar2 = fig2.colorbar(cs2, shrink=0.7, orientation='horizontal')\n",
    "cbar2.set_label(grid.getLocationName().decode('UTF-8')  +\" \" \\\n",
    "               + grid.getLevel().decode('UTF-8') + \" \" \\\n",
    "               + grid.getParameter().decode('UTF-8') \\\n",
    "               + \" (\" + grid.getUnit().decode('UTF-8') + \") \" \\\n",
    "               + \"valid \" + str(grid.getDataTime().getRefTime()))"
   ]
  }
 ],
 "metadata": {
  "kernelspec": {
   "display_name": "Python 3",
   "language": "python",
   "name": "python3"
  },
  "language_info": {
   "codemirror_mode": {
    "name": "ipython",
    "version": 3
   },
   "file_extension": ".py",
   "mimetype": "text/x-python",
   "name": "python",
   "nbconvert_exporter": "python",
   "pygments_lexer": "ipython3",
   "version": "3.6.6"
  }
 },
 "nbformat": 4,
 "nbformat_minor": 1
}
