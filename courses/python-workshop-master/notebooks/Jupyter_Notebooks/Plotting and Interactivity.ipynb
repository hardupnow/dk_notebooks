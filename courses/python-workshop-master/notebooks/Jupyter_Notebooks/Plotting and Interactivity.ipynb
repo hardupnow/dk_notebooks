{
 "cells": [
  {
   "cell_type": "markdown",
   "metadata": {},
   "source": [
    "<div style=\"width:1000 px\">\n",
    "\n",
    "<div style=\"float:right; width:98 px; height:98px;\">\n",
    "<img src=\"https://raw.githubusercontent.com/Unidata/MetPy/master/metpy/plots/_static/unidata_150x150.png\" alt=\"Unidata Logo\" style=\"height: 98px;\">\n",
    "</div>\n",
    "\n",
    "<h1>Plotting and Jupyter Notebooks</h1>\n",
    "<h3>Unidata Python Workshop</h3>\n",
    "\n",
    "<div style=\"clear:both\"></div>\n",
    "</div>\n",
    "\n",
    "<hr style=\"height:2px;\">"
   ]
  },
  {
   "cell_type": "markdown",
   "metadata": {},
   "source": [
    "One of the most common tasks we face as scientists is making plots. Visually assessing data is one of the best ways to explore it - who can look at a wall of tabular data and tell anything? In this lesson we'll show how to make some basic plots in notebooks and introduce interactive widgets.\n",
    "\n",
    "Matplotlib has many more features than we could possibly talk about - this is just a taste of making a basic plot. Be sure to browse the [matplotlib gallery](https://matplotlib.org/gallery.html) for ideas, inspiration, and a sampler of what's possible."
   ]
  },
  {
   "cell_type": "code",
   "execution_count": null,
   "metadata": {},
   "outputs": [],
   "source": [
    "# Import matplotlib as use the inline magic so plots show up in the notebook\n",
    "import matplotlib.pyplot as plt\n",
    "%matplotlib inline"
   ]
  },
  {
   "cell_type": "code",
   "execution_count": null,
   "metadata": {},
   "outputs": [],
   "source": [
    "# Make some \"data\"\n",
    "x = [1, 2, 3, 4, 5, 6, 7, 8, 9, 10]\n",
    "y = [2, 4, 8, 16, 32, 64, 128, 256, 512, 1024]"
   ]
  },
  {
   "cell_type": "markdown",
   "metadata": {},
   "source": [
    "## Basic Line and Scatter Plots"
   ]
  },
  {
   "cell_type": "code",
   "execution_count": null,
   "metadata": {},
   "outputs": [],
   "source": [
    "# Make a simple line plot\n",
    "plt.plot(x, y)"
   ]
  },
  {
   "cell_type": "code",
   "execution_count": null,
   "metadata": {},
   "outputs": [],
   "source": [
    "# Play with the line style\n",
    "plt.plot(x, y, color='tab:red', linestyle='--')"
   ]
  },
  {
   "cell_type": "code",
   "execution_count": null,
   "metadata": {},
   "outputs": [],
   "source": [
    "# Make a scatter plot\n",
    "plt.plot(x, y, color='tab:orange', linestyle='None', marker='o')"
   ]
  },
  {
   "cell_type": "markdown",
   "metadata": {},
   "source": [
    "## Adding Interactivity to Plots"
   ]
  },
  {
   "cell_type": "code",
   "execution_count": null,
   "metadata": {},
   "outputs": [],
   "source": [
    "# Let's make some more complicated \"data\" using a sine wave with some\n",
    "# noise superimposed. This gives us lots of things to manipulate - the\n",
    "# amplitude, frequency, noise amplitude, and DC offset.\n",
    "import numpy as np\n",
    "\n",
    "x = np.linspace(0, 2*np.pi, 100)\n",
    "y = 10 * np.sin(x) + np.random.random(100)*5 + 20"
   ]
  },
  {
   "cell_type": "code",
   "execution_count": null,
   "metadata": {},
   "outputs": [],
   "source": [
    "# Have a look at the basic form of the data\n",
    "plt.plot(x, y)\n",
    "plt.xlabel('X Values')\n",
    "plt.ylabel('Y Values')\n",
    "plt.title('My Temperature Data')"
   ]
  },
  {
   "cell_type": "code",
   "execution_count": null,
   "metadata": {},
   "outputs": [],
   "source": [
    "# Let's add some interactive widgets\n",
    "\n",
    "from ipywidgets import interact\n",
    "\n",
    "def plot_pseudotemperature(f, A, An, offset):\n",
    "    x = np.linspace(0, 2*np.pi, 100)\n",
    "    y = A * np.sin(f * x) + np.random.random(100) * An + offset\n",
    "    \n",
    "    fig = plt.figure()\n",
    "    plt.plot(x, y)\n",
    "    plt.xlabel('X Values')\n",
    "    plt.ylabel('Y Values')\n",
    "    plt.title('My Temperature Data')\n",
    "    plt.show()\n",
    "    \n",
    "interact(plot_pseudotemperature,\n",
    "         f = (0, 10),\n",
    "         A = (1, 5),\n",
    "         An = (1, 10),\n",
    "         offset = (10, 40))"
   ]
  },
  {
   "cell_type": "code",
   "execution_count": null,
   "metadata": {},
   "outputs": [],
   "source": [
    "# We can specify the type of slider, range, and defaults as well\n",
    "\n",
    "from ipywidgets import FloatSlider, IntSlider\n",
    "\n",
    "def plot_pseudotemperature2(f, A, An, offset, title):\n",
    "    x = np.linspace(0, 2*np.pi, 100)\n",
    "    y = A * np.sin(f * x) + np.random.random(100) * An + offset\n",
    "    \n",
    "    fig = plt.figure()\n",
    "    plt.plot(x, y)\n",
    "    plt.xlabel('X Values')\n",
    "    plt.ylabel('Y Values')\n",
    "    plt.title(title)\n",
    "    plt.show()\n",
    "    \n",
    "interact(plot_pseudotemperature2,\n",
    "         f = IntSlider(min=1, max=7, value=3),\n",
    "         A = FloatSlider(min=1, max=10, value=5),\n",
    "         An = IntSlider(min=1, max=10, value=1),\n",
    "         offset = FloatSlider(min=1, max=40, value=20),\n",
    "         title = 'My Improved Temperature Plot')"
   ]
  }
 ],
 "metadata": {
  "kernelspec": {
   "display_name": "Python 3",
   "language": "python",
   "name": "python3"
  },
  "language_info": {
   "codemirror_mode": {
    "name": "ipython",
    "version": 3
   },
   "file_extension": ".py",
   "mimetype": "text/x-python",
   "name": "python",
   "nbconvert_exporter": "python",
   "pygments_lexer": "ipython3",
   "version": "3.6.6"
  }
 },
 "nbformat": 4,
 "nbformat_minor": 2
}
