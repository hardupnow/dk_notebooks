{
 "cells": [
  {
   "cell_type": "markdown",
   "metadata": {},
   "source": [
    "<a name=\"pagetop\"></a>\n",
    "<div style=\"width:1000 px\">\n",
    "\n",
    "<div style=\"float:right; width:98 px; height:98px;\"><img src=\"https://pbs.twimg.com/profile_images/1187259618/unidata_logo_rgb_sm_400x400.png\" alt=\"Unidata Logo\" style=\"height: 98px;\"></div>\n",
    "\n",
    "<h1>Plotting Satellite Data</h1>\n",
    "<h3>Unidata Python Workshop</h3>\n",
    "\n",
    "<div style=\"clear:both\"></div>\n",
    "</div>\n",
    "\n",
    "<hr style=\"height:2px;\">\n",
    "\n",
    "<div style=\"float:right; width:250 px\"><img src=\"https://unidata.github.io/MetPy/latest/_images/sphx_glr_GINI_Water_Vapor_001.png\" alt=\"Example Satellite Image\" style=\"height: 500px;\"></div>\n",
    "\n",
    "\n",
    "## Overview:\n",
    "\n",
    "* **Teaching:** 60 minutes\n",
    "* **Exercises:** 30 minutes\n",
    "\n",
    "### Questions\n",
    "1. Where are current GOES data available?\n",
    "1. How can satellite data be obtained with Siphon?\n",
    "1. How can MetPy simplify metadata parsing?\n",
    "1. How can maps of satellite data be made?\n",
    "\n",
    "### Table of Contents\n",
    "1. <a href=\"#findingdata\">Finding GOES data</a>\n",
    "1. <a href=\"#dataaccess\">Accessing data with Siphon</a>\n",
    "1. <a href=\"#parse\">Digging into and parsing the data</a>\n",
    "1. <a href=\"#plotting\">Plotting the data</a>\n",
    "1. <a href=\"#animation\">Bonus: Animations</a>"
   ]
  },
  {
   "cell_type": "markdown",
   "metadata": {},
   "source": [
    "<hr style=\"height:2px;\">\n",
    "\n",
    "<a name=\"findingdata\"></a>\n",
    "## Finding GOES Data"
   ]
  },
  {
   "cell_type": "markdown",
   "metadata": {},
   "source": [
    "The first step is to find the satellite data. Normally, we would browse over to http://thredds.ucar.edu/thredds/ and find the top-level [THREDDS Data Server (TDS)](https://www.unidata.ucar.edu/software/thredds/current/tds/TDS.html) catalog. From there we can drill down to find satellite data products.\n",
    "\n",
    "For current data, you could navigate to the `Test Datasets` directory, then `GOES Products` and `GOES-16`. There are subfolders for the CONUS, full disk, mesoscale sector images, and other products. In each of these is a folder for each [channel of the ABI](http://www.goes-r.gov/education/ABI-bands-quick-info.html). In each channel there is a folder for every day in the approximately month-long rolling archive. As you can see, there are a massive amount of data coming down from GOES-16!\n",
    "\n",
    "In the next section we'll be downloading the data in a pythonic way, so our first task is to build a URL that matches the URL we manually navigated to in the web browser. To make it as flexible as possible, we'll want to use variables for the sector name (CONUS, full-disk, mesoscale-1, etc.), the date, and the ABI channel number."
   ]
  },
  {
   "cell_type": "markdown",
   "metadata": {},
   "source": [
    "### Exercise\n",
    "\n",
    "* Create variables named `image_date`, `region`, and `channel`. Assign them to today's date, the mesoscale-1 region, and ABI channel 8. \n",
    "* Construct a string `data_url` from these variables and the URL we navigated to above.\n",
    "* Verify that following your link will take you where you think it should.\n",
    "* Change the extension from `catalog.html` to `catalog.xml`. What do you see?"
   ]
  },
  {
   "cell_type": "code",
   "execution_count": null,
   "metadata": {},
   "outputs": [],
   "source": [
    "from datetime import datetime\n",
    "\n",
    "# Create variables for URL generation\n",
    "# YOUR CODE GOES HERE\n",
    "\n",
    "# Construct the data_url string\n",
    "# YOUR CODE GOES HERE\n",
    "\n",
    "# Print out your URL and verify it works!\n",
    "# YOUR CODE GOES HERE"
   ]
  },
  {
   "cell_type": "markdown",
   "metadata": {},
   "source": [
    "#### Solution"
   ]
  },
  {
   "cell_type": "code",
   "execution_count": null,
   "metadata": {},
   "outputs": [],
   "source": [
    "# %load solutions/data_url.py\n"
   ]
  },
  {
   "cell_type": "markdown",
   "metadata": {},
   "source": [
    "<a href=\"#pagetop\">Top</a>\n",
    "<hr style=\"height:2px;\">"
   ]
  },
  {
   "cell_type": "markdown",
   "metadata": {},
   "source": [
    "<a name=\"dataaccess\"></a>\n",
    "## Accessing data with Siphon"
   ]
  },
  {
   "cell_type": "markdown",
   "metadata": {},
   "source": [
    "We could download the files to our computers from the THREDDS web interface, but that can become tedious for downloading many files, requires us to store them on our computer, and does not lend itself to automation.\n",
    "\n",
    "We can use [Siphon](https://github.com/Unidata/siphon) parse the catalog from the TDS. This provides us a nice programmatic way of accessing the data. We start by importing the `TDSCatalog` class from siphon and giving it the URL to the catalog we just surfed to manually. **Note:** Instead of giving it the link to the HTML catalog, we change the extension to XML, which asks the TDS for the XML version of the catalog. This is much better to work with in code. If you forget, the extension will be changed for you with a warning being issued from siphon.\n",
    "\n",
    "We want to create a `TDSCatalog` object called `cat` that we can examine and use to get handles to work with the data."
   ]
  },
  {
   "cell_type": "code",
   "execution_count": null,
   "metadata": {},
   "outputs": [],
   "source": [
    "from siphon.catalog import TDSCatalog"
   ]
  },
  {
   "cell_type": "code",
   "execution_count": null,
   "metadata": {},
   "outputs": [],
   "source": [
    "cat = TDSCatalog(data_url)"
   ]
  },
  {
   "cell_type": "markdown",
   "metadata": {},
   "source": [
    "To find the latest file, we can look at the `cat.datasets` attribute. Let’s look at the first five datasets:"
   ]
  },
  {
   "cell_type": "code",
   "execution_count": null,
   "metadata": {},
   "outputs": [],
   "source": [
    "cat.datasets[:5]"
   ]
  },
  {
   "cell_type": "code",
   "execution_count": null,
   "metadata": {},
   "outputs": [],
   "source": [
    "cat.datasets[0]"
   ]
  },
  {
   "cell_type": "markdown",
   "metadata": {},
   "source": [
    "We'll get the next to most recent dataset (sometimes the most recent will not have received all tiles yet) and store it as variable `dataset`. Note that we haven't actually downloaded or transferred any real data yet, just bits of metadata have been received from THREDDS and parsed by siphon."
   ]
  },
  {
   "cell_type": "code",
   "execution_count": null,
   "metadata": {},
   "outputs": [],
   "source": [
    "dataset = cat.datasets[1]"
   ]
  },
  {
   "cell_type": "code",
   "execution_count": null,
   "metadata": {},
   "outputs": [],
   "source": [
    "print(dataset)"
   ]
  },
  {
   "cell_type": "markdown",
   "metadata": {},
   "source": [
    "We're finally ready to get the actual data. We could download the file, then open that, but there is no need! We can use siphon to help us only get what we need and hold it in memory. Notice that we're using the XArray accessor which will make life much nicer that dealing with the raw netCDF (like we used to back in the days of early 2018)."
   ]
  },
  {
   "cell_type": "code",
   "execution_count": null,
   "metadata": {},
   "outputs": [],
   "source": [
    "ds = dataset.remote_access(use_xarray=True)"
   ]
  },
  {
   "cell_type": "markdown",
   "metadata": {},
   "source": [
    "<a href=\"#pagetop\">Top</a>\n",
    "<hr style=\"height:2px;\">"
   ]
  },
  {
   "cell_type": "markdown",
   "metadata": {},
   "source": [
    "<a name=\"parse\"></a>\n",
    "## Digging into and parsing the data"
   ]
  },
  {
   "cell_type": "markdown",
   "metadata": {},
   "source": [
    "Now that we've got some data - let's see what we actually got our hands on."
   ]
  },
  {
   "cell_type": "code",
   "execution_count": null,
   "metadata": {},
   "outputs": [],
   "source": [
    "ds"
   ]
  },
  {
   "cell_type": "markdown",
   "metadata": {},
   "source": [
    "Great, so we have an XArray Dataset object, something we've dealt with before! We also see that we have the coordinates `time`, `y`, and `x` as well as the data variables of `Sectorized_CMI` and the projection information."
   ]
  },
  {
   "cell_type": "markdown",
   "metadata": {},
   "source": [
    "<a href=\"#pagetop\">Top</a>\n",
    "<hr style=\"height:2px;\">"
   ]
  },
  {
   "cell_type": "markdown",
   "metadata": {},
   "source": [
    "<a name=\"plotting\"></a>\n",
    "## Plotting the Data"
   ]
  },
  {
   "cell_type": "markdown",
   "metadata": {},
   "source": [
    "To plot our data we'll be using MetPy's new declarative plotting functionality. You can write lots of matplotlib based code, but this interface greatly reduces the number of lines you need to write to get a great starting plot and then lets you customize it. The declarative plotting interface consists of three fundamental objects/concepts:\n",
    "\n",
    "* **Plot** - This is the actual representation of the data and can be `ImagePlot`, `ContourPlot`, or `Plot2D`.\n",
    "* **Panel** - This is a single panel (i.e. coordinate system). Panels contain plots. Currently the `MapPanel` is the only panel type available.\n",
    "* **Panel Container** - The container can hold multiple panels to make a multi-pane figure. Panel Containers can be thought of as the whole figure object in matplotlib.\n",
    "\n",
    "So containers have panels which have plots. It takes a second to get that straight in your mind, but it makes setting up complex figures very simple.\n",
    "\n",
    "For this plot we need a single panel and we want to plot the satellite image, so we'll use the `ImagePlot`."
   ]
  },
  {
   "cell_type": "code",
   "execution_count": null,
   "metadata": {},
   "outputs": [],
   "source": [
    "from metpy.plots import ImagePlot, MapPanel, PanelContainer\n",
    "%matplotlib inline"
   ]
  },
  {
   "cell_type": "markdown",
   "metadata": {},
   "source": [
    "Let's start out with the smalles element, the plot, and build up to the largest, the panel container.\n",
    "\n",
    "First, we'll make the `ImagePlot`:"
   ]
  },
  {
   "cell_type": "code",
   "execution_count": null,
   "metadata": {},
   "outputs": [],
   "source": [
    "img = ImagePlot()\n",
    "img.data = ds\n",
    "img.field = 'Sectorized_CMI'"
   ]
  },
  {
   "cell_type": "markdown",
   "metadata": {},
   "source": [
    "Next, we'll make the panel that our image will go into, the `MapPanel` objecet and add the image to the plots on the panel."
   ]
  },
  {
   "cell_type": "code",
   "execution_count": null,
   "metadata": {},
   "outputs": [],
   "source": [
    "panel = MapPanel()\n",
    "panel.plots = [img]"
   ]
  },
  {
   "cell_type": "markdown",
   "metadata": {},
   "source": [
    "Finally, we make the `PanelContainer` and add the panel to it's panels. Remember that since we can have multiple plots on a panel and multiple panels on a plot, we use lists. In this case is just happens to be a list of length 1."
   ]
  },
  {
   "cell_type": "code",
   "execution_count": null,
   "metadata": {},
   "outputs": [],
   "source": [
    "pc = PanelContainer()\n",
    "pc.panels = [panel]"
   ]
  },
  {
   "cell_type": "markdown",
   "metadata": {},
   "source": [
    "Unlike working with matplotlib directly in the notebooks, this figure hasn't actually been rendered yet. Calling the `show` method of the panel container builds up everything, renders, and shows it to us."
   ]
  },
  {
   "cell_type": "code",
   "execution_count": null,
   "metadata": {},
   "outputs": [],
   "source": [
    "pc.show()"
   ]
  },
  {
   "cell_type": "markdown",
   "metadata": {},
   "source": [
    "### Exercise\n",
    "* Look at the documentation for the `ImagePlot` [here](https://unidata.github.io/MetPy/latest/api/generated/metpy.plots.ImagePlot.html#metpy.plots.ImagePlot) and figure out how to set the colormap of the image. For this image, let's go with the `WVCIMMS_r` colormap as this is a mid-level water vapor image.\n",
    "* BONUS: Use the metpy `add_timestamp` method from `metpy.plots` to add a timestamp to the plot. You can get the axes object to plot on from the `ImagePlot`. The call will look something like `img.ax`. This needs to happen after the panels have been added to the `PanelContainer`.\n",
    "* DAILY DOUBLE: Using the `start_date_time` attribute on the dataset `ds`, change the call to `add_timestamp` to use that date and time and the pretext to say `GOES 16 Channel X`."
   ]
  },
  {
   "cell_type": "code",
   "execution_count": null,
   "metadata": {},
   "outputs": [],
   "source": [
    "# Import for the bonus exercise\n",
    "from metpy.plots import add_timestamp\n",
    "\n",
    "# Make the image plot\n",
    "# YOUR CODE GOES HERE\n",
    "\n",
    "# Make the map panel and add the image to it\n",
    "# YOUR CODE GOES HERE\n",
    "\n",
    "# Make the panel container and add the panel to it\n",
    "# YOUR CODE GOES HERE\n",
    "\n",
    "# Show the plot\n",
    "# YOUR CODE GOES HERE"
   ]
  },
  {
   "cell_type": "markdown",
   "metadata": {},
   "source": [
    "#### Solution"
   ]
  },
  {
   "cell_type": "code",
   "execution_count": null,
   "metadata": {},
   "outputs": [],
   "source": [
    "# %load solutions/sat_map.py\n"
   ]
  },
  {
   "cell_type": "markdown",
   "metadata": {},
   "source": [
    "### More about Colortables\n",
    "Colormapping in matplotlib (which backs CartoPy) is handled through two pieces:\n",
    "\n",
    "- The norm (normalization) controls how data values are converted to floating point values in the range [0, 1]\n",
    "- The colormap controls how values are converted from floating point values in the range [0, 1] to colors (think colortable)\n",
    "\n",
    "Let's try to determine a good range of values for the normalization. We'll make a histogram to see the distribution of values in the data, then clip that range down to enhance contrast in the data visualization.\n",
    "\n",
    "We use `compressed` to remove any masked elements before making our histogram."
   ]
  },
  {
   "cell_type": "code",
   "execution_count": null,
   "metadata": {},
   "outputs": [],
   "source": [
    "import matplotlib.pyplot as plt\n",
    "plt.hist(ds['Sectorized_CMI'].to_masked_array().compressed(), bins=255);"
   ]
  },
  {
   "cell_type": "code",
   "execution_count": null,
   "metadata": {},
   "outputs": [],
   "source": [
    "# Make the image plot\n",
    "img = ImagePlot()\n",
    "img.data = ds\n",
    "img.field = 'Sectorized_CMI'\n",
    "img.colormap = 'WVCIMSS_r'\n",
    "img.image_range = (200, 255)\n",
    "\n",
    "# Make the map panel and add the image to it\n",
    "panel = MapPanel()\n",
    "panel.plots = [img]\n",
    "\n",
    "# Make the panel container and add the panel to it\n",
    "pc = PanelContainer()\n",
    "pc.panels = [panel]\n",
    "pc.size = (10, 8)\n",
    "\n",
    "# Bonus\n",
    "start_time = datetime.strptime(ds.start_date_time, '%Y%j%H%M%S')\n",
    "add_timestamp(panel.ax, time=start_time)\n",
    "\n",
    "# Show the plot\n",
    "pc.show()"
   ]
  },
  {
   "cell_type": "markdown",
   "metadata": {},
   "source": [
    "In meteorology, we have many ‘standard’ colortables that have been used for certain types of data. We have included these in Metpy in the `metpy.plots.ctables` module. The `WVCIMSS` colormap is a direct conversion of a GEMPAK colormap. Let's remake that image with a range of 195 to 265. This was empirically determined to closely match other displays of water vapor data.\n",
    "\n",
    "We'll also dress up the plot a bit more to show a few other features."
   ]
  },
  {
   "cell_type": "code",
   "execution_count": null,
   "metadata": {},
   "outputs": [],
   "source": [
    "# Make the image plot\n",
    "img = ImagePlot()\n",
    "img.data = ds\n",
    "img.field = 'Sectorized_CMI'\n",
    "img.colormap = 'WVCIMSS_r'\n",
    "img.image_range = (195, 265)\n",
    "\n",
    "# Make the map panel and add the image to it\n",
    "panel = MapPanel()\n",
    "panel.plots = [img]\n",
    "panel.title = f'GOES-16 Ch.{channel}'\n",
    "\n",
    "# Make the panel container and add the panel to it\n",
    "pc = PanelContainer()\n",
    "pc.panels = [panel]\n",
    "pc.size = (10, 8)\n",
    "\n",
    "# Bonus\n",
    "start_time = datetime.strptime(ds.start_date_time, '%Y%j%H%M%S')\n",
    "add_timestamp(panel.ax, time=start_time, \n",
    "              pretext='Mid-level Water Vapor ',\n",
    "              high_contrast=True, fontsize=16, y=0.01)\n",
    "\n",
    "# Show the plot\n",
    "pc.show()"
   ]
  },
  {
   "cell_type": "markdown",
   "metadata": {},
   "source": [
    "<a href=\"#pagetop\">Top</a>\n",
    "<hr style=\"height:2px;\">"
   ]
  },
  {
   "cell_type": "markdown",
   "metadata": {},
   "source": [
    "<a name=\"animation\"></a>\n",
    "## Bonus: Animations\n",
    "**NOTE:**\n",
    "This is just a quick taste of producing an animation using matplotlib. The animation support in matplotlib is robust, but sometimes installation of the underlying tool (ffmpeg) can be a little tricky. In order to make sure we get don't get bogged down, this is really more of a demo than something expected to work out of the box.\n",
    "\n",
    "Conda-forge has packages, so it may be as easy as:"
   ]
  },
  {
   "cell_type": "code",
   "execution_count": null,
   "metadata": {},
   "outputs": [],
   "source": [
    "#!conda install -y -n unidata-workshop -c conda-forge ffmpeg"
   ]
  },
  {
   "cell_type": "markdown",
   "metadata": {},
   "source": [
    "First, we'll import the animation support from matplotlib. We also tell it that we want it to render the animations to HTML using the HTML5 video tag:"
   ]
  },
  {
   "cell_type": "code",
   "execution_count": null,
   "metadata": {},
   "outputs": [],
   "source": [
    "import os.path\n",
    "import sys\n",
    "from IPython.display import HTML\n",
    "from matplotlib.animation import ArtistAnimation\n",
    "import cartopy.feature as cfeature\n",
    "import cartopy.crs as ccrs\n",
    "from metpy.plots import colortables"
   ]
  },
  {
   "cell_type": "markdown",
   "metadata": {},
   "source": [
    "We create the base figure, then we loop over a bunch of the datasets to create an animation. For each one we pull out the data and plot both the timestamp and the image. The `ArtistAnimation` class takes the `Figure` instance and a list as required arguments. The contents of this list are a collection of matplotlib artists for each frame of the animation. In the loop below, we populate this list with the `Text` instance created when adding the timestamp as well as the image that results from plotting the data."
   ]
  },
  {
   "cell_type": "code",
   "execution_count": null,
   "metadata": {},
   "outputs": [],
   "source": [
    "import matplotlib as mpl\n",
    "mpl.rcParams['animation.embed_limit'] = 50\n",
    "\n",
    "# List used to store the contents of all frames. Each item in the list is a tuple of\n",
    "# (image, text)\n",
    "artists = []\n",
    "\n",
    "case_date = datetime(2017, 9, 9)\n",
    "\n",
    "# Get the IRMA case study catalog\n",
    "cat = TDSCatalog('http://thredds.ucar.edu/thredds/catalog/casestudies/irma'\n",
    "                 f'/goes16/Mesoscale-1/Channel{channel:02d}/{case_date:%Y%m%d}/'\n",
    "                 'catalog.xml')\n",
    "    \n",
    "datasets = cat.datasets.filter_time_range(datetime(2017, 9, 9), datetime(2017, 9, 9, 6))\n",
    "\n",
    "# Grab the first dataset and make the figure using its projection information\n",
    "ds = datasets[0]\n",
    "ds = ds.remote_access(use_xarray=True)\n",
    "dat = ds.metpy.parse_cf('Sectorized_CMI')\n",
    "proj = dat.metpy.cartopy_crs\n",
    "\n",
    "fig = plt.figure(figsize=(10,8))\n",
    "ax = fig.add_subplot(1, 1, 1, projection=proj)\n",
    "plt.subplots_adjust(left=0.005, bottom=0.005, right=0.995, top=0.995, wspace=0, hspace=0)\n",
    "ax.coastlines(resolution='50m', color='black')\n",
    "ax.add_feature(cfeature.BORDERS, linewidth=2)\n",
    "\n",
    "wv_norm, wv_cmap = colortables.get_with_range('WVCIMSS_r', 195, 265)\n",
    "\n",
    "# Loop over the datasets and make the animation\n",
    "for ds in datasets[::-6]:\n",
    "\n",
    "    # Open the data\n",
    "    ds = ds.remote_access(use_xarray=True)\n",
    "    dat = ds.metpy.parse_cf('Sectorized_CMI')\n",
    "    \n",
    "    # Pull out the image data, x and y coordinates, and the time. Also go ahead and\n",
    "    # convert the time to a python datetime\n",
    "    x = dat['x']\n",
    "    y = dat['y']\n",
    "    timestamp = datetime.strptime(ds.start_date_time, '%Y%j%H%M%S')\n",
    "    img_data = ds['Sectorized_CMI']\n",
    "\n",
    "    # Plot the image and the timestamp. We save the results of these plotting functions\n",
    "    # so that we can tell the animation that these two things should be drawn as one\n",
    "    # frame in the animation\n",
    "    im = ax.imshow(dat, extent=(x.min(), x.max(), y.min(), y.max()), origin='upper',\n",
    "                   cmap=wv_cmap, norm=wv_norm)\n",
    "\n",
    "    text_time = add_timestamp(ax, timestamp, pretext=f'GOES-16 Ch.{channel} ',\n",
    "                              high_contrast=True, fontsize=16, y=0.01)\n",
    "    \n",
    "    # Stuff them in a tuple and add to the list of things to animate\n",
    "    artists.append((im, text_time))\n",
    "\n",
    "# Create the animation--in addition to the required args, we also state that each\n",
    "# frame should last 200 milliseconds\n",
    "anim = ArtistAnimation(fig, artists, interval=200., blit=False)\n",
    "anim.save('GOES_Animation.mp4')\n",
    "HTML(anim.to_jshtml())"
   ]
  },
  {
   "cell_type": "markdown",
   "metadata": {},
   "source": [
    "<a href=\"#pagetop\">Top</a>\n",
    "<hr style=\"height:2px;\">"
   ]
  }
 ],
 "metadata": {
  "kernelspec": {
   "display_name": "Python 3",
   "language": "python",
   "name": "python3"
  },
  "language_info": {
   "codemirror_mode": {
    "name": "ipython",
    "version": 3
   },
   "file_extension": ".py",
   "mimetype": "text/x-python",
   "name": "python",
   "nbconvert_exporter": "python",
   "pygments_lexer": "ipython3",
   "version": "3.7.1"
  }
 },
 "nbformat": 4,
 "nbformat_minor": 2
}
