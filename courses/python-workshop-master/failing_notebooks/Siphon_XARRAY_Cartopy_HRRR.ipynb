{
 "cells": [
  {
   "cell_type": "markdown",
   "metadata": {},
   "source": [
    "<div style=\"width:1000 px\">\n",
    "\n",
    "<div style=\"float:right; width:98 px; height:98px;\">\n",
    "<img src=\"https://raw.githubusercontent.com/Unidata/MetPy/master/metpy/plots/_static/unidata_150x150.png\" alt=\"Unidata Logo\" style=\"height: 98px;\">\n",
    "</div>\n",
    "\n",
    "<h1>Extract HRRR data using Unidata's Siphon package and Xarray</h1>\n",
    "<h3>Unidata Python Workshop</h3>\n",
    "\n",
    "<div style=\"clear:both\"></div>\n",
    "</div>\n",
    "\n",
    "<hr style=\"height:2px;\">"
   ]
  },
  {
   "cell_type": "code",
   "execution_count": null,
   "metadata": {},
   "outputs": [],
   "source": [
    "import matplotlib.pyplot as plt\n",
    "import numpy as np\n",
    "%matplotlib inline"
   ]
  },
  {
   "cell_type": "code",
   "execution_count": null,
   "metadata": {},
   "outputs": [],
   "source": [
    "# Resolve the latest HRRR dataset\n",
    "from siphon.catalog import get_latest_access_url\n",
    "\n",
    "hrrr_catalog = \"http://thredds.ucar.edu/thredds/catalog/grib/NCEP/HRRR/CONUS_2p5km/catalog.xml\"\n",
    "latest_hrrr_ncss = get_latest_access_url(hrrr_catalog, \"NetcdfSubset\")\n",
    "\n",
    "# Set up access via NCSS\n",
    "from siphon.ncss import NCSS\n",
    "ncss = NCSS(latest_hrrr_ncss)\n",
    "\n",
    "# Create a query to ask for all times in netcdf4 format for\n",
    "# the Temperature_surface variable, with a bounding box\n",
    "query = ncss.query()"
   ]
  },
  {
   "cell_type": "code",
   "execution_count": null,
   "metadata": {},
   "outputs": [],
   "source": [
    "query.all_times().accept('netcdf4').variables('Temperature_height_above_ground')\n",
    "query.lonlat_box(north=45, south=41, east=-67, west=-77)\n",
    "\n",
    "# Get the raw bytes and write to a file.\n",
    "data = ncss.get_data_raw(query)\n",
    "with open('test.nc', 'wb') as outf:\n",
    "    outf.write(data)"
   ]
  },
  {
   "cell_type": "markdown",
   "metadata": {},
   "source": [
    "## Try reading extracted data with Xarray"
   ]
  },
  {
   "cell_type": "code",
   "execution_count": null,
   "metadata": {},
   "outputs": [],
   "source": [
    "import xarray"
   ]
  },
  {
   "cell_type": "code",
   "execution_count": null,
   "metadata": {},
   "outputs": [],
   "source": [
    "nc = xarray.open_dataset('test.nc')"
   ]
  },
  {
   "cell_type": "code",
   "execution_count": null,
   "metadata": {},
   "outputs": [],
   "source": [
    "nc"
   ]
  },
  {
   "cell_type": "code",
   "execution_count": null,
   "metadata": {},
   "outputs": [],
   "source": [
    "var='Temperature_height_above_ground'\n",
    "ncvar = nc[var]\n",
    "ncvar"
   ]
  },
  {
   "cell_type": "code",
   "execution_count": null,
   "metadata": {},
   "outputs": [],
   "source": [
    "grid = nc[ncvar.grid_mapping]\n",
    "grid"
   ]
  },
  {
   "cell_type": "code",
   "execution_count": null,
   "metadata": {},
   "outputs": [],
   "source": [
    "lon0 = grid.longitude_of_central_meridian\n",
    "lat0 = grid.latitude_of_projection_origin\n",
    "lat1 = grid.standard_parallel\n",
    "earth_radius = grid.earth_radius"
   ]
  },
  {
   "cell_type": "markdown",
   "metadata": {},
   "source": [
    "## Try plotting the LambertConformal data with Cartopy"
   ]
  },
  {
   "cell_type": "code",
   "execution_count": null,
   "metadata": {},
   "outputs": [],
   "source": [
    "import cartopy\n",
    "import cartopy.crs as ccrs"
   ]
  },
  {
   "cell_type": "code",
   "execution_count": null,
   "metadata": {},
   "outputs": [],
   "source": [
    "#cartopy wants meters, not km\n",
    "x = ncvar.x.data*1000.\n",
    "y = ncvar.y.data*1000."
   ]
  },
  {
   "cell_type": "code",
   "execution_count": null,
   "metadata": {},
   "outputs": [],
   "source": [
    "#globe = ccrs.Globe(ellipse='WGS84') #default\n",
    "globe = ccrs.Globe(ellipse='sphere', semimajor_axis=grid.earth_radius)\n",
    "\n",
    "crs = ccrs.LambertConformal(central_longitude=lon0, central_latitude=lat0, \n",
    "                            standard_parallels=(lat0,lat1), globe=globe)"
   ]
  },
  {
   "cell_type": "code",
   "execution_count": null,
   "metadata": {},
   "outputs": [],
   "source": [
    "print(ncvar.x.data.shape)\n",
    "print(ncvar.y.data.shape)\n",
    "print(ncvar.data.shape)"
   ]
  },
  {
   "cell_type": "code",
   "execution_count": null,
   "metadata": {},
   "outputs": [],
   "source": [
    "# find the correct time dimension name\n",
    "for d in ncvar.dims:\n",
    "    if \"time\" in d: \n",
    "        timevar = d\n",
    "nc[timevar].data[6]"
   ]
  },
  {
   "cell_type": "code",
   "execution_count": null,
   "metadata": {},
   "outputs": [],
   "source": [
    "istep = 6\n",
    "fig = plt.figure(figsize=(12,8))\n",
    "ax = plt.axes(projection=ccrs.PlateCarree())\n",
    "mesh = ax.pcolormesh(x,y,ncvar[istep,::].data.squeeze(), transform=crs,zorder=0)\n",
    "ax.coastlines(resolution='10m',color='black',zorder=1)\n",
    "gl = ax.gridlines(draw_labels=True)\n",
    "gl.xlabels_top = False\n",
    "gl.ylabels_right = False\n",
    "plt.title(nc[timevar].data[istep]);\n",
    "\n",
    "# TODO: This is to workaround a bug in cartopy 0.14\n",
    "from matplotlib.transforms import Bbox\n",
    "if hasattr(mesh, '_corners'): mesh._corners = Bbox(mesh._corners)"
   ]
  }
 ],
 "metadata": {
  "gist_id": "310b790a3a2cfdc8d06e",
  "kernelspec": {
   "display_name": "Python 3",
   "language": "python",
   "name": "python3"
  },
  "language_info": {
   "codemirror_mode": {
    "name": "ipython",
    "version": 3
   },
   "file_extension": ".py",
   "mimetype": "text/x-python",
   "name": "python",
   "nbconvert_exporter": "python",
   "pygments_lexer": "ipython3",
   "version": "3.6.6"
  }
 },
 "nbformat": 4,
 "nbformat_minor": 1
}
