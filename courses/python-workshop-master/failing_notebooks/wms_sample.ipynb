{
 "cells": [
  {
   "cell_type": "markdown",
   "metadata": {},
   "source": [
    "<div style=\"width:1000 px\">\n",
    "\n",
    "<div style=\"float:right; width:98 px; height:98px;\">\n",
    "<img src=\"https://raw.githubusercontent.com/Unidata/MetPy/master/metpy/plots/_static/unidata_150x150.png\" alt=\"Unidata Logo\" style=\"height: 98px;\">\n",
    "</div>\n",
    "\n",
    "<h1>Exploring Web Map Service (WMS)</h1>\n",
    "<h3>Unidata Python Workshop</h3>\n",
    "\n",
    "<div style=\"clear:both\"></div>\n",
    "</div>\n",
    "\n",
    "<hr style=\"height:2px;\">\n",
    "\n",
    "1. <a href=\"#helperFunctions\">Image Helper Funcitons</a>\n",
    "2. <a href=\"#mainLibs\">WMS and OWSLib</a>\n",
    "3. <a href=\"#serviceInfo\">Getting some information about the service</a>\n",
    "4. <a href=\"#basicGetMap\">Getting the basic information we need to perform a GetMap request</a>\n",
    "5. <a href=\"#advancedGetMap\">More on GetMap request</a>\n",
    "6. <a href=\"#ncWmsExtensions\">TDS-ncWMS styles and extensions</a>\n",
    "7. <a href=\"#wmsAndCartopy\">WMS and Cartopy</a>"
   ]
  },
  {
   "cell_type": "markdown",
   "metadata": {},
   "source": [
    "# 1. <a name=\"helperFunctions\">Image Helper Functions</a>\n",
    " * At a very basic level, a WMS service returns an image\n",
    " * Let's define a few helper functions to save and load images from a temporairy directory or url"
   ]
  },
  {
   "cell_type": "code",
   "execution_count": null,
   "metadata": {},
   "outputs": [],
   "source": [
    "# Function to get tmp image dir. If it does not exist, \n",
    "#  create it\n",
    "def getTmpImgDir():\n",
    "    from os import makedirs\n",
    "    from os.path import exists, join\n",
    "    tmp_img_dir = \"tmp_img\"\n",
    "    if (not exists(tmp_img_dir)):\n",
    "        makedirs(tmp_img_dir)\n",
    "    return tmp_img_dir\n",
    "\n",
    "#Function that saves the layer as an image\n",
    "def saveLayerAsTmpImage(layer, inname):\n",
    "    from os.path import join\n",
    "    tmp_img_dir = getTmpImgDir()\n",
    "    full_img_path = join(tmp_img_dir, inname)\n",
    "    out = open(full_img_path, 'wb')\n",
    "    out.write(layer.read())\n",
    "    out.close()\n",
    "\n",
    "# Function to load image\n",
    "def loadTmpImage(image_name):\n",
    "    from IPython.core.display import Image\n",
    "    from os.path import join\n",
    "    tmp_img_dir = getTmpImgDir()\n",
    "    filename = join(tmp_img_dir, image_name)\n",
    "    return Image(filename)\n",
    "\n",
    "# Function to display image from a url\n",
    "def loadRemoteImage(imgUrl):\n",
    "    from IPython.core.display import Image\n",
    "    return Image(url = imgUrl)"
   ]
  },
  {
   "cell_type": "markdown",
   "metadata": {},
   "source": [
    "# 2. <a name=\"mainLibs\">About WMS and OWSLib</a>\n",
    "- WMS is the Open Geospatial Consortium (OGC) standard interface for requesting georeferenced __images__ through HTTP.\n",
    "- OWSLib is part of [geopython](http://geopython.github.io/), a GitHub organization comprised of Python projects related to geospatial. \n",
    "- OWSLib is a Python package for client programming with OGC Web Services (OWS) developed by [Tom Kralidis](http://www.kralidis.ca/).\n",
    "- OWSLib supports several OGC standards: WFS, WCS, SOS...and of course WMS 1.1.1. [More](http://geopython.github.io/OWSLib/).  "
   ]
  },
  {
   "cell_type": "markdown",
   "metadata": {},
   "source": [
    "# 3. <a name=\"serviceInfo\">Getting some information about the service</a>  \n",
    "  \n",
    "* We will use OWSLib package and in particular the owslib.wms module.\n",
    "* Within the TDS context, if WMS is enabled and set up in the catalogs, each dataset in the catalog will have a WMS access url\n",
    "* Let's use Siphon to get WMS access url for the latest run of the NCEP HRRR model.\n",
    "    "
   ]
  },
  {
   "cell_type": "code",
   "execution_count": null,
   "metadata": {},
   "outputs": [],
   "source": [
    "from owslib.wms import WebMapService\n",
    "from siphon.catalog import get_latest_access_url\n",
    "\n",
    "# just need a WMS url from one TDS dataset...NCEP HRRR 2.5km forecast model\n",
    "catalog = 'http://thredds.ucar.edu/thredds/catalog/grib/NCEP/HRRR/CONUS_2p5km/catalog.xml'\n",
    "serverurl = get_latest_access_url(catalog, 'WMS')\n",
    "\n",
    "wms = WebMapService( serverurl, version='1.1.1')\n",
    "wms.url"
   ]
  },
  {
   "cell_type": "markdown",
   "metadata": {},
   "source": [
    "## The WebMapService object gets all the information available about the service through a GetCapabilities request:"
   ]
  },
  {
   "cell_type": "code",
   "execution_count": null,
   "metadata": {
    "scrolled": true
   },
   "outputs": [],
   "source": [
    "#This is general information, common to all datasets in a TDS server\n",
    "operations =[ op.name for op in  wms.operations ]\n",
    "print('Available operations: ')\n",
    "print(operations)\n",
    "\n",
    "print('General information (common to all datasets):')\n",
    "print(wms.identification.type)\n",
    "print(wms.identification.abstract)\n",
    "print(wms.identification.keywords)\n",
    "print(wms.identification.version)\n",
    "print(wms.identification.title)"
   ]
  },
  {
   "cell_type": "markdown",
   "metadata": {},
   "source": [
    "## What's in the dataset?\n",
    "- Each variable in a dataset translates into a layer in the WMS service. \n",
    "- Bounding boxes, styles and dimensions are specific to each layer. \n",
    "- The server creates virtual layers if it finds vector components in CF-1 or Grib conventions. "
   ]
  },
  {
   "cell_type": "code",
   "execution_count": null,
   "metadata": {
    "scrolled": true
   },
   "outputs": [],
   "source": [
    "#Listing all available layers...\n",
    "layers = list(wms.contents)\n",
    "for l in layers:\n",
    "    print('Layer title: '+wms[l].title +', name:'+wms[l].name)"
   ]
  },
  {
   "cell_type": "markdown",
   "metadata": {},
   "source": [
    "# 4. <a name=\"basicGetMap\">Getting the basic information we need to perform a GetMap request</a>\n",
    "\n",
    "-  All the information that clients need is available in the capabilities document, which is stored in the WebMapService object.\n",
    "-  The WMS included in the TDS (ncWMS) only supports GetMap requests on one layer (variable).\n",
    "-  We need to choose our layer, bounding box, spatial reference system (SRS), the size, and format of the image.\n",
    "\n",
    "## What is available?\n"
   ]
  },
  {
   "cell_type": "code",
   "execution_count": null,
   "metadata": {},
   "outputs": [],
   "source": [
    "#Values common to all GetMap requests: formats and http methods:\n",
    "print(wms.getOperationByName('GetMap').formatOptions)\n",
    "print(wms.getOperationByName('GetMap').methods)\n",
    "\n",
    "#Let's choose: 'wind @ Isobaric surface' (the value in the parameter must be name of the layer)\n",
    "wind = wms['wind @ Isobaric surface']\n",
    "\n",
    "#What is its bounding box?\n",
    "print(wind.boundingBox)\n",
    "\n",
    "#available CRS\n",
    "print(wind.crsOptions)\n",
    "# --> NOT ALL THE AVAILABLE CRS OPTIONS ARE LISTED\n",
    "# print elevations at which the wind is avaliable\n",
    "elevations = [elevation.strip() for elevation in wind.elevations]\n",
    "print(elevations)\n",
    "# units on the elevation are not exposed. 50,000 for a height -> probably Pa"
   ]
  },
  {
   "cell_type": "markdown",
   "metadata": {},
   "source": [
    "## Ok, let's request an image from the layer!"
   ]
  },
  {
   "cell_type": "code",
   "execution_count": null,
   "metadata": {},
   "outputs": [],
   "source": [
    "img_wind = wms.getmap( layers=[wind.name], #only takes one layer\n",
    "                  srs='EPSG:4326',\n",
    "                  bbox=(wind.boundingBox[0],wind.boundingBox[1], wind.boundingBox[2], wind.boundingBox[3]),\n",
    "                  size=(512, 512),\n",
    "                  format='image/png',\n",
    "                  elevation=elevations[0])\n",
    "\n",
    "# Save it..\n",
    "saveLayerAsTmpImage(img_wind, 'test_wind.png')\n",
    "\n",
    "# Display the image we've just saved...\n",
    "loadTmpImage('test_wind.png')"
   ]
  },
  {
   "cell_type": "markdown",
   "metadata": {},
   "source": [
    "# 5. <a name=\"advancedGetMap\">More on GetMap requests</a>\n",
    "\n",
    "* Handling time and vertical dimensions\n",
    "* Changing styles\n",
    "* Changing the spatial reference system (SRS)\n"
   ]
  },
  {
   "cell_type": "markdown",
   "metadata": {},
   "source": [
    "## Handling time and vertical dimensions\n",
    "* Getting available times and elevations for a layer\n",
    "* We can choose any of the available times and make a request for it with the parameter time\n",
    "* If no time is provided the default in TDS is the closest available time to the current time"
   ]
  },
  {
   "cell_type": "code",
   "execution_count": null,
   "metadata": {},
   "outputs": [],
   "source": [
    "\n",
    "times = [time.strip() for time in wind.timepositions]\n",
    "print(times)\n",
    "elevations = [elevation.strip() for elevation in wind.elevations]\n",
    "print(\"\")\n",
    "print(elevations)"
   ]
  },
  {
   "cell_type": "code",
   "execution_count": null,
   "metadata": {},
   "outputs": [],
   "source": [
    "img_wind = wms.getmap( layers=[wind.name], \n",
    "                  srs='EPSG:4326',\n",
    "                  bbox=(wind.boundingBox[0],wind.boundingBox[1], wind.boundingBox[2], wind.boundingBox[3]),\n",
    "                  size=(600, 600),\n",
    "                  format='image/png',\n",
    "                  elevation=elevations[0],\n",
    "                  time= times[-1]\n",
    ")\n",
    "\n",
    "saveLayerAsTmpImage(img_wind, 'test_wind.png')\n",
    "loadTmpImage('test_wind.png')"
   ]
  },
  {
   "cell_type": "markdown",
   "metadata": {},
   "source": [
    "## Animations\n",
    "* We can also specify a time interval to get an animated gif\n",
    "* Format must be image/gif"
   ]
  },
  {
   "cell_type": "code",
   "execution_count": null,
   "metadata": {},
   "outputs": [],
   "source": [
    "img_wind = wms.getmap( layers=[wind.name], \n",
    "                  srs='EPSG:4326',\n",
    "                  bbox=(wind.boundingBox[0],wind.boundingBox[1], wind.boundingBox[2], wind.boundingBox[3]),\n",
    "                  size=(600, 600),\n",
    "                  format='image/gif',\n",
    "                  elevation=elevations[0],\n",
    "                  time= f'{times[0]}/{times[4]}'\n",
    ")\n",
    "\n",
    "from IPython.core.display import Image\n",
    "loadRemoteImage(img_wind.geturl())"
   ]
  },
  {
   "cell_type": "markdown",
   "metadata": {},
   "source": [
    "* Getting the available vertical levels:  \n",
    "OWSLib does not support vertical levels, meaning the layer objects do not have a property \"elevations\" with the vertical levels. So, we need a little extra work to get the available vertical levels for a layer"
   ]
  },
  {
   "cell_type": "markdown",
   "metadata": {},
   "source": [
    "### Changing styles\n",
    "* We can specify the style (any from the available styles for a layer) in the param styles"
   ]
  },
  {
   "cell_type": "code",
   "execution_count": null,
   "metadata": {},
   "outputs": [],
   "source": [
    "#available styles: \n",
    "#print wind.styles\n",
    "#Change the style of our layer\n",
    "img_wind = wms.getmap( layers=[wind.name], #only takes one layer\n",
    "                  styles=['barb/rainbow'], #one style per layer    \n",
    "                  srs='EPSG:4326',\n",
    "                  bbox=(wind.boundingBox[0],wind.boundingBox[1], wind.boundingBox[2], wind.boundingBox[3]),\n",
    "                  size=(600, 600),\n",
    "                  format='image/png',\n",
    "                  elevation=elevations[0],\n",
    "                  time= times[0]\n",
    ")\n",
    "\n",
    "saveLayerAsTmpImage(img_wind, 'test_wind_barb.png')\n",
    "loadTmpImage('test_wind_barb.png')"
   ]
  },
  {
   "cell_type": "markdown",
   "metadata": {},
   "source": [
    "### Changing the spatial reference system (SRS)\n",
    "* We can reproject to any of the available SRS."
   ]
  },
  {
   "cell_type": "code",
   "execution_count": null,
   "metadata": {},
   "outputs": [],
   "source": [
    "#Reproject the bounding box to a global mercator (EPSG:3875, projection used by Google Maps, OSM...) using cartopy\n",
    "import cartopy.crs as ccrs\n",
    "epsg = 3857\n",
    "psproj = ccrs.epsg(epsg)\n",
    "xmin, ymin = psproj.transform_point(wind.boundingBox[0], wind.boundingBox[1], ccrs.Geodetic())\n",
    "xmax, ymax = psproj.transform_point(wind.boundingBox[2], wind.boundingBox[3], ccrs.Geodetic())\n",
    "img_wind = wms.getmap( layers=[wind.name],\n",
    "                  srs='EPSG:%d' % epsg,\n",
    "                  bbox=(xmin, ymin, xmax, ymax),\n",
    "                  size=(600, 600),\n",
    "                  format='image/png',\n",
    "                  elevation=elevations[0],\n",
    "                  time= times[0]\n",
    ")\n",
    "\n",
    "saveLayerAsTmpImage(img_wind, 'test_wind_3857.png')\n",
    "loadTmpImage('test_wind_3857.png')"
   ]
  },
  {
   "cell_type": "markdown",
   "metadata": {},
   "source": [
    "## Finally, let's see how much work it is to change our layer"
   ]
  },
  {
   "cell_type": "code",
   "execution_count": null,
   "metadata": {},
   "outputs": [],
   "source": [
    "temp = wms['Temperature_height_above_ground']\n",
    "img_temp = wms.getmap( layers=[temp.name], \n",
    "                  styles=['boxfill/rainbow'], \n",
    "                  srs='EPSG:4326',\n",
    "                  bbox=(temp.boundingBox[0],temp.boundingBox[1], temp.boundingBox[2], temp.boundingBox[3]),\n",
    "                  size=(600, 600),\n",
    "                  format='image/png',\n",
    "                  elevation=2,\n",
    "                  time= times[0]\n",
    ")\n",
    "\n",
    "saveLayerAsTmpImage(img_temp, 'test_temp.png')\n",
    "loadTmpImage('test_temp.png')"
   ]
  },
  {
   "cell_type": "markdown",
   "metadata": {},
   "source": [
    "# 6. <a name=\"ncWmsExtensions\">TDS-ncWMS styles and extensions<a/>\n",
    "\n",
    "* ncWMS/THREDDS provides some __[non-standard WMS parameters](http://www.resc.rdg.ac.uk/trac/ncWMS/wiki/WmsExtensions)__ that allow clients some control on the styling.\n",
    "\n",
    "* Change the scale range: \n",
    " * Default is -50,50. Parameter colorscalerange allows us to use a different scale  \n"
   ]
  },
  {
   "cell_type": "code",
   "execution_count": null,
   "metadata": {
    "scrolled": true
   },
   "outputs": [],
   "source": [
    "img_temp = wms.getmap( layers=[temp.name], \n",
    "                  styles=['boxfill/rainbow'], \n",
    "                  srs='EPSG:4326',\n",
    "                  bbox=(temp.boundingBox[0],temp.boundingBox[1], temp.boundingBox[2], temp.boundingBox[3]),\n",
    "                  size=(600, 600),\n",
    "                  format='image/png',\n",
    "                  time= times[0],\n",
    "                  colorscalerange='250,320'\n",
    ")\n",
    "\n",
    "saveLayerAsTmpImage(img_temp, 'test_temp.png')\n",
    "loadTmpImage('test_temp.png')"
   ]
  },
  {
   "cell_type": "markdown",
   "metadata": {},
   "source": [
    "# More control over colors\n",
    "* abovemaxcolor, belowmincolor params give us control on how we want the values out of range to be displayed.\n",
    "* valid values for those params are: extend (will use the highest/lowest value of the palette for values larger/smaller than the maximun/minimun), transparent and a color in 0xRRGGBB format\n",
    "* sytles: defines the colorbar used"
   ]
  },
  {
   "cell_type": "code",
   "execution_count": null,
   "metadata": {},
   "outputs": [],
   "source": [
    "colorscalerange='290,310'\n",
    "\n",
    "img_temp = wms.getmap( layers=[temp.name], \n",
    "                  styles=['boxfill/rainbow'], \n",
    "                  srs='EPSG:4326',\n",
    "                  bbox=(temp.boundingBox[0],temp.boundingBox[1], temp.boundingBox[2], temp.boundingBox[3]),\n",
    "                  size=(600, 600),\n",
    "                  format='image/png',\n",
    "                  time= times[0],\n",
    "                  colorscalerange=colorscalerange,\n",
    "                  abovemaxcolor='transparent',\n",
    "                  belowmincolor='transparent'\n",
    ")\n",
    "saveLayerAsTmpImage(img_temp, 'test_temp.png')\n",
    "loadTmpImage('test_temp.png')"
   ]
  },
  {
   "cell_type": "markdown",
   "metadata": {},
   "source": [
    "## The GetLegendGraphic request gives us a legend for the map, but the request is not supported by OWSLib."
   ]
  },
  {
   "cell_type": "code",
   "execution_count": null,
   "metadata": {},
   "outputs": [],
   "source": [
    "params ={'request': 'GetLegendGraphic',\n",
    "         'colorbaronly':'False', #want the text in the legend\n",
    "         'layer':temp.name,\n",
    "         'colorscalerange':colorscalerange}\n",
    "\n",
    "legendUrl=serverurl+'?REQUEST={request:s}&COLORBARONLY={colorbaronly:s}&LAYER={layer:s}&COLORSCALERANGE={colorscalerange:s}'.format(**params)\n",
    "\n",
    "loadRemoteImage(legendUrl)\n"
   ]
  },
  {
   "cell_type": "markdown",
   "metadata": {},
   "source": [
    "## 7. <a name=\"wmsAndCartopy\">ncWMS and Cartopy</a>  \n",
    " * We can use Cartopy geolocate a layer and overlay it with political borders and coastlines\n",
    " * Note that Cartopy directly use the return from the WMS service, so no need to use the helper functions to save an image to a temporary location\n",
    " * Cartopy is ***not*** limited to using the colorbars from ncWMS.\n",
    " * Cartopy is ***not*** limited to using the projections enabled by ncWMS."
   ]
  },
  {
   "cell_type": "code",
   "execution_count": null,
   "metadata": {},
   "outputs": [],
   "source": [
    "%matplotlib inline\n",
    "import cartopy\n",
    "import matplotlib as mpl\n",
    "import matplotlib.pyplot as plt\n",
    "\n",
    "# get the first time - Forecast Hour 0\n",
    "times = [time.strip() for time in temp.timepositions]\n",
    "time = times[0]\n",
    "# only one elevation, so use it\n",
    "elevations = [elevation.strip() for elevation in temp.elevations]\n",
    "elevation = elevations[0]\n",
    "# have to guess the range\n",
    "color_max = 315  # K\n",
    "color_min = 273  # K\n",
    "colorscalerange = f'{color_min},{color_max}'\n",
    "\n",
    "# pick a projection - going with Miller for this example\n",
    "# note that with Cartopy you are NOT limited to the projections avaliable through ncWMS\n",
    "plt_proj = cartopy.crs.Miller()\n",
    "\n",
    "fig, ax = plt.subplots(figsize=(12,12), subplot_kw={'projection': plt_proj})\n",
    "\n",
    "# Colorbar goodness\n",
    "cax = fig.add_axes([0.95, 0.3, 0.02, 0.42])\n",
    "norm = plt.Normalize(vmin=color_min, vmax=color_max)\n",
    "cmap = plt.cm.gist_heat\n",
    "cmap.set_under('None') # Colors below minimum should be transparent\n",
    "cb = mpl.colorbar.ColorbarBase(cax, cmap=cmap, norm=norm, spacing='proportional', orientation='vertical')\n",
    "cb.set_label('Temperature [K]')\n",
    "\n",
    "# use bounding box info obtained from the ncWMS service to frame the image\n",
    "extent = (temp.boundingBox[0], temp.boundingBox[2], temp.boundingBox[1], temp.boundingBox[3])\n",
    "ax.set_extent(extent)\n",
    "\n",
    "# ncWMS keywords (which includes the WMS keywords as well)\n",
    "wms_kwargs = {'colorscalerange': colorscalerange,\n",
    "              'abovemaxcolor': 'transparent',\n",
    "              'belowmincolor': 'transparent',\n",
    "              'transparent': 'true',\n",
    "              'elevation': elevation,\n",
    "              'time': time}\n",
    "\n",
    "# plot the layer using Cartopy's WMS interface\n",
    "im = ax.add_wms(wms=serverurl, layers=[temp.name], wms_kwargs=wms_kwargs, cmap=cmap, zorder=2)\n",
    "\n",
    "# Range for image data should above pixels with 0 value. This makes the 0 values\n",
    "# transparent\n",
    "im.norm.vmin = 1\n",
    "\n",
    "# add coastlines, country borders and state outlines\n",
    "ax.add_feature(cartopy.feature.LAND, zorder=1)\n",
    "ax.add_feature(cartopy.feature.OCEAN, zorder=1)\n",
    "ax.add_feature(cartopy.feature.COASTLINE, zorder=3)\n",
    "ax.add_feature(cartopy.feature.BORDERS, zorder=3)\n",
    "ax.add_feature(cartopy.feature.NaturalEarthFeature(\n",
    "        category='cultural',\n",
    "        name='admin_1_states_provinces_lakes',\n",
    "        scale='50m',\n",
    "        facecolor='none'), linestyle=':', zorder=3)"
   ]
  },
  {
   "cell_type": "markdown",
   "metadata": {},
   "source": [
    "## Exercise (Ideas):\n",
    "- What happens if you remove all of the \"zorder\" keyword args in cell 16?\n",
    "- Plot a new layer (look at cell 4 for the available layers).\n",
    "- How would you request a specific layer for a variable with multiple vertical levels (for example, \"Temperature_isobaric\")\n",
    "- Use metpy to change the units from Kelvin to degC or degF in cell 16"
   ]
  }
 ],
 "metadata": {
  "kernelspec": {
   "display_name": "Python 3",
   "language": "python",
   "name": "python3"
  },
  "language_info": {
   "codemirror_mode": {
    "name": "ipython",
    "version": 3
   },
   "file_extension": ".py",
   "mimetype": "text/x-python",
   "name": "python",
   "nbconvert_exporter": "python",
   "pygments_lexer": "ipython3",
   "version": "3.7.1"
  }
 },
 "nbformat": 4,
 "nbformat_minor": 2
}
