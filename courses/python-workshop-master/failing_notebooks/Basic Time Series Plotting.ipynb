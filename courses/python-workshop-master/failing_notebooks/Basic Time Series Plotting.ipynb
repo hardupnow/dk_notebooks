{
 "cells": [
  {
   "cell_type": "markdown",
   "metadata": {},
   "source": [
    "<a name=\"top\"></a>\n",
    "<div style=\"width:1000 px\">\n",
    "\n",
    "<div style=\"float:right; width:98 px; height:98px;\">\n",
    "<img src=\"https://raw.githubusercontent.com/Unidata/MetPy/master/metpy/plots/_static/unidata_150x150.png\" alt=\"Unidata Logo\" style=\"height: 98px;\">\n",
    "</div>\n",
    "\n",
    "<h1>Basic Time Series Plotting</h1>\n",
    "<h3>Unidata Python Workshop</h3>\n",
    "\n",
    "<div style=\"clear:both\"></div>\n",
    "</div>\n",
    "\n",
    "<hr style=\"height:2px;\">\n",
    "\n",
    "<div style=\"float:right; width:250 px\"><img src=\"http://matplotlib.org/_images/date_demo.png\" alt=\"METAR\" style=\"height: 300px;\"></div>\n",
    "\n",
    "\n",
    "## Overview:\n",
    "\n",
    "* **Teaching:** 45 minutes\n",
    "* **Exercises:** 30 minutes\n",
    "\n",
    "### Questions\n",
    "1. How can we obtain buoy data from the NDBC?\n",
    "1. How are plots created in Python?\n",
    "1. What features does Matplotlib have for improving our time series plots?\n",
    "1. How can multiple y-axes be used in a single plot?\n",
    "\n",
    "### Objectives\n",
    "1. <a href=\"#loaddata\">Obtaining data</a>\n",
    "1. <a href=\"#basictimeseries\">Basic timeseries plotting</a>\n",
    "1. <a href=\"#multiy\">Multiple y-axes</a>"
   ]
  },
  {
   "cell_type": "markdown",
   "metadata": {},
   "source": [
    "<a name=\"loaddata\"></a>\n",
    "## Obtaining Data\n",
    "To learn about time series analysis, we first need to find some data and get it into Python. In this case we're going to use data from the [National Data Buoy Center](http://www.ndbc.noaa.gov). We'll use the [pandas](http://pandas.pydata.org) library for our data subset and manipulation operations after obtaining the data with siphon. \n",
    "\n",
    "Each buoy has many types of data availabe, you can read all about it in the [NDBC Web Data Guide](https://www.ndbc.noaa.gov/docs/ndbc_web_data_guide.pdf). There is a mechanism in siphon to see which data types are available for a given buoy."
   ]
  },
  {
   "cell_type": "code",
   "execution_count": null,
   "metadata": {},
   "outputs": [],
   "source": [
    "from siphon.simplewebservice.ndbc import NDBC\n",
    "\n",
    "data_types = NDBC.buoy_data_types('46042')\n",
    "print(data_types)"
   ]
  },
  {
   "cell_type": "markdown",
   "metadata": {},
   "source": [
    "In this case, we'll just stick with the standard meteorological data. The \"realtime\" data from NDBC contains approximately 45 days of data from each buoy. We'll retreive that record for buoy 51002 and then do some cleaning of the data. "
   ]
  },
  {
   "cell_type": "code",
   "execution_count": null,
   "metadata": {},
   "outputs": [],
   "source": [
    "df = NDBC.realtime_observations('46042')"
   ]
  },
  {
   "cell_type": "code",
   "execution_count": null,
   "metadata": {},
   "outputs": [],
   "source": [
    "df.tail()"
   ]
  },
  {
   "cell_type": "markdown",
   "metadata": {},
   "source": [
    "Let's get rid of the columns with all missing data. We could use the `drop` method and manually name all of the columns, but that would require us to know which are all `NaN` and that sounds like manual labor - something that programmers hate. Pandas has the `dropna` method that allows us to drop rows or columns where any or all values are `NaN`. In this case, let's drop all columns with all `NaN` values."
   ]
  },
  {
   "cell_type": "code",
   "execution_count": null,
   "metadata": {},
   "outputs": [],
   "source": [
    "df = df.dropna(axis='columns', how='all')"
   ]
  },
  {
   "cell_type": "code",
   "execution_count": null,
   "metadata": {},
   "outputs": [],
   "source": [
    "df.head()"
   ]
  },
  {
   "cell_type": "markdown",
   "metadata": {},
   "source": [
    "<div class=\"alert alert-success\">\n",
    "    <b>EXERCISE</b>:\n",
    "     <ul>\n",
    "      <li>Use the realtime_observations method to retreive supplemental data for buoy 41002. **Note** assign the data to something other that df or you'll have to rerun the data download cell above. We suggest using the name supl_obs.</li>\n",
    "    </ul>\n",
    "</div>"
   ]
  },
  {
   "cell_type": "code",
   "execution_count": null,
   "metadata": {},
   "outputs": [],
   "source": [
    "# Your code goes here\n",
    "# supl_obs ="
   ]
  },
  {
   "cell_type": "markdown",
   "metadata": {},
   "source": [
    "<button data-toggle=\"collapse\" data-target=\"#sol1\" class='btn btn-primary'>Solution</button>\n",
    "\n",
    "<div id=\"sol1\" class=\"collapse\">\n",
    "<code><pre>\n",
    "supl_obs = NDBC.realtime_observations('41002', data_type='supl')\n",
    "supl_obs.tail()\n",
    "</pre></code>\n",
    "</div>"
   ]
  },
  {
   "cell_type": "markdown",
   "metadata": {},
   "source": [
    "Finally, we need to trim down the data. The file contains 45 days worth of observations. Let's look at the last week's worth of data."
   ]
  },
  {
   "cell_type": "code",
   "execution_count": null,
   "metadata": {},
   "outputs": [],
   "source": [
    "from datetime import datetime, timedelta\n",
    "idx = df.time >= (datetime.utcnow() - timedelta(days=7))\n",
    "df = df[idx]\n",
    "df.head()"
   ]
  },
  {
   "cell_type": "markdown",
   "metadata": {},
   "source": [
    "We're almost ready, but now the index column is not that meaningful. It starts at a non-zero row, which is fine with our initial file, but let's re-zero the index so we have a nice clean data frame to start with."
   ]
  },
  {
   "cell_type": "code",
   "execution_count": null,
   "metadata": {},
   "outputs": [],
   "source": [
    "df.reset_index(drop=True, inplace=True)\n",
    "df.head()"
   ]
  },
  {
   "cell_type": "markdown",
   "metadata": {},
   "source": [
    "<a href=\"#top\">Top</a>\n",
    "<hr style=\"height:2px;\">"
   ]
  },
  {
   "cell_type": "markdown",
   "metadata": {},
   "source": [
    "<a name=\"basictimeseries\"></a>\n",
    "## Basic Timeseries Plotting\n",
    "\n",
    "Matplotlib is a python 2D plotting library which produces publication quality figures in a variety of hardcopy formats and interactive environments across platforms. We're going to learn the basics of creating timeseries plots with matplotlib by plotting buoy wind, gust, temperature, and pressure data."
   ]
  },
  {
   "cell_type": "code",
   "execution_count": null,
   "metadata": {},
   "outputs": [],
   "source": [
    "# Convention for import of the pyplot interface\n",
    "import matplotlib.pyplot as plt\n",
    "\n",
    "# Set-up to have matplotlib use its support for notebook inline plots\n",
    "%matplotlib inline"
   ]
  },
  {
   "cell_type": "markdown",
   "metadata": {},
   "source": [
    "We'll start by plotting the windspeed observations from the buoy."
   ]
  },
  {
   "cell_type": "code",
   "execution_count": null,
   "metadata": {},
   "outputs": [],
   "source": [
    "plt.rc('font', size=12)\n",
    "fig, ax = plt.subplots(figsize=(10, 6))\n",
    "\n",
    "# Specify how our lines should look\n",
    "ax.plot(df.time, df.wind_speed, color='tab:orange', label='Windspeed')\n",
    "\n",
    "# Same as above\n",
    "ax.set_xlabel('Time')\n",
    "ax.set_ylabel('Speed (m/s)')\n",
    "ax.set_title('Buoy Wind Data')\n",
    "ax.grid(True)\n",
    "ax.legend(loc='upper left');"
   ]
  },
  {
   "cell_type": "markdown",
   "metadata": {},
   "source": [
    "Our x axis labels look a little crowded - let's try only labeling each day in our time series."
   ]
  },
  {
   "cell_type": "code",
   "execution_count": null,
   "metadata": {},
   "outputs": [],
   "source": [
    "# Helpers to format and locate ticks for dates\n",
    "from matplotlib.dates import DateFormatter, DayLocator\n",
    "\n",
    "# Set the x-axis to do major ticks on the days and label them like '07/20'\n",
    "ax.xaxis.set_major_locator(DayLocator())\n",
    "ax.xaxis.set_major_formatter(DateFormatter('%m/%d'))\n",
    "\n",
    "fig"
   ]
  },
  {
   "cell_type": "markdown",
   "metadata": {},
   "source": [
    "Now we can add wind gust speeds to the same plot as a dashed yellow line."
   ]
  },
  {
   "cell_type": "code",
   "execution_count": null,
   "metadata": {},
   "outputs": [],
   "source": [
    "# Use linestyle keyword to style our plot\n",
    "ax.plot(df.time, df.wind_gust, color='tab:olive', linestyle='--',\n",
    "        label='Wind Gust')\n",
    "# Redisplay the legend to show our new wind gust line\n",
    "ax.legend(loc='upper left')\n",
    "\n",
    "fig\n"
   ]
  },
  {
   "cell_type": "markdown",
   "metadata": {},
   "source": [
    "<div class=\"alert alert-success\">\n",
    "    <b>EXERCISE</b>:\n",
    "     <ul>\n",
    "    <li>Create your own figure and axes (<code>myfig, myax = plt.subplots(figsize=(10, 6))</code>) which plots temperature.</li>\n",
    "    <li>Change the x-axis major tick labels to display the shortened month and date (i.e. 'Sep DD' where DD is the day number). Look at the\n",
    "        <a href=\"https://docs.python.org/3.6/library/datetime.html#strftime-and-strptime-behavior\">\n",
    "            table of formatters</a> for help.\n",
    "    <li>Make sure you include a legend and labels!</li>\n",
    "    <li><b>BONUS:</b> try changing the <code>linestyle</code>, e.g., a blue dashed line.</li>\n",
    "    </ul>\n",
    "</div>"
   ]
  },
  {
   "cell_type": "code",
   "execution_count": null,
   "metadata": {},
   "outputs": [],
   "source": [
    "# Your code goes here\n"
   ]
  },
  {
   "cell_type": "markdown",
   "metadata": {},
   "source": [
    "<div class=\"alert alert-info\">\n",
    "    <b>Tip</b>:\n",
    "     If your figure goes sideways as you try multiple things, try running the notebook up to this point again\n",
    "     by using the Cell -> Run All Above option in the menu bar.\n",
    "</div>"
   ]
  },
  {
   "cell_type": "markdown",
   "metadata": {
    "scrolled": true
   },
   "source": [
    "<button data-toggle=\"collapse\" data-target=\"#sol2\" class='btn btn-primary'>View Solution</button>\n",
    "<div id=\"sol2\" class=\"collapse\">\n",
    "<code><pre>\n",
    "myfig, myax = plt.subplots(figsize=(10, 6))\n",
    "\n",
    "\\# Plot temperature\n",
    "myax.plot(df.time, df.air_temperature, color='tab:blue', linestyle='-.', label='Temperature')\n",
    "\n",
    "myax.set_xlabel('Time')\n",
    "myax.set_ylabel('Temperature (degC)')\n",
    "myax.set_title('Buoy 41056 Data')\n",
    "myax.grid(True)\n",
    "\n",
    "\\# format x axis labels\n",
    "myax.xaxis.set_major_locator(DayLocator())\n",
    "myax.xaxis.set_major_formatter(DateFormatter('%b %d'))\n",
    "\n",
    "myax.legend(loc='upper left');\n",
    "fig\n",
    "</pre></code>\n",
    "</div>"
   ]
  },
  {
   "cell_type": "markdown",
   "metadata": {},
   "source": [
    "<a href=\"#top\">Top</a>\n",
    "<hr style=\"height:2px;\">"
   ]
  },
  {
   "cell_type": "markdown",
   "metadata": {},
   "source": [
    "<a name=\"multiy\"></a>\n",
    "## Multiple y-axes\n",
    "What if we wanted to plot another variable in vastly different units on our plot? <br/>\n",
    "Let's return to our wind data plot and add pressure."
   ]
  },
  {
   "cell_type": "code",
   "execution_count": null,
   "metadata": {},
   "outputs": [],
   "source": [
    "# plot pressure data on same figure\n",
    "ax.plot(df.time, df.pressure, color='black', label='Pressure')\n",
    "ax.set_ylabel('Pressure')\n",
    "\n",
    "ax.legend(loc='upper left')\n",
    "\n",
    "fig"
   ]
  },
  {
   "cell_type": "markdown",
   "metadata": {},
   "source": [
    "That is less than ideal. We can't see detail in the data profiles! We can create a twin of the x-axis and have a secondary y-axis on the right side of the plot. We'll create a totally new figure here."
   ]
  },
  {
   "cell_type": "code",
   "execution_count": null,
   "metadata": {},
   "outputs": [],
   "source": [
    "fig, ax = plt.subplots(figsize=(10, 6))\n",
    "axb = ax.twinx()\n",
    "\n",
    "# Same as above\n",
    "ax.set_xlabel('Time')\n",
    "ax.set_ylabel('Speed (m/s)')\n",
    "ax.set_title('Buoy Data')\n",
    "ax.grid(True)\n",
    "\n",
    "# Plotting on the first y-axis\n",
    "ax.plot(df.time, df.wind_speed, color='tab:orange', label='Windspeed')\n",
    "ax.plot(df.time, df.wind_gust, color='tab:olive', linestyle='--', label='Wind Gust')\n",
    "ax.legend(loc='upper left');\n",
    "\n",
    "# Plotting on the second y-axis\n",
    "axb.set_ylabel('Pressure (hPa)')\n",
    "axb.plot(df.time, df.pressure, color='black', label='pressure')\n",
    "\n",
    "ax.xaxis.set_major_locator(DayLocator())\n",
    "ax.xaxis.set_major_formatter(DateFormatter('%b %d'))\n"
   ]
  },
  {
   "cell_type": "markdown",
   "metadata": {},
   "source": [
    "We're closer, but the data are plotting over the legend and not included in the legend. That's because the legend is associated with our primary y-axis. We need to append that data from the second y-axis."
   ]
  },
  {
   "cell_type": "code",
   "execution_count": null,
   "metadata": {},
   "outputs": [],
   "source": [
    "fig, ax = plt.subplots(figsize=(10, 6))\n",
    "axb = ax.twinx()\n",
    "\n",
    "# Same as above\n",
    "ax.set_xlabel('Time')\n",
    "ax.set_ylabel('Speed (m/s)')\n",
    "ax.set_title('Buoy 41056 Wind Data')\n",
    "ax.grid(True)\n",
    "\n",
    "# Plotting on the first y-axis\n",
    "ax.plot(df.time, df.wind_speed, color='tab:orange', label='Windspeed')\n",
    "ax.plot(df.time, df.wind_gust, color='tab:olive', linestyle='--', label='Wind Gust')\n",
    "\n",
    "# Plotting on the second y-axis\n",
    "axb.set_ylabel('Pressure (hPa)')\n",
    "axb.plot(df.time, df.pressure, color='black', label='pressure')\n",
    "\n",
    "ax.xaxis.set_major_locator(DayLocator())\n",
    "ax.xaxis.set_major_formatter(DateFormatter('%b %d'))\n",
    "\n",
    "# Handling of getting lines and labels from all axes for a single legend\n",
    "lines, labels = ax.get_legend_handles_labels()\n",
    "lines2, labels2 = axb.get_legend_handles_labels()\n",
    "axb.legend(lines + lines2, labels + labels2, loc='upper left');"
   ]
  },
  {
   "cell_type": "markdown",
   "metadata": {},
   "source": [
    "<div class=\"alert alert-success\">\n",
    "    <b>EXERCISE</b>:\n",
    "    Create your own plot that has the following elements:\n",
    "     <ul>\n",
    "    <li>A blue line representing the wave height measurements.</li>\n",
    "    <li>A green line representing wind speed on a secondary y-axis</li>\n",
    "    <li>Proper labels/title.</li>\n",
    "    <li>**Bonus**: Make the wave height data plot as points only with no line. Look at the documentation for the linestyle and marker arguments.</li>\n",
    "    </ul>\n",
    "</div>"
   ]
  },
  {
   "cell_type": "code",
   "execution_count": null,
   "metadata": {},
   "outputs": [],
   "source": [
    "# Your code goes here\n"
   ]
  },
  {
   "cell_type": "markdown",
   "metadata": {},
   "source": [
    "<button data-toggle=\"collapse\" data-target=\"#sol3\" class='btn btn-primary'>View Solution</button>\n",
    "<div id=\"sol3\" class=\"collapse\">\n",
    "<code><pre>\n",
    "myfig, myax = plt.subplots(figsize=(10, 6))\n",
    "myaxb = myax.twinx()\n",
    "\n",
    "\\# Same as above\n",
    "myax.set_xlabel('Time')\n",
    "myax.set_ylabel('Wave Height (m)')\n",
    "myax.set_title('Buoy Data')\n",
    "myax.grid(True)\n",
    "\n",
    "\\# Plotting on the first y-axis\n",
    "myax.plot(df.time, df.wave_height, color='tab:blue', label='Waveheight (m)',\n",
    "        linestyle='None', marker='o')\n",
    "\n",
    "\\# Plotting on the second y-axis\n",
    "myaxb.set_ylabel('Windspeed (m/s)')\n",
    "myaxb.plot(df.time, df.wind_speed, color='tab:green', label='Windspeed (m/s)')\n",
    "\n",
    "myax.xaxis.set_major_locator(DayLocator())\n",
    "myax.xaxis.set_major_formatter(DateFormatter('%b %d'))\n",
    "\n",
    "\\# Handling of getting lines and labels from all axes for a single legend\n",
    "mylines, mylabels = myax.get_legend_handles_labels()\n",
    "mylines2, mylabels2 = myaxb.get_legend_handles_labels()\n",
    "myax.legend(mylines + mylines2, mylabels + mylabels2, loc='upper left');\n",
    "</pre></code>\n",
    "</div>"
   ]
  },
  {
   "cell_type": "markdown",
   "metadata": {},
   "source": [
    "<a href=\"#top\">Top</a>\n",
    "<hr style=\"height:2px;\">"
   ]
  }
 ],
 "metadata": {
  "kernelspec": {
   "display_name": "Python 3",
   "language": "python",
   "name": "python3"
  },
  "language_info": {
   "codemirror_mode": {
    "name": "ipython",
    "version": 3
   },
   "file_extension": ".py",
   "mimetype": "text/x-python",
   "name": "python",
   "nbconvert_exporter": "python",
   "pygments_lexer": "ipython3",
   "version": "3.6.6"
  }
 },
 "nbformat": 4,
 "nbformat_minor": 1
}
