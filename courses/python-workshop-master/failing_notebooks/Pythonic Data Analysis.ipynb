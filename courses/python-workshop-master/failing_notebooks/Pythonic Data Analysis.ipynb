{
 "cells": [
  {
   "cell_type": "markdown",
   "metadata": {},
   "source": [
    "<a name=\"top\"></a>\n",
    "<div style=\"width:1000 px\">\n",
    "\n",
    "<div style=\"float:right; width:98 px; height:98px;\">\n",
    "<img src=\"https://raw.githubusercontent.com/Unidata/MetPy/master/metpy/plots/_static/unidata_150x150.png\" alt=\"Unidata Logo\" style=\"height: 98px;\">\n",
    "</div>\n",
    "\n",
    "<h1>Pythonic Data Analysis</h1>\n",
    "<h3>Unidata Python Workshop</h3>\n",
    "\n",
    "<div style=\"clear:both\"></div>\n",
    "</div>\n",
    "\n",
    "<hr style=\"height:2px;\">\n",
    "\n",
    "<div style=\"float:right; width:250 px\"><img src=\"http://matplotlib.org/_images/date_demo.png\" alt=\"METAR\" style=\"height: 300px;\"></div>\n",
    "\n",
    "\n",
    "## Overview:\n",
    "\n",
    "* **Teaching:** 45 minutes\n",
    "* **Exercises:** 45 minutes\n",
    "\n",
    "### Questions\n",
    "1. How can we employ Python language features to make complicated analysis require less code?\n",
    "1. How can we make multi panel plots?\n",
    "1. What can be done to eliminate repeated code that operates on sequences of objects?\n",
    "1. How can functions be used to encapsulate calculations and behaviors?\n",
    "\n",
    "### Objectives\n",
    "1. <a href=\"#basicfunctionality\">From the Time Series Plotting Episode</a>\n",
    "1. <a href=\"#multipanel\">Multi-panel plots</a>\n",
    "1. <a href=\"#iteration\">Iteration and Enumeration</a>\n",
    "1. <a href=\"#functions\">Functions</a>\n",
    "1. <a href=\"#plottingiteration\">Plotting with Iteration</a>\n",
    "1. <a href=\"#multifile\">Plotting Multiple Files</a>"
   ]
  },
  {
   "cell_type": "markdown",
   "metadata": {},
   "source": [
    "<a name=\"basicfunctionality\"></a>\n",
    "## From Time Series Plotting Episode\n",
    "Here's the basic set of imports and data reading functionality that we established in the [Basic Time Series Plotting](../Time_Series/Basic Time Series Plotting.ipynb) notebook."
   ]
  },
  {
   "cell_type": "code",
   "execution_count": null,
   "metadata": {},
   "outputs": [],
   "source": [
    "from datetime import datetime, timedelta\n",
    "import pandas as pd\n",
    "import matplotlib.pyplot as plt\n",
    "from matplotlib.dates import DateFormatter, DayLocator\n",
    "from siphon.simplewebservice.ndbc import NDBC\n",
    "\n",
    "%matplotlib inline"
   ]
  },
  {
   "cell_type": "code",
   "execution_count": null,
   "metadata": {},
   "outputs": [],
   "source": [
    "def read_buoy_data(buoy, days=7): \n",
    "    # Read in some data\n",
    "    df = NDBC.realtime_observations(buoy)\n",
    "\n",
    "    # Trim to the last 7 days\n",
    "    df = df[df['time'] > (datetime.utcnow() - timedelta(days=days))]\n",
    "    return df"
   ]
  },
  {
   "cell_type": "code",
   "execution_count": null,
   "metadata": {},
   "outputs": [],
   "source": [
    "df = read_buoy_data('41056')"
   ]
  },
  {
   "cell_type": "markdown",
   "metadata": {},
   "source": [
    "<a name=\"multipanel\"></a>\n",
    "## Multi-panel Plots\n",
    "\n",
    "Often we wish to create figures with multiple panels of data. It's common to separate variables of different types into these panels. We also don't want to create each panel as an individual figure and combine them in a tool like Illustrator - imagine having to do that for hundreds of plots!\n",
    "\n",
    "We can use the `subplots` method to specify a number of rows and columns of plots in our figure:"
   ]
  },
  {
   "cell_type": "code",
   "execution_count": null,
   "metadata": {},
   "outputs": [],
   "source": [
    "# ShareX means that the axes will share range, ticking, etc. for the x axis\n",
    "fig, (ax1, ax2) = plt.subplots(1, 2, sharex=True, figsize=(18, 6))\n",
    "\n",
    "# Panel 1\n",
    "ax1.plot(df.time, df.wind_speed, color='tab:orange', label='Windspeed')\n",
    "ax1.set_xlabel('Time')\n",
    "ax1.set_ylabel('Speed')\n",
    "ax1.set_title('Measured Winds')\n",
    "ax1.legend(loc='upper left')\n",
    "ax1.grid(True)\n",
    "\n",
    "# Not repeated only by sharing x\n",
    "ax1.xaxis.set_major_formatter(DateFormatter('%m/%d'))\n",
    "ax1.xaxis.set_major_locator(DayLocator())\n",
    "\n",
    "# Panel 2\n",
    "ax2.plot(df.time, df.pressure, color='black', label='Pressure')\n",
    "ax2.set_xlabel('Time')\n",
    "ax2.set_ylabel('hPa')\n",
    "ax2.set_title('Atmospheric Pressure')\n",
    "ax2.legend(loc='upper left')\n",
    "ax2.grid(True)\n",
    "\n",
    "plt.suptitle('Buoy 41056 Data', fontsize=24)"
   ]
  },
  {
   "cell_type": "markdown",
   "metadata": {},
   "source": [
    "So even with the sharing of axis information, there's still a lot of repeated code. This current version with just two parameters might still be ok, but:\n",
    "\n",
    "- What if we had more data being plotted on each axes?\n",
    "- What if we had many subplots?\n",
    "- What if we wanted to change one of the parameters?\n",
    "- What if we wanted to plot data from different files on the same plot?"
   ]
  },
  {
   "cell_type": "markdown",
   "metadata": {},
   "source": [
    "<a name=\"iteration\"></a>\n",
    "### Iteration and Enumeration\n",
    "Iterating over lists is a very useful tool to reduce the amount of repeated code you write. We're going to start out by iterating over a single list with a `for` loop. Unlike C or other common scientific languages, Python 'knows' how to iterate over certain objects without you needing to specify an index variable and do the book keeping on that."
   ]
  },
  {
   "cell_type": "code",
   "execution_count": null,
   "metadata": {},
   "outputs": [],
   "source": [
    "my_list = ['2001 A Space Obyssey',\n",
    "           'The Princess Bride',\n",
    "           'Monty Python and the Holy Grail']\n",
    "\n",
    "for item in my_list:\n",
    "    print(item)"
   ]
  },
  {
   "cell_type": "markdown",
   "metadata": {},
   "source": [
    "Using the `zip` function we can even iterate over multiple lists at the same time with ease:"
   ]
  },
  {
   "cell_type": "code",
   "execution_count": null,
   "metadata": {},
   "outputs": [],
   "source": [
    "my_other_list = ['I\\'m sorry, Dave. I\\'m afraid I can\\'t do that.',\n",
    "                 'My name is Inigo Montoya.',\n",
    "                 'It\\'s only a flesh wound.']\n",
    "\n",
    "for item in zip(my_list, my_other_list):\n",
    "    print(item)"
   ]
  },
  {
   "cell_type": "markdown",
   "metadata": {},
   "source": [
    "That's really handy, but needing to access each part of each item with an index like `item[0]` isn't very flexible, requires us to remember the layout of the item, and isn't best practice. Instead we can use Python's unpacking syntax to make things nice an intuitive."
   ]
  },
  {
   "cell_type": "code",
   "execution_count": null,
   "metadata": {},
   "outputs": [],
   "source": [
    "for reference, quote in zip(my_list, my_other_list):\n",
    "    print(reference, '-', quote)"
   ]
  },
  {
   "cell_type": "markdown",
   "metadata": {},
   "source": [
    "<div class=\"alert alert-success\">\n",
    "    <b>EXERCISE</b>:\n",
    "     <ul>\n",
    "    <li>Make two new lists named <code>plot_variables</code> and <code>plot_names</code>. Populate them\n",
    "        with the variable name and plot label string for windspeed and pressure.</li>\n",
    "    <li>Using the unpacking syntax, write a for loop that prints a sentence describing the action\n",
    "        that would be taken (i.e. Plotting variable wind_speed as Windspeed</li>\n",
    "    </ul>\n",
    "</div>"
   ]
  },
  {
   "cell_type": "code",
   "execution_count": null,
   "metadata": {},
   "outputs": [],
   "source": [
    "# Your code goes here\n"
   ]
  },
  {
   "cell_type": "markdown",
   "metadata": {},
   "source": [
    "<button data-toggle=\"collapse\" data-target=\"#sol1\" class='btn btn-primary'>View Solution</button>\n",
    "<div id=\"sol1\" class=\"collapse\">\n",
    "<code><pre>\n",
    "plot_variables = ['wind_speed', 'pressure']\n",
    "plot_names = ['Windspeed', 'Atmospheric Pressure']\n",
    "\n",
    "for var, name in zip(plot_variables, plot_names):\n",
    "    print('Plotting variable', var, 'as', name)\n",
    "</pre></code>\n",
    "</div>"
   ]
  },
  {
   "cell_type": "markdown",
   "metadata": {},
   "source": [
    "`zip` can also be used to \"unzip\" items."
   ]
  },
  {
   "cell_type": "code",
   "execution_count": null,
   "metadata": {},
   "outputs": [],
   "source": [
    "zipped_list = [(1, 2), \n",
    "               (3, 4),\n",
    "               (5, 6)]\n",
    "unzipped = zip(*zipped_list)\n",
    "print(list(unzipped))"
   ]
  },
  {
   "cell_type": "markdown",
   "metadata": {},
   "source": [
    "Let's break down what happened there. Zip pairs elements from all of the input arguements and hands those back to us. So effectively out `zip(*zipped_list)` is `zip((1, 2), (3, 4), (5, 6))`, so the first element from each input is paired (1, 3, 5), etc. You can think of it like unzipping or transposing. \n",
    "\n",
    "---"
   ]
  },
  {
   "cell_type": "markdown",
   "metadata": {},
   "source": [
    "We can use the `enumerate` function to 'count through' an iterable object as well. This can be useful when placing figures in certain rows/columns or when a counter is needed."
   ]
  },
  {
   "cell_type": "code",
   "execution_count": null,
   "metadata": {},
   "outputs": [],
   "source": [
    "for i, quote in enumerate(my_other_list):\n",
    "    print(i, ' - ', quote)"
   ]
  },
  {
   "cell_type": "markdown",
   "metadata": {},
   "source": [
    "<div class=\"alert alert-success\">\n",
    "    <b>EXERCISE</b>:\n",
    "     <ul>\n",
    "    <li>Combine what you've learned about enumeration and iteration to produce the following output:</li>\n",
    "    </ul>\n",
    "    <code>0  -  2001 A Space Obyssey  -  I'm sorry, Dave. I'm afraid I can't do that.\n",
    "1  -  The Princess Bride  -  My name is Inigo Montoya.\n",
    "2  -  Monty Python and the Holy Grail  -  It's only a flesh wound.</code>\n",
    "</div>"
   ]
  },
  {
   "cell_type": "code",
   "execution_count": null,
   "metadata": {},
   "outputs": [],
   "source": [
    "# Your code goes here\n"
   ]
  },
  {
   "cell_type": "markdown",
   "metadata": {},
   "source": [
    "<button data-toggle=\"collapse\" data-target=\"#sol2\" class='btn btn-primary'>View Solution</button>\n",
    "<div id=\"sol2\" class=\"collapse\">\n",
    "<code><pre>\n",
    "for i, item in enumerate(zip(my_list, my_other_list)):\n",
    "    reference, quote = item\n",
    "    print(i, ' - ', reference, ' - ', quote)\n",
    "</pre></code>\n",
    "</div>"
   ]
  },
  {
   "cell_type": "markdown",
   "metadata": {},
   "source": [
    "<a name=\"functions\"></a>\n",
    "### Functions\n",
    "You're probably already familiar with Python functions, but here's a quick refresher. Functions are used to house blocks of code that we can run repeatedly. Paramters are given as inputs, and values are returned from the function to where it was called. In the world of programming you can think of functions like paragraphs, they encapsulate a complete idea/process.\n",
    "\n",
    "Let's define a simple function that returns a value:"
   ]
  },
  {
   "cell_type": "code",
   "execution_count": null,
   "metadata": {},
   "outputs": [],
   "source": [
    "def silly_add(a, b):\n",
    "    return a + b"
   ]
  },
  {
   "cell_type": "markdown",
   "metadata": {},
   "source": [
    "We've re-implemented add which isn't incredibly exiciting, but that could be hundreds of lines of a numerical method, making a plot, or some other task. Using the function is simple:"
   ]
  },
  {
   "cell_type": "code",
   "execution_count": null,
   "metadata": {},
   "outputs": [],
   "source": [
    "result = silly_add(3, 4)\n",
    "print(result)"
   ]
  },
  {
   "cell_type": "markdown",
   "metadata": {},
   "source": [
    "<div class=\"alert alert-success\">\n",
    "    <b>EXERCISE</b>:\n",
    "     <ul>\n",
    "    <li>Write a function that returns powers of 2. (i.e. calling <code>myfunc(4)</code> returns 2^4)</li>\n",
    "    <li>**Bonus**: Using for loop iteration, print all powers of 2 from 0 to 24.</li>\n",
    "    </ul>\n",
    "</div>"
   ]
  },
  {
   "cell_type": "code",
   "execution_count": null,
   "metadata": {},
   "outputs": [],
   "source": [
    "# Your code goes here\n"
   ]
  },
  {
   "cell_type": "markdown",
   "metadata": {},
   "source": [
    "<button data-toggle=\"collapse\" data-target=\"#sol3\" class='btn btn-primary'>View Solution</button>\n",
    "<div id=\"sol3\" class=\"collapse\">\n",
    "<code><pre>\n",
    "def myfunc(exp):\n",
    "    return 2**exp\n",
    "\n",
    "for i in range(0, 25):\n",
    "    print(myfunc(i))\n",
    "</pre></code>\n",
    "</div>"
   ]
  },
  {
   "cell_type": "markdown",
   "metadata": {},
   "source": [
    "<a name=\"plottingiteration\"></a>\n",
    "### Plotting with Iteration\n",
    "Now let's bring what we've learned about iteration to bear on the problem of plotting. We'll start with a basic example and roll into a more involved system at the end.\n",
    "\n",
    "To begin, let's make an arbitrary number of plots in a single row:"
   ]
  },
  {
   "cell_type": "code",
   "execution_count": null,
   "metadata": {},
   "outputs": [],
   "source": [
    "# A list of names of variables we want to plot\n",
    "plot_variables = ['wind_speed', 'pressure']\n",
    "\n",
    "# Make our figure, now choosing number of subplots based on length of variable name list\n",
    "fig, axes = plt.subplots(1, len(plot_variables), sharex=True, figsize=(18, 6))\n",
    "\n",
    "# Loop over the list of subplots and names together\n",
    "for ax, var_name in zip(axes, plot_variables):\n",
    "    \n",
    "    ax.plot(df.time, df[var_name])\n",
    "\n",
    "    # Set label/title based on variable name--no longer hard-coded\n",
    "    ax.set_ylabel(var_name)\n",
    "    ax.set_title(f'Buoy {var_name}')\n",
    "\n",
    "    # Set up our formatting--note lack of repetition\n",
    "    ax.grid(True)\n",
    "    ax.set_xlabel('Time')\n",
    "    ax.xaxis.set_major_formatter(DateFormatter('%m/%d'))\n",
    "    ax.xaxis.set_major_locator(DayLocator())"
   ]
  },
  {
   "cell_type": "markdown",
   "metadata": {},
   "source": [
    "It's a step forward, but we've lost a lot of formatting information. The lines are both blue, the labels as less ideal, and the title just uses the variable name. We can use some of Python's features like dictionaries, functions, and string manipulation to help improve the versatility of the plotter.\n",
    "\n",
    "To start out, let's get the line color functionality back by using a Python dictionary to hold that information. Dictionaries can hold any data type and allow you to access that value with a key (hence the name key-value pair). We'll use the variable name for the key and the value will be the color of line to plot."
   ]
  },
  {
   "cell_type": "code",
   "execution_count": null,
   "metadata": {},
   "outputs": [],
   "source": [
    "colors = {'wind_speed': 'tab:orange', 'wind_gust': 'tab:olive', 'pressure': 'black'}"
   ]
  },
  {
   "cell_type": "markdown",
   "metadata": {},
   "source": [
    "To access the value, just access that element of the dictionary with the key."
   ]
  },
  {
   "cell_type": "code",
   "execution_count": null,
   "metadata": {},
   "outputs": [],
   "source": [
    "colors['pressure']"
   ]
  },
  {
   "cell_type": "markdown",
   "metadata": {},
   "source": [
    "Now let's apply that to our plot. We'll use the same code from the previous example, but now look up the line color in the dictionary."
   ]
  },
  {
   "cell_type": "code",
   "execution_count": null,
   "metadata": {},
   "outputs": [],
   "source": [
    "fig, axes = plt.subplots(1, len(plot_variables), sharex=True, figsize=(18, 6))\n",
    "\n",
    "for ax, var_name in zip(axes, plot_variables):\n",
    "\n",
    "    # Grab the color from our dictionary and pass it to plot()\n",
    "    color = colors[var_name]\n",
    "    ax.plot(df.time, df[var_name], color)\n",
    "\n",
    "    ax.set_ylabel(var_name)\n",
    "    ax.set_title(f'Buoy {var_name}')\n",
    "\n",
    "    ax.grid(True)\n",
    "    ax.set_xlabel('Time')\n",
    "    ax.xaxis.set_major_formatter(DateFormatter('%m/%d'))\n",
    "    ax.xaxis.set_major_locator(DayLocator())"
   ]
  },
  {
   "cell_type": "markdown",
   "metadata": {},
   "source": [
    "That's already much better. We need to be able to plot multiple variables on the wind speed/gust plot though. In this case, we'll allow a list of variables for each plot to be given and iterate over them. We'll store this in a list of lists. Each plot has its own list of variables!"
   ]
  },
  {
   "cell_type": "code",
   "execution_count": null,
   "metadata": {},
   "outputs": [],
   "source": [
    "plot_variables = [['wind_speed', 'wind_gust'], ['pressure']]\n",
    "\n",
    "fig, axes = plt.subplots(1, len(plot_variables), sharex=True, figsize=(18, 6))\n",
    "\n",
    "for ax, var_names in zip(axes, plot_variables):\n",
    "\n",
    "    for var_name in var_names:\n",
    "        # Grab the color from our dictionary and pass it to plot()\n",
    "        color = colors[var_name]\n",
    "        ax.plot(df.time, df[var_name], color)\n",
    "\n",
    "    ax.set_ylabel(var_name)\n",
    "    ax.set_title(f'Buoy {var_name}')\n",
    "\n",
    "    ax.grid(True)\n",
    "    ax.set_xlabel('Time')\n",
    "    ax.xaxis.set_major_formatter(DateFormatter('%m/%d'))\n",
    "    ax.xaxis.set_major_locator(DayLocator())"
   ]
  },
  {
   "cell_type": "markdown",
   "metadata": {},
   "source": [
    "<div class=\"alert alert-success\">\n",
    "    <b>EXERCISE</b>:\n",
    "     <ul>\n",
    "    <li>Create a dictionary of linestyles in which the variable name is the key and the linestyle is the value.</li>\n",
    "    <li>Use that dictionary to modify the code below to plot the lines with the styles you specified.</li>\n",
    "    </ul>\n",
    "</div>"
   ]
  },
  {
   "cell_type": "code",
   "execution_count": null,
   "metadata": {},
   "outputs": [],
   "source": [
    "# Create your linestyles dictionary and modify the code below\n",
    "\n",
    "fig, axes = plt.subplots(1, len(plot_variables), sharex=True, figsize=(18, 6))\n",
    "\n",
    "for ax, var_names in zip(axes, plot_variables):\n",
    "\n",
    "    for var_name in var_names:\n",
    "        # Grab the color from our dictionary and pass it to plot()\n",
    "        color = colors[var_name]\n",
    "        ax.plot(df.time, df[var_name], color)\n",
    "\n",
    "    ax.set_ylabel(var_name)\n",
    "    ax.set_title(f'Buoy {var_name}')\n",
    "\n",
    "    ax.grid(True)\n",
    "    ax.set_xlabel('Time')\n",
    "    ax.xaxis.set_major_formatter(DateFormatter('%m/%d'))\n",
    "    ax.xaxis.set_major_locator(DayLocator())"
   ]
  },
  {
   "cell_type": "markdown",
   "metadata": {},
   "source": [
    "<button data-toggle=\"collapse\" data-target=\"#sol4\" class='btn btn-primary'>View Solution</button>\n",
    "<div id=\"sol4\" class=\"collapse\">\n",
    "<code><pre>\n",
    "linestyles = {'wind_speed': '-', 'wind_gust': '--', 'pressure': '-'}\n",
    "\n",
    "fig, axes = plt.subplots(1, len(plot_variables), sharex=True, figsize=(18, 6))\n",
    "\n",
    "for ax, var_names in zip(axes, plot_variables):\n",
    "\n",
    "    for var_name in var_names:\n",
    "        # Grab the color from our dictionary and pass it to plot()\n",
    "        color = colors[var_name]\n",
    "        linestyle = linestyles[var_name]\n",
    "        ax.plot(df.time, df[var_name], color, linestyle=linestyle)\n",
    "\n",
    "    ax.set_ylabel(var_name)\n",
    "    ax.set_title(f'Buoy {var_name}')\n",
    "\n",
    "    ax.grid(True)\n",
    "    ax.set_xlabel('Time')\n",
    "    ax.xaxis.set_major_formatter(DateFormatter('%m/%d'))\n",
    "    ax.xaxis.set_major_locator(DayLocator())\n",
    "</pre></code>\n",
    "</div>"
   ]
  },
  {
   "cell_type": "markdown",
   "metadata": {},
   "source": [
    "We're almost back to where to started, but in a much more versatile form! We just need to make the labels and titles look nice. To do that, let's write a function that uses some string manipulation to clean up the variable names and give us an axis/plot title and legend label."
   ]
  },
  {
   "cell_type": "code",
   "execution_count": null,
   "metadata": {},
   "outputs": [],
   "source": [
    "def format_varname(varname):\n",
    "    parts = varname.split('_')\n",
    "    title = parts[0].title()\n",
    "    label = varname.replace('_', ' ').title()\n",
    "    return title, label"
   ]
  },
  {
   "cell_type": "code",
   "execution_count": null,
   "metadata": {},
   "outputs": [],
   "source": [
    "fig, axes = plt.subplots(1, len(plot_variables), sharex=True, figsize=(18, 6))\n",
    "\n",
    "for ax, var_names in zip(axes, plot_variables):\n",
    "\n",
    "    for var_name in var_names:\n",
    "        \n",
    "        title, label = format_varname(var_name)\n",
    "        \n",
    "        color = colors[var_name]\n",
    "        linestyle = linestyles[var_name]\n",
    "        ax.plot(df.time, df[var_name], color, linestyle=linestyle, label=label)\n",
    "\n",
    "    ax.set_ylabel(title)\n",
    "    ax.set_title(f'Buoy {title}')\n",
    "\n",
    "    ax.grid(True)\n",
    "    ax.set_xlabel('Time')\n",
    "    ax.xaxis.set_major_formatter(DateFormatter('%m/%d'))\n",
    "    ax.xaxis.set_major_locator(DayLocator())\n",
    "    ax.legend(loc='upper left')"
   ]
  },
  {
   "cell_type": "markdown",
   "metadata": {},
   "source": [
    "<a href=\"#top\">Top</a>\n",
    "<hr style=\"height:2px;\">"
   ]
  },
  {
   "cell_type": "markdown",
   "metadata": {},
   "source": [
    "<a name=\"multifile\"></a>\n",
    "## Plotting Multiple Files\n",
    "\n",
    "Finally, let's plot data for two buoys on the same figure by iterating over a list of file names. We can use enumerate to plot each file on a new row of the figure. We will also create a function to read in the buoy data and avoid all of that repeated code."
   ]
  },
  {
   "cell_type": "code",
   "execution_count": null,
   "metadata": {},
   "outputs": [],
   "source": [
    "buoys = ['41056', '41052']\n",
    "\n",
    "fig, axes = plt.subplots(len(buoys), len(plot_variables), sharex=True, figsize=(14, 10))\n",
    "\n",
    "for row, buoy in enumerate(buoys):\n",
    "    df = read_buoy_data(buoy)\n",
    "    \n",
    "\n",
    "    for col, var_names in enumerate(plot_variables):\n",
    "        ax = axes[row,col]\n",
    "        for var_name in var_names:\n",
    "            title, label = format_varname(var_name)\n",
    "            color = colors[var_name]\n",
    "            linestyle = linestyles[var_name]\n",
    "            ax.plot(df.time, df[var_name], color, linestyle=linestyle, label=label)\n",
    "\n",
    "        ax.set_ylabel(title)\n",
    "        ax.set_title(f'Buoy {buoy} {title}')\n",
    "\n",
    "        ax.grid(True)\n",
    "        ax.set_xlabel('Time')\n",
    "        ax.xaxis.set_major_formatter(DateFormatter('%m/%d'))\n",
    "        ax.xaxis.set_major_locator(DayLocator())"
   ]
  },
  {
   "cell_type": "markdown",
   "metadata": {},
   "source": [
    "<a href=\"#top\">Top</a>\n",
    "<hr style=\"height:2px;\">"
   ]
  }
 ],
 "metadata": {
  "kernelspec": {
   "display_name": "Python 3",
   "language": "python",
   "name": "python3"
  },
  "language_info": {
   "codemirror_mode": {
    "name": "ipython",
    "version": 3
   },
   "file_extension": ".py",
   "mimetype": "text/x-python",
   "name": "python",
   "nbconvert_exporter": "python",
   "pygments_lexer": "ipython3",
   "version": "3.7.1"
  }
 },
 "nbformat": 4,
 "nbformat_minor": 2
}
