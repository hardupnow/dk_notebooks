{
 "cells": [
  {
   "cell_type": "markdown",
   "metadata": {
    "slideshow": {
     "slide_type": "slide"
    }
   },
   "source": [
    "<div style=\"width:1000 px\">\n",
    "\n",
    "<div style=\"float:right; width:98 px; height:98px;\">\n",
    "<img src=\"https://raw.githubusercontent.com/Unidata/MetPy/master/metpy/plots/_static/unidata_150x150.png\" alt=\"Unidata Logo\" style=\"height: 98px;\">\n",
    "</div>\n",
    "\n",
    "<h1>Using Python to get the latest NEXRAD Composite</h1>\n",
    "<h3>Unidata Python Workshop</h3>\n",
    "\n",
    "<div style=\"clear:both\"></div>\n",
    "</div>\n",
    "\n",
    "<hr style=\"height:2px;\">\n",
    "\n",
    "<div style=\"float:right; width:250 px\"><img src=\"https://unidata.github.io/MetPy/latest/_images/radar.png\" alt=\"Example Radar Image\" style=\"height: 200px;\"></div>\n",
    "\n",
    "Objective: Visualize the latest available reflectivity data composited data\n",
    "    \n",
    "Steps involved:\n",
    "- Construct the appropriate URL to get the latest data file\n",
    "- Open the URL using netCDF4-python\n",
    "- Read the basic metadata\n",
    "- Create the appropriate CartoPy projection and plot the Radar Reflectivity"
   ]
  },
  {
   "cell_type": "code",
   "execution_count": 1,
   "metadata": {
    "slideshow": {
     "slide_type": "subslide"
    }
   },
   "outputs": [],
   "source": [
    "# Set-up for notebook\n",
    "%matplotlib inline\n",
    "\n",
    "# Some needed imports\n",
    "import datetime as dt\n",
    "import matplotlib.pyplot as plt\n",
    "import matplotlib as mpl\n",
    "import cartopy\n",
    "import numpy as np\n",
    "from netCDF4 import Dataset\n",
    "from siphon.catalog import TDSCatalog\n",
    "from metpy.plots import ctables"
   ]
  },
  {
   "cell_type": "markdown",
   "metadata": {
    "slideshow": {
     "slide_type": "slide"
    }
   },
   "source": [
    "## Get the latest data URL, grab the metadata, and request the data"
   ]
  },
  {
   "cell_type": "code",
   "execution_count": 2,
   "metadata": {
    "slideshow": {
     "slide_type": "subslide"
    }
   },
   "outputs": [
    {
     "name": "stdout",
     "output_type": "stream",
     "text": [
      "['Level3_Composite_n0r_1km_20180302_1730.gini', 'Level3_Composite_n0r_1km_20180302_1725.gini', 'Level3_Composite_n0r_1km_20180302_1720.gini', 'Level3_Composite_n0r_1km_20180302_1715.gini', 'Level3_Composite_n0r_1km_20180302_1710.gini', 'Level3_Composite_n0r_1km_20180302_1705.gini', 'Level3_Composite_n0r_1km_20180302_1700.gini', 'Level3_Composite_n0r_1km_20180302_1655.gini', 'Level3_Composite_n0r_1km_20180302_1650.gini', 'Level3_Composite_n0r_1km_20180302_1645.gini', 'Level3_Composite_n0r_1km_20180302_1640.gini', 'Level3_Composite_n0r_1km_20180302_1635.gini', 'Level3_Composite_n0r_1km_20180302_1630.gini', 'Level3_Composite_n0r_1km_20180302_1625.gini', 'Level3_Composite_n0r_1km_20180302_1620.gini']\n"
     ]
    }
   ],
   "source": [
    "# Get today's date...\n",
    "today = dt.datetime.utcnow()\n",
    "\n",
    "# ...and use that to assemble the URL and grab the catalog\n",
    "url = \"http://thredds.ucar.edu/thredds/catalog/nexrad/composite/gini/n0r/1km/{}/catalog.xml\".format(today.strftime(\"%Y%m%d\"))\n",
    "cat = TDSCatalog(url)\n",
    "\n",
    "# Get the list of names of datasets\n",
    "names = list(cat.datasets.keys())\n",
    "print(names[:15])"
   ]
  },
  {
   "cell_type": "code",
   "execution_count": 3,
   "metadata": {
    "slideshow": {
     "slide_type": "subslide"
    }
   },
   "outputs": [
    {
     "name": "stdout",
     "output_type": "stream",
     "text": [
      "Level3_Composite_n0r_1km_20180302_1730.gini\n"
     ]
    }
   ],
   "source": [
    "# sort, so that the last dataset is the latest\n",
    "names.sort()\n",
    "latest = names[-1]\n",
    "print(latest)"
   ]
  },
  {
   "cell_type": "code",
   "execution_count": 4,
   "metadata": {
    "slideshow": {
     "slide_type": "subslide"
    }
   },
   "outputs": [],
   "source": [
    "# Grab the dataset for the latest\n",
    "latestDs = cat.datasets[latest]"
   ]
  },
  {
   "cell_type": "code",
   "execution_count": 5,
   "metadata": {
    "slideshow": {
     "slide_type": "subslide"
    }
   },
   "outputs": [
    {
     "name": "stdout",
     "output_type": "stream",
     "text": [
      "['time', 'x', 'y', 'LambertConformal', 'Reflectivity']\n"
     ]
    }
   ],
   "source": [
    "# Construct a NetCDF dataset using the OPeNDAP access URL\n",
    "dataset = Dataset(latestDs.access_urls['OPENDAP'])\n",
    "print(list(dataset.variables.keys()))"
   ]
  },
  {
   "cell_type": "code",
   "execution_count": 6,
   "metadata": {
    "slideshow": {
     "slide_type": "subslide"
    }
   },
   "outputs": [
    {
     "data": {
      "text/plain": [
       "['grid_mapping_name',\n",
       " 'latitude_of_projection_origin',\n",
       " 'longitude_of_central_meridian',\n",
       " 'standard_parallel',\n",
       " 'earth_radius',\n",
       " '_CoordinateTransformType',\n",
       " '_CoordinateAxes']"
      ]
     },
     "execution_count": 6,
     "metadata": {},
     "output_type": "execute_result"
    }
   ],
   "source": [
    "dataset.variables['LambertConformal'].ncattrs()"
   ]
  },
  {
   "cell_type": "code",
   "execution_count": 7,
   "metadata": {
    "slideshow": {
     "slide_type": "subslide"
    }
   },
   "outputs": [
    {
     "name": "stdout",
     "output_type": "stream",
     "text": [
      "40.0 -100.0 40.0 6371229.0\n"
     ]
    }
   ],
   "source": [
    "##################\n",
    "# Projection fun #\n",
    "##################\n",
    "\n",
    "# get basic info from the file regarding projection attributes\n",
    "# see the following for more info on projections as described here:\n",
    "#   http://www.nco.ncep.noaa.gov/pmb/docs/on388/tableb.html#GRID218\n",
    "#   http://www.wmo.int/pages/prog/www/WDM/Guides/Guide-binary-2.html\n",
    "#   [see LAMBERT CONFORMAL SECANT OR TANGENT CONE GRIDS]\n",
    "#   http://www.unidata.ucar.edu/mailing_lists/archives/netcdf-java/2006/msg00006.html\n",
    "#   [standard parallels in CDM]\n",
    "proj = dataset.variables['LambertConformal']\n",
    "rsphere = proj.earth_radius\n",
    "\n",
    "# lat_0\t: center of desired map domain (in degrees) [Basemap]\n",
    "# CDM : 'latitude_of_projection_origin'\n",
    "lat_0 = proj.latitude_of_projection_origin\n",
    "\n",
    "# lon_0\t: center of desired map domain (in degrees) [Basemap]\n",
    "# CDM : 'longitude_of_central_meridian'\n",
    "lon_0 = proj.longitude_of_central_meridian\n",
    "\n",
    "# lat_1, lat_2 : 1st and second parallels [Basemap]\n",
    "# CDM : 'standard_parallel' - this attr contains both 1st and 2nd\n",
    "lat_1 = proj.standard_parallel\n",
    "print(lat_0, lon_0, lat_1, rsphere)"
   ]
  },
  {
   "cell_type": "markdown",
   "metadata": {
    "slideshow": {
     "slide_type": "slide"
    }
   },
   "source": [
    "## Grab the data"
   ]
  },
  {
   "cell_type": "code",
   "execution_count": null,
   "metadata": {
    "slideshow": {
     "slide_type": "subslide"
    }
   },
   "outputs": [],
   "source": [
    "# Used to subset the data\n",
    "xstride = 10\n",
    "ystride = 10\n",
    "\n",
    "# download x and y coords and convert them from km to m\n",
    "x = dataset.variables['x'][::xstride] * 1000.\n",
    "y = dataset.variables['y'][::ystride] * 1000.\n",
    "\n",
    "# Grab the reflectivity data. Mask values less than -30 dBz\n",
    "data = dataset.variables[\"Reflectivity\"][0, 0::ystride, 0::xstride]\n",
    "data = np.ma.array(data, mask=data<=-30)"
   ]
  },
  {
   "cell_type": "markdown",
   "metadata": {
    "slideshow": {
     "slide_type": "slide"
    }
   },
   "source": [
    "## Create the Plot"
   ]
  },
  {
   "cell_type": "code",
   "execution_count": null,
   "metadata": {
    "slideshow": {
     "slide_type": "subslide"
    }
   },
   "outputs": [],
   "source": [
    "# Set up the projection for the LambertConformal projection we know we have\n",
    "lcc = cartopy.crs.LambertConformal(central_longitude=lon_0, central_latitude=lat_0,\n",
    "                                   standard_parallels=(lat_0, lat_1))\n",
    "\n",
    "# Create a large figure and axes with this projection\n",
    "fig = plt.figure(figsize=(24, 12))\n",
    "ax = fig.add_subplot(1, 1, 1, projection=lcc)\n",
    "\n",
    "# Limit to the bounds of the data we have\n",
    "ax.set_extent([-129., -63., 22., 49.], cartopy.crs.Geodetic())\n",
    "\n",
    "# Add some map features\n",
    "ax.stock_img()\n",
    "ax.coastlines(resolution='50m')\n",
    "ax.add_feature(cartopy.feature.STATES)\n",
    "ax.add_feature(cartopy.feature.BORDERS, linewidth=2, edgecolor='black')\n",
    "ax.gridlines()\n",
    "\n",
    "# Convert the time to text and add as the title\n",
    "time = dataset.variables[\"time\"][:][0] / 1000.\n",
    "title = dt.datetime.fromtimestamp(time).isoformat()\n",
    "ax.set_title(title)\n",
    "\n",
    "# Plot the data as an image, using the x and y values we have as the extents of the image\n",
    "# NOTE: This assumes equal-spaced points\n",
    "cmap = ctables.registry.get_colortable('NWSReflectivityExpanded')\n",
    "norm = mpl.colors.Normalize(vmin=-35, vmax=80)\n",
    "cax = ax.imshow(data, extent=(x.min(), x.max(), y.min(), y.max()), cmap=cmap,\n",
    "                norm=norm, origin=\"upper\", transform=lcc)\n",
    "plt.colorbar(cax);"
   ]
  },
  {
   "cell_type": "markdown",
   "metadata": {
    "slideshow": {
     "slide_type": "slide"
    }
   },
   "source": [
    "## Exercise"
   ]
  },
  {
   "cell_type": "markdown",
   "metadata": {
    "slideshow": {
     "slide_type": "fragment"
    }
   },
   "source": [
    "Using what was done above, plot the digital hybrid reflectivity (DHR):\n",
    "- Look at http://thredds.ucar.edu/thredds/catalog/nexrad/composite/gini/catalog.html\n",
    "- Instead of plotting over all of the U.S., limit to an area of interest\n",
    "- DHR was chosen to keep the colormap from the NWS the same. Can also look at:\n",
    "    - Echo Tops (EET)\n",
    "    - Digital VIL (DVL)\n",
    "    - Others in catalog\n",
    "- ***Bonus points***: Plot the data into a new coordinate system, like Orthographic"
   ]
  },
  {
   "cell_type": "code",
   "execution_count": null,
   "metadata": {},
   "outputs": [],
   "source": []
  }
 ],
 "metadata": {
  "kernelspec": {
   "display_name": "Python 3",
   "language": "python",
   "name": "python3"
  },
  "language_info": {
   "codemirror_mode": {
    "name": "ipython",
    "version": 3
   },
   "file_extension": ".py",
   "mimetype": "text/x-python",
   "name": "python",
   "nbconvert_exporter": "python",
   "pygments_lexer": "ipython3",
   "version": "3.6.4"
  }
 },
 "nbformat": 4,
 "nbformat_minor": 1
}
