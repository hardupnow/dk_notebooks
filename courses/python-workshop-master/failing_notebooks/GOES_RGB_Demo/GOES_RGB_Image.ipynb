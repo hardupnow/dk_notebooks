{
 "cells": [
  {
   "cell_type": "markdown",
   "metadata": {},
   "source": [
    "<div style=\"width:1000 px\">\n",
    "\n",
    "<div style=\"float:right; width:98 px; height:98px;\">\n",
    "<img src=\"https://raw.githubusercontent.com/Unidata/MetPy/master/metpy/plots/_static/unidata_150x150.png\" alt=\"Unidata Logo\" style=\"height: 98px;\">\n",
    "</div>\n",
    "\n",
    "<h1>Making an RGB Satellite Composite</h1>\n",
    "<h3>Unidata Python Workshop</h3>\n",
    "\n",
    "<div style=\"clear:both\"></div>\n",
    "</div>\n",
    "\n",
    "<hr style=\"height:2px;\">\n",
    "\n",
    "<div style=\"float:right; width:250 px\"><img src=\"https://unidata.github.io/MetPy/latest/_images/sphx_glr_GINI_Water_Vapor_001.png\" alt=\"Example Satellite Image\" style=\"height: 500px;\"></div>\n",
    "\n",
    "\n",
    "## Overview:\n",
    "\n",
    "* **Teaching:** 20 minutes\n",
    "* **Exercises:** None\n",
    "\n",
    "### Questions\n",
    "1. How can array manipulation be used with imagery data?\n",
    "2. How can multiple channels of data be combined into an RGB image?\n",
    "3. How can complex functionality be broken up into smaller reuseable and encapsulated functions?\n",
    "\n",
    "### Objectives\n",
    "1. Download satellite data with Siphon\n",
    "2. Parse out netCDF file\n",
    "3. Reshape and resample data channels to identical sizes\n",
    "4. Create an RGB composite"
   ]
  },
  {
   "cell_type": "markdown",
   "metadata": {},
   "source": [
    "Color images consist of red, green, and blue components. We can utilize the red and blue channels of the GOES-16 satellite, along with the “veggie” band to create a color image of the Earth. GOES-16 does not have a sensor that strictly covers the green visible range, so the image would be too green. Currently lookup tables are being created to simulate a true green sensor on the platform. Until those are completed, we will use an approximation that does a good job of producing a near real-color image. We'll also implement a square-root brightness enhancement.\n",
    "\n",
    "We’ll need to accomplish a few tasks - making an outline like this is a good way to start thinking of how your program can be broken up into functions that encapsulate different functionality.\n",
    "\n",
    "* Get three channels of satellite data\n",
    "* Resample the red channel to match the resolution of the other channels\n",
    "* Combine the RGB channels into a single multi-dimensional array\n",
    "* Create the image\n"
   ]
  },
  {
   "cell_type": "code",
   "execution_count": 7,
   "metadata": {},
   "outputs": [],
   "source": [
    "from datetime import datetime\n",
    "\n",
    "import cartopy.crs as ccrs\n",
    "import cartopy.feature as cfeature\n",
    "import matplotlib.pyplot as plt\n",
    "from matplotlib import patheffects\n",
    "import metpy\n",
    "from metpy.plots import add_metpy_logo\n",
    "import numpy as np\n",
    "from scipy import interpolate\n",
    "from siphon.catalog import TDSCatalog\n",
    "\n",
    "%matplotlib inline"
   ]
  },
  {
   "cell_type": "code",
   "execution_count": 8,
   "metadata": {},
   "outputs": [],
   "source": [
    "def open_dataset(date, channel, region, idx):\n",
    "    \"\"\"\n",
    "    Open and return a netCDF Dataset object for a given date, channel, and image index\n",
    "    of GOES-16 data from THREDDS test server.\n",
    "    \"\"\"\n",
    "    cat = TDSCatalog('http://thredds.ucar.edu/thredds/catalog/satellite/goes16/GOES16/'\n",
    "                 '{}/Channel{:02d}/{:%Y%m%d}/catalog.xml'.format(region, channel, date))\n",
    "    ds = cat.datasets[idx]\n",
    "    return ds.remote_access(service='OPENDAP', use_xarray=True)"
   ]
  },
  {
   "cell_type": "code",
   "execution_count": 9,
   "metadata": {},
   "outputs": [],
   "source": [
    "def interpolate_red_channel(red_ds, resampled_ds):\n",
    "    \"\"\"\n",
    "    Interpolate the red data channel to the same grid as another channel.\n",
    "    \"\"\"\n",
    "    x_new = resampled_ds.x\n",
    "    y_new = resampled_ds.y\n",
    "\n",
    "    f = interpolate.interp2d(red_ds.x, red_ds.y,\n",
    "                             red_ds, fill_value=0)\n",
    "    red_interpolated = f(x_new, y_new) \n",
    "    return x_new, y_new, red_interpolated[::-1]"
   ]
  },
  {
   "cell_type": "code",
   "execution_count": 10,
   "metadata": {},
   "outputs": [],
   "source": [
    "def make_RGB_data(date, region, idx):\n",
    "    \"\"\"\n",
    "    Make an RGB image array, returning the time, coordinates, projection, and data.\n",
    "    \"\"\"\n",
    "    red_channel = 2\n",
    "    green_channel = 3\n",
    "    blue_channel = 1\n",
    "                         \n",
    "    red_ds = open_dataset(date, red_channel, region, idx)\n",
    "    blue_ds = open_dataset(date, blue_channel, region, idx)\n",
    "    green_ds = open_dataset(date, green_channel, region, idx)\n",
    "    \n",
    "    red_dat = red_ds.metpy.parse_cf('Sectorized_CMI')\n",
    "    blue_dat = blue_ds.metpy.parse_cf('Sectorized_CMI')\n",
    "    green_dat = green_ds.metpy.parse_cf('Sectorized_CMI')\n",
    "    proj = green_dat.metpy.cartopy_crs\n",
    "                         \n",
    "    x, y, red_data = interpolate_red_channel(red_ds, blue_ds)\n",
    "    \n",
    "    # Clip out maxes\n",
    "    red_data[np.where(red_data <= 0.0001)] = 1\n",
    "    blue_data[np.where(blue_data <= 0.0001)] = 1\n",
    "    green_data[np.where(green_data <= 0.0001)] = 1\n",
    "\n",
    "    # Brightness Enhancement\n",
    "    red_data = np.sqrt(red_data)\n",
    "    blue_data = np.sqrt(blue_data)\n",
    "    green_data = np.sqrt(green_data)\n",
    "\n",
    "    # Make better fake green channel\n",
    "    green_data = green_data * 0.1 + blue_data * 0.45 + red_data * 0.45\n",
    "    \n",
    "    rgb_data = np.dstack([red_data, green_data, blue_data])\n",
    "\n",
    "    x = green_ds.x\n",
    "    y = green_ds.y\n",
    "    \n",
    "    time = datetime.strptime(green_ds.start_date_time, '%Y%j%H%M%S')\n",
    "    \n",
    "    return time, x, y, proj_var, rgb_data"
   ]
  },
  {
   "cell_type": "code",
   "execution_count": 11,
   "metadata": {},
   "outputs": [
    {
     "ename": "TypeError",
     "evalue": "cannot directly convert an xarray.Dataset into a numpy array. Instead, create an xarray.DataArray first, either with indexing on the Dataset or by invoking the `to_array()` method.",
     "output_type": "error",
     "traceback": [
      "\u001b[0;31m---------------------------------------------------------------------------\u001b[0m",
      "\u001b[0;31mTypeError\u001b[0m                                 Traceback (most recent call last)",
      "\u001b[0;32m<ipython-input-11-e9d776899db2>\u001b[0m in \u001b[0;36m<module>\u001b[0;34m()\u001b[0m\n\u001b[1;32m      1\u001b[0m \u001b[0;31m# Get the next to most recent image and make the RGB data array.\u001b[0m\u001b[0;34m\u001b[0m\u001b[0;34m\u001b[0m\u001b[0m\n\u001b[1;32m      2\u001b[0m \u001b[0mdate\u001b[0m \u001b[0;34m=\u001b[0m \u001b[0mdatetime\u001b[0m\u001b[0;34m.\u001b[0m\u001b[0mutcnow\u001b[0m\u001b[0;34m(\u001b[0m\u001b[0;34m)\u001b[0m\u001b[0;34m\u001b[0m\u001b[0m\n\u001b[0;32m----> 3\u001b[0;31m \u001b[0mtimestamp\u001b[0m\u001b[0;34m,\u001b[0m \u001b[0mx\u001b[0m\u001b[0;34m,\u001b[0m \u001b[0my\u001b[0m\u001b[0;34m,\u001b[0m \u001b[0mproj_var\u001b[0m\u001b[0;34m,\u001b[0m \u001b[0mrgb_data\u001b[0m \u001b[0;34m=\u001b[0m \u001b[0mmake_RGB_data\u001b[0m\u001b[0;34m(\u001b[0m\u001b[0mdate\u001b[0m\u001b[0;34m,\u001b[0m \u001b[0;34m'Mesoscale-1'\u001b[0m\u001b[0;34m,\u001b[0m \u001b[0;34m-\u001b[0m\u001b[0;36m2\u001b[0m\u001b[0;34m)\u001b[0m\u001b[0;34m\u001b[0m\u001b[0m\n\u001b[0m",
      "\u001b[0;32m<ipython-input-10-385f48b1926c>\u001b[0m in \u001b[0;36mmake_RGB_data\u001b[0;34m(date, region, idx)\u001b[0m\n\u001b[1;32m     16\u001b[0m     \u001b[0mproj\u001b[0m \u001b[0;34m=\u001b[0m \u001b[0mgreen_dat\u001b[0m\u001b[0;34m.\u001b[0m\u001b[0mmetpy\u001b[0m\u001b[0;34m.\u001b[0m\u001b[0mcartopy_crs\u001b[0m\u001b[0;34m\u001b[0m\u001b[0m\n\u001b[1;32m     17\u001b[0m \u001b[0;34m\u001b[0m\u001b[0m\n\u001b[0;32m---> 18\u001b[0;31m     \u001b[0mx\u001b[0m\u001b[0;34m,\u001b[0m \u001b[0my\u001b[0m\u001b[0;34m,\u001b[0m \u001b[0mred_data\u001b[0m \u001b[0;34m=\u001b[0m \u001b[0minterpolate_red_channel\u001b[0m\u001b[0;34m(\u001b[0m\u001b[0mred_ds\u001b[0m\u001b[0;34m,\u001b[0m \u001b[0mblue_ds\u001b[0m\u001b[0;34m)\u001b[0m\u001b[0;34m\u001b[0m\u001b[0m\n\u001b[0m\u001b[1;32m     19\u001b[0m \u001b[0;34m\u001b[0m\u001b[0m\n\u001b[1;32m     20\u001b[0m     \u001b[0;31m# Clip out maxes\u001b[0m\u001b[0;34m\u001b[0m\u001b[0;34m\u001b[0m\u001b[0m\n",
      "\u001b[0;32m<ipython-input-9-e6a53059d22f>\u001b[0m in \u001b[0;36minterpolate_red_channel\u001b[0;34m(red_ds, resampled_ds)\u001b[0m\n\u001b[1;32m      7\u001b[0m \u001b[0;34m\u001b[0m\u001b[0m\n\u001b[1;32m      8\u001b[0m     f = interpolate.interp2d(red_ds.x, red_ds.y,\n\u001b[0;32m----> 9\u001b[0;31m                              red_ds, fill_value=0)\n\u001b[0m\u001b[1;32m     10\u001b[0m     \u001b[0mred_interpolated\u001b[0m \u001b[0;34m=\u001b[0m \u001b[0mf\u001b[0m\u001b[0;34m(\u001b[0m\u001b[0mx_new\u001b[0m\u001b[0;34m,\u001b[0m \u001b[0my_new\u001b[0m\u001b[0;34m)\u001b[0m\u001b[0;34m\u001b[0m\u001b[0m\n\u001b[1;32m     11\u001b[0m     \u001b[0;32mreturn\u001b[0m \u001b[0mx_new\u001b[0m\u001b[0;34m,\u001b[0m \u001b[0my_new\u001b[0m\u001b[0;34m,\u001b[0m \u001b[0mred_interpolated\u001b[0m\u001b[0;34m[\u001b[0m\u001b[0;34m:\u001b[0m\u001b[0;34m:\u001b[0m\u001b[0;34m-\u001b[0m\u001b[0;36m1\u001b[0m\u001b[0;34m]\u001b[0m\u001b[0;34m\u001b[0m\u001b[0m\n",
      "\u001b[0;32m~/miniconda3/envs/unidata-workshop/lib/python3.6/site-packages/scipy/interpolate/interpolate.py\u001b[0m in \u001b[0;36m__init__\u001b[0;34m(self, x, y, z, kind, copy, bounds_error, fill_value)\u001b[0m\n\u001b[1;32m    207\u001b[0m         \u001b[0mx\u001b[0m \u001b[0;34m=\u001b[0m \u001b[0mravel\u001b[0m\u001b[0;34m(\u001b[0m\u001b[0mx\u001b[0m\u001b[0;34m)\u001b[0m\u001b[0;34m\u001b[0m\u001b[0m\n\u001b[1;32m    208\u001b[0m         \u001b[0my\u001b[0m \u001b[0;34m=\u001b[0m \u001b[0mravel\u001b[0m\u001b[0;34m(\u001b[0m\u001b[0my\u001b[0m\u001b[0;34m)\u001b[0m\u001b[0;34m\u001b[0m\u001b[0m\n\u001b[0;32m--> 209\u001b[0;31m         \u001b[0mz\u001b[0m \u001b[0;34m=\u001b[0m \u001b[0masarray\u001b[0m\u001b[0;34m(\u001b[0m\u001b[0mz\u001b[0m\u001b[0;34m)\u001b[0m\u001b[0;34m\u001b[0m\u001b[0m\n\u001b[0m\u001b[1;32m    210\u001b[0m \u001b[0;34m\u001b[0m\u001b[0m\n\u001b[1;32m    211\u001b[0m         \u001b[0mrectangular_grid\u001b[0m \u001b[0;34m=\u001b[0m \u001b[0;34m(\u001b[0m\u001b[0mz\u001b[0m\u001b[0;34m.\u001b[0m\u001b[0msize\u001b[0m \u001b[0;34m==\u001b[0m \u001b[0mlen\u001b[0m\u001b[0;34m(\u001b[0m\u001b[0mx\u001b[0m\u001b[0;34m)\u001b[0m \u001b[0;34m*\u001b[0m \u001b[0mlen\u001b[0m\u001b[0;34m(\u001b[0m\u001b[0my\u001b[0m\u001b[0;34m)\u001b[0m\u001b[0;34m)\u001b[0m\u001b[0;34m\u001b[0m\u001b[0m\n",
      "\u001b[0;32m~/miniconda3/envs/unidata-workshop/lib/python3.6/site-packages/numpy/core/numeric.py\u001b[0m in \u001b[0;36masarray\u001b[0;34m(a, dtype, order)\u001b[0m\n\u001b[1;32m    499\u001b[0m \u001b[0;34m\u001b[0m\u001b[0m\n\u001b[1;32m    500\u001b[0m     \"\"\"\n\u001b[0;32m--> 501\u001b[0;31m     \u001b[0;32mreturn\u001b[0m \u001b[0marray\u001b[0m\u001b[0;34m(\u001b[0m\u001b[0ma\u001b[0m\u001b[0;34m,\u001b[0m \u001b[0mdtype\u001b[0m\u001b[0;34m,\u001b[0m \u001b[0mcopy\u001b[0m\u001b[0;34m=\u001b[0m\u001b[0;32mFalse\u001b[0m\u001b[0;34m,\u001b[0m \u001b[0morder\u001b[0m\u001b[0;34m=\u001b[0m\u001b[0morder\u001b[0m\u001b[0;34m)\u001b[0m\u001b[0;34m\u001b[0m\u001b[0m\n\u001b[0m\u001b[1;32m    502\u001b[0m \u001b[0;34m\u001b[0m\u001b[0m\n\u001b[1;32m    503\u001b[0m \u001b[0;34m\u001b[0m\u001b[0m\n",
      "\u001b[0;32m~/miniconda3/envs/unidata-workshop/lib/python3.6/site-packages/xarray/core/dataset.py\u001b[0m in \u001b[0;36m__array__\u001b[0;34m(self, dtype)\u001b[0m\n\u001b[1;32m    852\u001b[0m \u001b[0;34m\u001b[0m\u001b[0m\n\u001b[1;32m    853\u001b[0m     \u001b[0;32mdef\u001b[0m \u001b[0m__array__\u001b[0m\u001b[0;34m(\u001b[0m\u001b[0mself\u001b[0m\u001b[0;34m,\u001b[0m \u001b[0mdtype\u001b[0m\u001b[0;34m=\u001b[0m\u001b[0;32mNone\u001b[0m\u001b[0;34m)\u001b[0m\u001b[0;34m:\u001b[0m\u001b[0;34m\u001b[0m\u001b[0m\n\u001b[0;32m--> 854\u001b[0;31m         raise TypeError('cannot directly convert an xarray.Dataset into a '\n\u001b[0m\u001b[1;32m    855\u001b[0m                         \u001b[0;34m'numpy array. Instead, create an xarray.DataArray '\u001b[0m\u001b[0;34m\u001b[0m\u001b[0m\n\u001b[1;32m    856\u001b[0m                         \u001b[0;34m'first, either with indexing on the Dataset or by '\u001b[0m\u001b[0;34m\u001b[0m\u001b[0m\n",
      "\u001b[0;31mTypeError\u001b[0m: cannot directly convert an xarray.Dataset into a numpy array. Instead, create an xarray.DataArray first, either with indexing on the Dataset or by invoking the `to_array()` method."
     ]
    }
   ],
   "source": [
    "# Get the next to most recent image and make the RGB data array.\n",
    "date = datetime.utcnow()\n",
    "timestamp, x, y, proj_var, rgb_data = make_RGB_data(date, 'Mesoscale-1', -2)"
   ]
  },
  {
   "cell_type": "code",
   "execution_count": null,
   "metadata": {},
   "outputs": [],
   "source": [
    "# Same as before, except we call imshow with our colormap and norm.\n",
    "fig = plt.figure(figsize=(20, 20))\n",
    "ax = fig.add_subplot(1, 1, 1, projection=proj)\n",
    "\n",
    "im = ax.imshow(rgb_data, extent=(x.min(), x.max(), y.min(), y.max()), origin='upper')\n",
    "ax.coastlines(resolution='50m', color='black')\n",
    "ax.add_feature(cfeature.STATES, linestyle=':', edgecolor='black')\n",
    "ax.add_feature(cfeature.BORDERS, linewidth=2, edgecolor='black')\n",
    "\n",
    "# Add text (aligned to the right); save the returned object so we can manipulate it.\n",
    "text_time = ax.text(0.99, 0.01, timestamp.strftime('%d %B %Y %H%MZ'),\n",
    "               horizontalalignment='right', transform=ax.transAxes,\n",
    "               color='white', fontsize='x-large', weight='bold')\n",
    "\n",
    "text_channel = ax.text(0.5, 0.97, 'Experimental GOES-16 RGB Composite',\n",
    "               horizontalalignment='center', transform=ax.transAxes,\n",
    "               color='white', fontsize='large', weight='bold')\n",
    "\n",
    "# Make the text stand out even better using matplotlib's path effects\n",
    "outline_effect = [patheffects.withStroke(linewidth=2, foreground='black')]\n",
    "text_time.set_path_effects(outline_effect)\n",
    "text_channel.set_path_effects(outline_effect)\n",
    "\n",
    "# Add the MetPy Logo\n",
    "fig = add_metpy_logo(fig)"
   ]
  }
 ],
 "metadata": {
  "kernelspec": {
   "display_name": "Python 3",
   "language": "python",
   "name": "python3"
  },
  "language_info": {
   "codemirror_mode": {
    "name": "ipython",
    "version": 3
   },
   "file_extension": ".py",
   "mimetype": "text/x-python",
   "name": "python",
   "nbconvert_exporter": "python",
   "pygments_lexer": "ipython3",
   "version": "3.7.1"
  }
 },
 "nbformat": 4,
 "nbformat_minor": 2
}
