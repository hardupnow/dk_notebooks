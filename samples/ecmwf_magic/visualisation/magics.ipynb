{
 "cells": [
  {
   "cell_type": "markdown",
   "metadata": {},
   "source": [
    "# [![logo](logo.png)](http://www.ecmwf.int/) Introduction to magics\n",
    "\n",
    "[Magics](https://confluence.ecmwf.int/display/MAGP/Magics) is the latest generation of the ECMWF's meteorological plotting software. It offers easy to visualise data coded in meteorolofgcal format such GRIB, NetCDF , and BUFR.\n",
    "\n",
    "Its simple python interface allows users to quickly setup projection and geographical areas, and choose the visualisation. \n",
    "\n",
    "This gallery of tutorials and examples will help discover its functionality\n",
    "\n",
    "  - Easy visualisation of [GRIB data](basic/grib.ipynb)\n",
    "  - Easy visualisation of NetCDF data\n",
    "  - Easy visualisation of xarray data\n",
    "\n",
    "## Tutorials\n",
    "\n",
    "| Setting the  geographical view <br/> [![Setting the  geographical view?](tutorials/Coastlines.png)](tutorials/Subpage-Projections.ipynb)  | Customise coastlines <br/> [![Customise coastlines](tutorials/Coastlines.png)](tutorials/Coastlines.ipynb) | Introduction to contouring <br> [![Introduction to contouring](tutorials/Contours_lines.png)](tutorials/Contours_lines.ipynb) |\n",
    "|---|---|---|\n",
    "\n",
    "## Gallery \n",
    "\n",
    "| Cylindrical projection <br/> [![Cylindrical projection](gallery/cylindrical.png)](gallery/cylindrical.ipynb)  | Europe on Stereographic projection <br/> [![Europe on Stereographic projection](gallery/polar-stereo.png)](gallery/polar-stereo.ipynb) |  |\n",
    "|---|---|---|\n",
    "\n"
   ]
  },
  {
   "cell_type": "code",
   "execution_count": null,
   "metadata": {},
   "outputs": [],
   "source": []
  }
 ],
 "metadata": {
  "kernelspec": {
   "display_name": "Python 3",
   "language": "python",
   "name": "python3"
  },
  "language_info": {
   "codemirror_mode": {
    "name": "ipython",
    "version": 3
   },
   "file_extension": ".py",
   "mimetype": "text/x-python",
   "name": "python",
   "nbconvert_exporter": "python",
   "pygments_lexer": "ipython3",
   "version": "3.6.5"
  }
 },
 "nbformat": 4,
 "nbformat_minor": 2
}
