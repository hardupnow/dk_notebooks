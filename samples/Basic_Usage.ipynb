{
 "cells": [
  {
   "cell_type": "code",
   "execution_count": 1,
   "metadata": {
    "ExecuteTime": {
     "end_time": "2018-12-30T14:26:38.425094Z",
     "start_time": "2018-12-30T14:26:36.544388Z"
    }
   },
   "outputs": [
    {
     "data": {
      "text/html": [
       "\n",
       "    <div class=\"bk-root\">\n",
       "        <a href=\"https://bokeh.pydata.org\" target=\"_blank\" class=\"bk-logo bk-logo-small bk-logo-notebook\"></a>\n",
       "        <span id=\"a4ae4667-cf95-48f3-89b9-093d7ef49a3b\">Loading BokehJS ...</span>\n",
       "    </div>"
      ]
     },
     "metadata": {},
     "output_type": "display_data"
    },
    {
     "data": {
      "application/javascript": [
       "\n",
       "(function(root) {\n",
       "  function now() {\n",
       "    return new Date();\n",
       "  }\n",
       "\n",
       "  var force = true;\n",
       "\n",
       "  if (typeof (root._bokeh_onload_callbacks) === \"undefined\" || force === true) {\n",
       "    root._bokeh_onload_callbacks = [];\n",
       "    root._bokeh_is_loading = undefined;\n",
       "  }\n",
       "\n",
       "  var JS_MIME_TYPE = 'application/javascript';\n",
       "  var HTML_MIME_TYPE = 'text/html';\n",
       "  var EXEC_MIME_TYPE = 'application/vnd.bokehjs_exec.v0+json';\n",
       "  var CLASS_NAME = 'output_bokeh rendered_html';\n",
       "\n",
       "  /**\n",
       "   * Render data to the DOM node\n",
       "   */\n",
       "  function render(props, node) {\n",
       "    var script = document.createElement(\"script\");\n",
       "    node.appendChild(script);\n",
       "  }\n",
       "\n",
       "  /**\n",
       "   * Handle when an output is cleared or removed\n",
       "   */\n",
       "  function handleClearOutput(event, handle) {\n",
       "    var cell = handle.cell;\n",
       "\n",
       "    var id = cell.output_area._bokeh_element_id;\n",
       "    var server_id = cell.output_area._bokeh_server_id;\n",
       "    // Clean up Bokeh references\n",
       "    if (id != null && id in Bokeh.index) {\n",
       "      Bokeh.index[id].model.document.clear();\n",
       "      delete Bokeh.index[id];\n",
       "    }\n",
       "\n",
       "    if (server_id !== undefined) {\n",
       "      // Clean up Bokeh references\n",
       "      var cmd = \"from bokeh.io.state import curstate; print(curstate().uuid_to_server['\" + server_id + \"'].get_sessions()[0].document.roots[0]._id)\";\n",
       "      cell.notebook.kernel.execute(cmd, {\n",
       "        iopub: {\n",
       "          output: function(msg) {\n",
       "            var id = msg.content.text.trim();\n",
       "            if (id in Bokeh.index) {\n",
       "              Bokeh.index[id].model.document.clear();\n",
       "              delete Bokeh.index[id];\n",
       "            }\n",
       "          }\n",
       "        }\n",
       "      });\n",
       "      // Destroy server and session\n",
       "      var cmd = \"import bokeh.io.notebook as ion; ion.destroy_server('\" + server_id + \"')\";\n",
       "      cell.notebook.kernel.execute(cmd);\n",
       "    }\n",
       "  }\n",
       "\n",
       "  /**\n",
       "   * Handle when a new output is added\n",
       "   */\n",
       "  function handleAddOutput(event, handle) {\n",
       "    var output_area = handle.output_area;\n",
       "    var output = handle.output;\n",
       "\n",
       "    // limit handleAddOutput to display_data with EXEC_MIME_TYPE content only\n",
       "    if ((output.output_type != \"display_data\") || (!output.data.hasOwnProperty(EXEC_MIME_TYPE))) {\n",
       "      return\n",
       "    }\n",
       "\n",
       "    var toinsert = output_area.element.find(\".\" + CLASS_NAME.split(' ')[0]);\n",
       "\n",
       "    if (output.metadata[EXEC_MIME_TYPE][\"id\"] !== undefined) {\n",
       "      toinsert[toinsert.length - 1].firstChild.textContent = output.data[JS_MIME_TYPE];\n",
       "      // store reference to embed id on output_area\n",
       "      output_area._bokeh_element_id = output.metadata[EXEC_MIME_TYPE][\"id\"];\n",
       "    }\n",
       "    if (output.metadata[EXEC_MIME_TYPE][\"server_id\"] !== undefined) {\n",
       "      var bk_div = document.createElement(\"div\");\n",
       "      bk_div.innerHTML = output.data[HTML_MIME_TYPE];\n",
       "      var script_attrs = bk_div.children[0].attributes;\n",
       "      for (var i = 0; i < script_attrs.length; i++) {\n",
       "        toinsert[toinsert.length - 1].firstChild.setAttribute(script_attrs[i].name, script_attrs[i].value);\n",
       "      }\n",
       "      // store reference to server id on output_area\n",
       "      output_area._bokeh_server_id = output.metadata[EXEC_MIME_TYPE][\"server_id\"];\n",
       "    }\n",
       "  }\n",
       "\n",
       "  function register_renderer(events, OutputArea) {\n",
       "\n",
       "    function append_mime(data, metadata, element) {\n",
       "      // create a DOM node to render to\n",
       "      var toinsert = this.create_output_subarea(\n",
       "        metadata,\n",
       "        CLASS_NAME,\n",
       "        EXEC_MIME_TYPE\n",
       "      );\n",
       "      this.keyboard_manager.register_events(toinsert);\n",
       "      // Render to node\n",
       "      var props = {data: data, metadata: metadata[EXEC_MIME_TYPE]};\n",
       "      render(props, toinsert[toinsert.length - 1]);\n",
       "      element.append(toinsert);\n",
       "      return toinsert\n",
       "    }\n",
       "\n",
       "    /* Handle when an output is cleared or removed */\n",
       "    events.on('clear_output.CodeCell', handleClearOutput);\n",
       "    events.on('delete.Cell', handleClearOutput);\n",
       "\n",
       "    /* Handle when a new output is added */\n",
       "    events.on('output_added.OutputArea', handleAddOutput);\n",
       "\n",
       "    /**\n",
       "     * Register the mime type and append_mime function with output_area\n",
       "     */\n",
       "    OutputArea.prototype.register_mime_type(EXEC_MIME_TYPE, append_mime, {\n",
       "      /* Is output safe? */\n",
       "      safe: true,\n",
       "      /* Index of renderer in `output_area.display_order` */\n",
       "      index: 0\n",
       "    });\n",
       "  }\n",
       "\n",
       "  // register the mime type if in Jupyter Notebook environment and previously unregistered\n",
       "  if (root.Jupyter !== undefined) {\n",
       "    var events = require('base/js/events');\n",
       "    var OutputArea = require('notebook/js/outputarea').OutputArea;\n",
       "\n",
       "    if (OutputArea.prototype.mime_types().indexOf(EXEC_MIME_TYPE) == -1) {\n",
       "      register_renderer(events, OutputArea);\n",
       "    }\n",
       "  }\n",
       "\n",
       "  \n",
       "  if (typeof (root._bokeh_timeout) === \"undefined\" || force === true) {\n",
       "    root._bokeh_timeout = Date.now() + 5000;\n",
       "    root._bokeh_failed_load = false;\n",
       "  }\n",
       "\n",
       "  var NB_LOAD_WARNING = {'data': {'text/html':\n",
       "     \"<div style='background-color: #fdd'>\\n\"+\n",
       "     \"<p>\\n\"+\n",
       "     \"BokehJS does not appear to have successfully loaded. If loading BokehJS from CDN, this \\n\"+\n",
       "     \"may be due to a slow or bad network connection. Possible fixes:\\n\"+\n",
       "     \"</p>\\n\"+\n",
       "     \"<ul>\\n\"+\n",
       "     \"<li>re-rerun `output_notebook()` to attempt to load from CDN again, or</li>\\n\"+\n",
       "     \"<li>use INLINE resources instead, as so:</li>\\n\"+\n",
       "     \"</ul>\\n\"+\n",
       "     \"<code>\\n\"+\n",
       "     \"from bokeh.resources import INLINE\\n\"+\n",
       "     \"output_notebook(resources=INLINE)\\n\"+\n",
       "     \"</code>\\n\"+\n",
       "     \"</div>\"}};\n",
       "\n",
       "  function display_loaded() {\n",
       "    var el = document.getElementById(\"a4ae4667-cf95-48f3-89b9-093d7ef49a3b\");\n",
       "    if (el != null) {\n",
       "      el.textContent = \"BokehJS is loading...\";\n",
       "    }\n",
       "    if (root.Bokeh !== undefined) {\n",
       "      if (el != null) {\n",
       "        el.textContent = \"BokehJS \" + root.Bokeh.version + \" successfully loaded.\";\n",
       "      }\n",
       "    } else if (Date.now() < root._bokeh_timeout) {\n",
       "      setTimeout(display_loaded, 100)\n",
       "    }\n",
       "  }\n",
       "\n",
       "\n",
       "  function run_callbacks() {\n",
       "    try {\n",
       "      root._bokeh_onload_callbacks.forEach(function(callback) { callback() });\n",
       "    }\n",
       "    finally {\n",
       "      delete root._bokeh_onload_callbacks\n",
       "    }\n",
       "    console.info(\"Bokeh: all callbacks have finished\");\n",
       "  }\n",
       "\n",
       "  function load_libs(js_urls, callback) {\n",
       "    root._bokeh_onload_callbacks.push(callback);\n",
       "    if (root._bokeh_is_loading > 0) {\n",
       "      console.log(\"Bokeh: BokehJS is being loaded, scheduling callback at\", now());\n",
       "      return null;\n",
       "    }\n",
       "    if (js_urls == null || js_urls.length === 0) {\n",
       "      run_callbacks();\n",
       "      return null;\n",
       "    }\n",
       "    console.log(\"Bokeh: BokehJS not loaded, scheduling load and callback at\", now());\n",
       "    root._bokeh_is_loading = js_urls.length;\n",
       "    for (var i = 0; i < js_urls.length; i++) {\n",
       "      var url = js_urls[i];\n",
       "      var s = document.createElement('script');\n",
       "      s.src = url;\n",
       "      s.async = false;\n",
       "      s.onreadystatechange = s.onload = function() {\n",
       "        root._bokeh_is_loading--;\n",
       "        if (root._bokeh_is_loading === 0) {\n",
       "          console.log(\"Bokeh: all BokehJS libraries loaded\");\n",
       "          run_callbacks()\n",
       "        }\n",
       "      };\n",
       "      s.onerror = function() {\n",
       "        console.warn(\"failed to load library \" + url);\n",
       "      };\n",
       "      console.log(\"Bokeh: injecting script tag for BokehJS library: \", url);\n",
       "      document.getElementsByTagName(\"head\")[0].appendChild(s);\n",
       "    }\n",
       "  };var element = document.getElementById(\"a4ae4667-cf95-48f3-89b9-093d7ef49a3b\");\n",
       "  if (element == null) {\n",
       "    console.log(\"Bokeh: ERROR: autoload.js configured with elementid 'a4ae4667-cf95-48f3-89b9-093d7ef49a3b' but no matching script tag was found. \")\n",
       "    return false;\n",
       "  }\n",
       "\n",
       "  var js_urls = [\"https://cdn.pydata.org/bokeh/release/bokeh-0.13.0.min.js\", \"https://cdn.pydata.org/bokeh/release/bokeh-widgets-0.13.0.min.js\", \"https://cdn.pydata.org/bokeh/release/bokeh-tables-0.13.0.min.js\", \"https://cdn.pydata.org/bokeh/release/bokeh-gl-0.13.0.min.js\"];\n",
       "\n",
       "  var inline_js = [\n",
       "    function(Bokeh) {\n",
       "      Bokeh.set_log_level(\"info\");\n",
       "    },\n",
       "    \n",
       "    function(Bokeh) {\n",
       "      \n",
       "    },\n",
       "    function(Bokeh) {\n",
       "      console.log(\"Bokeh: injecting CSS: https://cdn.pydata.org/bokeh/release/bokeh-0.13.0.min.css\");\n",
       "      Bokeh.embed.inject_css(\"https://cdn.pydata.org/bokeh/release/bokeh-0.13.0.min.css\");\n",
       "      console.log(\"Bokeh: injecting CSS: https://cdn.pydata.org/bokeh/release/bokeh-widgets-0.13.0.min.css\");\n",
       "      Bokeh.embed.inject_css(\"https://cdn.pydata.org/bokeh/release/bokeh-widgets-0.13.0.min.css\");\n",
       "      console.log(\"Bokeh: injecting CSS: https://cdn.pydata.org/bokeh/release/bokeh-tables-0.13.0.min.css\");\n",
       "      Bokeh.embed.inject_css(\"https://cdn.pydata.org/bokeh/release/bokeh-tables-0.13.0.min.css\");\n",
       "    }\n",
       "  ];\n",
       "\n",
       "  function run_inline_js() {\n",
       "    \n",
       "    if ((root.Bokeh !== undefined) || (force === true)) {\n",
       "      for (var i = 0; i < inline_js.length; i++) {\n",
       "        inline_js[i].call(root, root.Bokeh);\n",
       "      }if (force === true) {\n",
       "        display_loaded();\n",
       "      }} else if (Date.now() < root._bokeh_timeout) {\n",
       "      setTimeout(run_inline_js, 100);\n",
       "    } else if (!root._bokeh_failed_load) {\n",
       "      console.log(\"Bokeh: BokehJS failed to load within specified timeout.\");\n",
       "      root._bokeh_failed_load = true;\n",
       "    } else if (force !== true) {\n",
       "      var cell = $(document.getElementById(\"a4ae4667-cf95-48f3-89b9-093d7ef49a3b\")).parents('.cell').data().cell;\n",
       "      cell.output_area.append_execute_result(NB_LOAD_WARNING)\n",
       "    }\n",
       "\n",
       "  }\n",
       "\n",
       "  if (root._bokeh_is_loading === 0) {\n",
       "    console.log(\"Bokeh: BokehJS loaded, going straight to plotting\");\n",
       "    run_inline_js();\n",
       "  } else {\n",
       "    load_libs(js_urls, function() {\n",
       "      console.log(\"Bokeh: BokehJS plotting callback run at\", now());\n",
       "      run_inline_js();\n",
       "    });\n",
       "  }\n",
       "}(window));"
      ],
      "application/vnd.bokehjs_load.v0+json": "\n(function(root) {\n  function now() {\n    return new Date();\n  }\n\n  var force = true;\n\n  if (typeof (root._bokeh_onload_callbacks) === \"undefined\" || force === true) {\n    root._bokeh_onload_callbacks = [];\n    root._bokeh_is_loading = undefined;\n  }\n\n  \n\n  \n  if (typeof (root._bokeh_timeout) === \"undefined\" || force === true) {\n    root._bokeh_timeout = Date.now() + 5000;\n    root._bokeh_failed_load = false;\n  }\n\n  var NB_LOAD_WARNING = {'data': {'text/html':\n     \"<div style='background-color: #fdd'>\\n\"+\n     \"<p>\\n\"+\n     \"BokehJS does not appear to have successfully loaded. If loading BokehJS from CDN, this \\n\"+\n     \"may be due to a slow or bad network connection. Possible fixes:\\n\"+\n     \"</p>\\n\"+\n     \"<ul>\\n\"+\n     \"<li>re-rerun `output_notebook()` to attempt to load from CDN again, or</li>\\n\"+\n     \"<li>use INLINE resources instead, as so:</li>\\n\"+\n     \"</ul>\\n\"+\n     \"<code>\\n\"+\n     \"from bokeh.resources import INLINE\\n\"+\n     \"output_notebook(resources=INLINE)\\n\"+\n     \"</code>\\n\"+\n     \"</div>\"}};\n\n  function display_loaded() {\n    var el = document.getElementById(\"a4ae4667-cf95-48f3-89b9-093d7ef49a3b\");\n    if (el != null) {\n      el.textContent = \"BokehJS is loading...\";\n    }\n    if (root.Bokeh !== undefined) {\n      if (el != null) {\n        el.textContent = \"BokehJS \" + root.Bokeh.version + \" successfully loaded.\";\n      }\n    } else if (Date.now() < root._bokeh_timeout) {\n      setTimeout(display_loaded, 100)\n    }\n  }\n\n\n  function run_callbacks() {\n    try {\n      root._bokeh_onload_callbacks.forEach(function(callback) { callback() });\n    }\n    finally {\n      delete root._bokeh_onload_callbacks\n    }\n    console.info(\"Bokeh: all callbacks have finished\");\n  }\n\n  function load_libs(js_urls, callback) {\n    root._bokeh_onload_callbacks.push(callback);\n    if (root._bokeh_is_loading > 0) {\n      console.log(\"Bokeh: BokehJS is being loaded, scheduling callback at\", now());\n      return null;\n    }\n    if (js_urls == null || js_urls.length === 0) {\n      run_callbacks();\n      return null;\n    }\n    console.log(\"Bokeh: BokehJS not loaded, scheduling load and callback at\", now());\n    root._bokeh_is_loading = js_urls.length;\n    for (var i = 0; i < js_urls.length; i++) {\n      var url = js_urls[i];\n      var s = document.createElement('script');\n      s.src = url;\n      s.async = false;\n      s.onreadystatechange = s.onload = function() {\n        root._bokeh_is_loading--;\n        if (root._bokeh_is_loading === 0) {\n          console.log(\"Bokeh: all BokehJS libraries loaded\");\n          run_callbacks()\n        }\n      };\n      s.onerror = function() {\n        console.warn(\"failed to load library \" + url);\n      };\n      console.log(\"Bokeh: injecting script tag for BokehJS library: \", url);\n      document.getElementsByTagName(\"head\")[0].appendChild(s);\n    }\n  };var element = document.getElementById(\"a4ae4667-cf95-48f3-89b9-093d7ef49a3b\");\n  if (element == null) {\n    console.log(\"Bokeh: ERROR: autoload.js configured with elementid 'a4ae4667-cf95-48f3-89b9-093d7ef49a3b' but no matching script tag was found. \")\n    return false;\n  }\n\n  var js_urls = [\"https://cdn.pydata.org/bokeh/release/bokeh-0.13.0.min.js\", \"https://cdn.pydata.org/bokeh/release/bokeh-widgets-0.13.0.min.js\", \"https://cdn.pydata.org/bokeh/release/bokeh-tables-0.13.0.min.js\", \"https://cdn.pydata.org/bokeh/release/bokeh-gl-0.13.0.min.js\"];\n\n  var inline_js = [\n    function(Bokeh) {\n      Bokeh.set_log_level(\"info\");\n    },\n    \n    function(Bokeh) {\n      \n    },\n    function(Bokeh) {\n      console.log(\"Bokeh: injecting CSS: https://cdn.pydata.org/bokeh/release/bokeh-0.13.0.min.css\");\n      Bokeh.embed.inject_css(\"https://cdn.pydata.org/bokeh/release/bokeh-0.13.0.min.css\");\n      console.log(\"Bokeh: injecting CSS: https://cdn.pydata.org/bokeh/release/bokeh-widgets-0.13.0.min.css\");\n      Bokeh.embed.inject_css(\"https://cdn.pydata.org/bokeh/release/bokeh-widgets-0.13.0.min.css\");\n      console.log(\"Bokeh: injecting CSS: https://cdn.pydata.org/bokeh/release/bokeh-tables-0.13.0.min.css\");\n      Bokeh.embed.inject_css(\"https://cdn.pydata.org/bokeh/release/bokeh-tables-0.13.0.min.css\");\n    }\n  ];\n\n  function run_inline_js() {\n    \n    if ((root.Bokeh !== undefined) || (force === true)) {\n      for (var i = 0; i < inline_js.length; i++) {\n        inline_js[i].call(root, root.Bokeh);\n      }if (force === true) {\n        display_loaded();\n      }} else if (Date.now() < root._bokeh_timeout) {\n      setTimeout(run_inline_js, 100);\n    } else if (!root._bokeh_failed_load) {\n      console.log(\"Bokeh: BokehJS failed to load within specified timeout.\");\n      root._bokeh_failed_load = true;\n    } else if (force !== true) {\n      var cell = $(document.getElementById(\"a4ae4667-cf95-48f3-89b9-093d7ef49a3b\")).parents('.cell').data().cell;\n      cell.output_area.append_execute_result(NB_LOAD_WARNING)\n    }\n\n  }\n\n  if (root._bokeh_is_loading === 0) {\n    console.log(\"Bokeh: BokehJS loaded, going straight to plotting\");\n    run_inline_js();\n  } else {\n    load_libs(js_urls, function() {\n      console.log(\"Bokeh: BokehJS plotting callback run at\", now());\n      run_inline_js();\n    });\n  }\n}(window));"
     },
     "metadata": {},
     "output_type": "display_data"
    }
   ],
   "source": [
    "from bokeh.io import push_notebook, show, output_notebook\n",
    "from bokeh.layouts import row\n",
    "from bokeh.plotting import figure\n",
    "output_notebook()"
   ]
  },
  {
   "cell_type": "code",
   "execution_count": 2,
   "metadata": {
    "ExecuteTime": {
     "end_time": "2018-12-30T14:26:39.589948Z",
     "start_time": "2018-12-30T14:26:39.585945Z"
    }
   },
   "outputs": [],
   "source": [
    "opts = dict(plot_width=250, plot_height=250, min_border=0)"
   ]
  },
  {
   "cell_type": "code",
   "execution_count": 3,
   "metadata": {
    "ExecuteTime": {
     "end_time": "2018-12-30T14:26:40.726209Z",
     "start_time": "2018-12-30T14:26:40.614654Z"
    }
   },
   "outputs": [
    {
     "data": {
      "text/html": [
       "\n",
       "\n",
       "\n",
       "\n",
       "\n",
       "\n",
       "  <div class=\"bk-root\" id=\"53dc1064-2f73-421f-8cf9-4bbb709dc6e1\"></div>\n"
      ]
     },
     "metadata": {},
     "output_type": "display_data"
    },
    {
     "data": {
      "application/javascript": [
       "(function(root) {\n",
       "  function embed_document(root) {\n",
       "    \n",
       "  var docs_json = {\"e1a20058-55ff-49a9-812f-e867af8faab6\":{\"roots\":{\"references\":[{\"attributes\":{\"below\":[{\"id\":\"d5038fc9-593b-4063-ae95-db4632537e3d\",\"type\":\"LinearAxis\"}],\"left\":[{\"id\":\"855a8f79-b36a-4eb7-8409-80f1e13a4b3f\",\"type\":\"LinearAxis\"}],\"min_border\":0,\"plot_height\":250,\"plot_width\":250,\"renderers\":[{\"id\":\"d5038fc9-593b-4063-ae95-db4632537e3d\",\"type\":\"LinearAxis\"},{\"id\":\"a329e3f6-588b-4e96-82c5-954a1cbd080b\",\"type\":\"Grid\"},{\"id\":\"855a8f79-b36a-4eb7-8409-80f1e13a4b3f\",\"type\":\"LinearAxis\"},{\"id\":\"1a6884a5-0c2b-4478-8174-3e9e92924047\",\"type\":\"Grid\"},{\"id\":\"e5d54751-e530-4892-bb7a-084252727693\",\"type\":\"BoxAnnotation\"},{\"id\":\"4340b5f3-ab94-45bb-ac4e-308b9fde0d19\",\"type\":\"GlyphRenderer\"}],\"title\":{\"id\":\"9d5eedb0-2e28-488c-adeb-358af89717ca\",\"type\":\"Title\"},\"toolbar\":{\"id\":\"43fb033b-3dd8-489a-b14d-7eed01440056\",\"type\":\"Toolbar\"},\"x_range\":{\"id\":\"67efdd89-2fad-4bdc-b050-9722e6bec82c\",\"type\":\"DataRange1d\"},\"x_scale\":{\"id\":\"a7453b35-4d27-4aab-8c62-70a7634e2db7\",\"type\":\"LinearScale\"},\"y_range\":{\"id\":\"d96e71e4-8341-45dc-bbfb-211a45c38b9a\",\"type\":\"DataRange1d\"},\"y_scale\":{\"id\":\"620bdcf5-f5ce-4f4d-a87e-29b93790f339\",\"type\":\"LinearScale\"}},\"id\":\"cdad3ee3-0799-4051-8f1e-e983160ff129\",\"subtype\":\"Figure\",\"type\":\"Plot\"},{\"attributes\":{\"source\":{\"id\":\"05059999-b663-4387-9fbd-2b41b104d47b\",\"type\":\"ColumnDataSource\"}},\"id\":\"f9b183fc-ce04-43c0-ad63-316fd30cf287\",\"type\":\"CDSView\"},{\"attributes\":{\"source\":{\"id\":\"759b74e1-7c9b-4008-95f8-18f6a2aab8fb\",\"type\":\"ColumnDataSource\"}},\"id\":\"354454ab-7826-4453-89c7-cd4e1584ae59\",\"type\":\"CDSView\"},{\"attributes\":{\"plot\":{\"id\":\"274a3443-fc19-417b-83c7-e379105a09ba\",\"subtype\":\"Figure\",\"type\":\"Plot\"},\"ticker\":{\"id\":\"0555138a-3ec2-45f6-bb5e-61cf919ffefb\",\"type\":\"BasicTicker\"}},\"id\":\"04f4a07e-0dd1-483d-98a2-1aee950b5172\",\"type\":\"Grid\"},{\"attributes\":{\"active_drag\":\"auto\",\"active_inspect\":\"auto\",\"active_multi\":null,\"active_scroll\":\"auto\",\"active_tap\":\"auto\",\"tools\":[{\"id\":\"0b658946-661a-4d4d-bcfe-4dc5c6041133\",\"type\":\"PanTool\"},{\"id\":\"0469942f-2c2e-4ff4-9d98-228828354ca8\",\"type\":\"WheelZoomTool\"},{\"id\":\"85b9e540-6742-42eb-b02c-603265b5f023\",\"type\":\"BoxZoomTool\"},{\"id\":\"90191430-2e09-42a2-9cae-0ef23c94dd19\",\"type\":\"SaveTool\"},{\"id\":\"c577780e-03a4-4cc2-92cb-6a182ef822f2\",\"type\":\"ResetTool\"},{\"id\":\"0293e7a6-eb82-48d3-84c0-504da0cad158\",\"type\":\"HelpTool\"}]},\"id\":\"43fb033b-3dd8-489a-b14d-7eed01440056\",\"type\":\"Toolbar\"},{\"attributes\":{\"formatter\":{\"id\":\"da88a59f-b10d-4fc8-8af9-865590120fb8\",\"type\":\"BasicTickFormatter\"},\"plot\":{\"id\":\"274a3443-fc19-417b-83c7-e379105a09ba\",\"subtype\":\"Figure\",\"type\":\"Plot\"},\"ticker\":{\"id\":\"a2f035d3-93e4-4186-b630-c49a6d15ec54\",\"type\":\"BasicTicker\"}},\"id\":\"5c7de6b3-b15f-4eaa-8767-f0e42bf9a9e8\",\"type\":\"LinearAxis\"},{\"attributes\":{\"callback\":null},\"id\":\"67efdd89-2fad-4bdc-b050-9722e6bec82c\",\"type\":\"DataRange1d\"},{\"attributes\":{},\"id\":\"a2f035d3-93e4-4186-b630-c49a6d15ec54\",\"type\":\"BasicTicker\"},{\"attributes\":{\"fill_alpha\":{\"value\":0.1},\"fill_color\":{\"value\":\"#1f77b4\"},\"line_alpha\":{\"value\":0.1},\"line_color\":{\"value\":\"#1f77b4\"},\"size\":{\"units\":\"screen\",\"value\":20},\"x\":{\"field\":\"x\"},\"y\":{\"field\":\"y\"}},\"id\":\"8db21286-a224-430a-9212-9c4bbc239d4d\",\"type\":\"Circle\"},{\"attributes\":{\"dimension\":1,\"plot\":{\"id\":\"274a3443-fc19-417b-83c7-e379105a09ba\",\"subtype\":\"Figure\",\"type\":\"Plot\"},\"ticker\":{\"id\":\"a2f035d3-93e4-4186-b630-c49a6d15ec54\",\"type\":\"BasicTicker\"}},\"id\":\"14716c53-7b04-4869-92e2-97cae52f18bc\",\"type\":\"Grid\"},{\"attributes\":{\"fill_alpha\":{\"value\":0.1},\"fill_color\":{\"value\":\"#1f77b4\"},\"line_alpha\":{\"value\":0.1},\"line_color\":{\"value\":\"#1f77b4\"},\"size\":{\"units\":\"screen\",\"value\":20},\"x\":{\"field\":\"x\"},\"y\":{\"field\":\"y\"}},\"id\":\"edcbef2e-cc7d-4811-8e87-f04919ad9413\",\"type\":\"Circle\"},{\"attributes\":{\"fill_color\":{\"value\":\"#1f77b4\"},\"line_color\":{\"value\":\"#1f77b4\"},\"size\":{\"units\":\"screen\",\"value\":20},\"x\":{\"field\":\"x\"},\"y\":{\"field\":\"y\"}},\"id\":\"260a7238-b3df-4597-a3b8-afb92a1d2b95\",\"type\":\"Circle\"},{\"attributes\":{\"data_source\":{\"id\":\"05059999-b663-4387-9fbd-2b41b104d47b\",\"type\":\"ColumnDataSource\"},\"glyph\":{\"id\":\"260a7238-b3df-4597-a3b8-afb92a1d2b95\",\"type\":\"Circle\"},\"hover_glyph\":null,\"muted_glyph\":null,\"nonselection_glyph\":{\"id\":\"8db21286-a224-430a-9212-9c4bbc239d4d\",\"type\":\"Circle\"},\"selection_glyph\":null,\"view\":{\"id\":\"f9b183fc-ce04-43c0-ad63-316fd30cf287\",\"type\":\"CDSView\"}},\"id\":\"e305435c-fb92-4680-9aa7-2d547dafd5c7\",\"type\":\"GlyphRenderer\"},{\"attributes\":{\"callback\":null},\"id\":\"d96e71e4-8341-45dc-bbfb-211a45c38b9a\",\"type\":\"DataRange1d\"},{\"attributes\":{},\"id\":\"f232ed07-47d0-4267-9eb3-832d56395737\",\"type\":\"PanTool\"},{\"attributes\":{},\"id\":\"a7453b35-4d27-4aab-8c62-70a7634e2db7\",\"type\":\"LinearScale\"},{\"attributes\":{\"plot\":null,\"text\":\"\"},\"id\":\"9d5eedb0-2e28-488c-adeb-358af89717ca\",\"type\":\"Title\"},{\"attributes\":{},\"id\":\"620bdcf5-f5ce-4f4d-a87e-29b93790f339\",\"type\":\"LinearScale\"},{\"attributes\":{},\"id\":\"cbe3de4b-8b29-4262-b879-b2ea5ff1300e\",\"type\":\"WheelZoomTool\"},{\"attributes\":{\"plot\":{\"id\":\"cdad3ee3-0799-4051-8f1e-e983160ff129\",\"subtype\":\"Figure\",\"type\":\"Plot\"},\"ticker\":{\"id\":\"d6d3cdee-e2a7-4575-874b-ca99db81127f\",\"type\":\"BasicTicker\"}},\"id\":\"a329e3f6-588b-4e96-82c5-954a1cbd080b\",\"type\":\"Grid\"},{\"attributes\":{\"overlay\":{\"id\":\"97d7069b-5e39-4c87-bfd1-7896e2db4084\",\"type\":\"BoxAnnotation\"}},\"id\":\"20e0cb9f-cd1d-4911-9b14-3426f2593967\",\"type\":\"BoxZoomTool\"},{\"attributes\":{\"formatter\":{\"id\":\"ef4bb86e-8a0f-4c21-a80c-7f8db50d5e9f\",\"type\":\"BasicTickFormatter\"},\"plot\":{\"id\":\"cdad3ee3-0799-4051-8f1e-e983160ff129\",\"subtype\":\"Figure\",\"type\":\"Plot\"},\"ticker\":{\"id\":\"d6d3cdee-e2a7-4575-874b-ca99db81127f\",\"type\":\"BasicTicker\"}},\"id\":\"d5038fc9-593b-4063-ae95-db4632537e3d\",\"type\":\"LinearAxis\"},{\"attributes\":{},\"id\":\"9ce2e583-c5b3-4f63-9699-57f9e591d1a9\",\"type\":\"SaveTool\"},{\"attributes\":{},\"id\":\"d6d3cdee-e2a7-4575-874b-ca99db81127f\",\"type\":\"BasicTicker\"},{\"attributes\":{},\"id\":\"c6b519aa-1530-4ab1-8ae3-cd86c62fc706\",\"type\":\"ResetTool\"},{\"attributes\":{\"formatter\":{\"id\":\"92047383-2eb7-4292-b723-9f7931da9415\",\"type\":\"BasicTickFormatter\"},\"plot\":{\"id\":\"cdad3ee3-0799-4051-8f1e-e983160ff129\",\"subtype\":\"Figure\",\"type\":\"Plot\"},\"ticker\":{\"id\":\"04610abf-14b4-41e7-b5a7-270473f84a24\",\"type\":\"BasicTicker\"}},\"id\":\"855a8f79-b36a-4eb7-8409-80f1e13a4b3f\",\"type\":\"LinearAxis\"},{\"attributes\":{\"below\":[{\"id\":\"ed4b1e6a-8490-44e8-afc8-91db8ce56096\",\"type\":\"LinearAxis\"}],\"left\":[{\"id\":\"5c7de6b3-b15f-4eaa-8767-f0e42bf9a9e8\",\"type\":\"LinearAxis\"}],\"min_border\":0,\"plot_height\":250,\"plot_width\":250,\"renderers\":[{\"id\":\"ed4b1e6a-8490-44e8-afc8-91db8ce56096\",\"type\":\"LinearAxis\"},{\"id\":\"04f4a07e-0dd1-483d-98a2-1aee950b5172\",\"type\":\"Grid\"},{\"id\":\"5c7de6b3-b15f-4eaa-8767-f0e42bf9a9e8\",\"type\":\"LinearAxis\"},{\"id\":\"14716c53-7b04-4869-92e2-97cae52f18bc\",\"type\":\"Grid\"},{\"id\":\"97d7069b-5e39-4c87-bfd1-7896e2db4084\",\"type\":\"BoxAnnotation\"},{\"id\":\"e305435c-fb92-4680-9aa7-2d547dafd5c7\",\"type\":\"GlyphRenderer\"}],\"title\":{\"id\":\"1e3b42c5-f7ab-4844-956d-16340504f171\",\"type\":\"Title\"},\"toolbar\":{\"id\":\"355d1bc1-a841-45ef-abae-469c813e6fda\",\"type\":\"Toolbar\"},\"x_range\":{\"id\":\"6a82757b-9e22-4b74-9c57-addc7abd26bf\",\"type\":\"DataRange1d\"},\"x_scale\":{\"id\":\"731be246-488a-4104-97aa-42d2c1c13b31\",\"type\":\"LinearScale\"},\"y_range\":{\"id\":\"b6b28d9a-0245-415f-8599-6788d291d58a\",\"type\":\"DataRange1d\"},\"y_scale\":{\"id\":\"16ca726c-44c4-46ad-9551-17158dffaca1\",\"type\":\"LinearScale\"}},\"id\":\"274a3443-fc19-417b-83c7-e379105a09ba\",\"subtype\":\"Figure\",\"type\":\"Plot\"},{\"attributes\":{},\"id\":\"04610abf-14b4-41e7-b5a7-270473f84a24\",\"type\":\"BasicTicker\"},{\"attributes\":{},\"id\":\"00117b9c-71ce-4a0b-ae90-fb799a754e05\",\"type\":\"HelpTool\"},{\"attributes\":{\"bottom_units\":\"screen\",\"fill_alpha\":{\"value\":0.5},\"fill_color\":{\"value\":\"lightgrey\"},\"left_units\":\"screen\",\"level\":\"overlay\",\"line_alpha\":{\"value\":1.0},\"line_color\":{\"value\":\"black\"},\"line_dash\":[4,4],\"line_width\":{\"value\":2},\"plot\":null,\"render_mode\":\"css\",\"right_units\":\"screen\",\"top_units\":\"screen\"},\"id\":\"97d7069b-5e39-4c87-bfd1-7896e2db4084\",\"type\":\"BoxAnnotation\"},{\"attributes\":{\"dimension\":1,\"plot\":{\"id\":\"cdad3ee3-0799-4051-8f1e-e983160ff129\",\"subtype\":\"Figure\",\"type\":\"Plot\"},\"ticker\":{\"id\":\"04610abf-14b4-41e7-b5a7-270473f84a24\",\"type\":\"BasicTicker\"}},\"id\":\"1a6884a5-0c2b-4478-8174-3e9e92924047\",\"type\":\"Grid\"},{\"attributes\":{},\"id\":\"ef4bb86e-8a0f-4c21-a80c-7f8db50d5e9f\",\"type\":\"BasicTickFormatter\"},{\"attributes\":{\"active_drag\":\"auto\",\"active_inspect\":\"auto\",\"active_multi\":null,\"active_scroll\":\"auto\",\"active_tap\":\"auto\",\"tools\":[{\"id\":\"f232ed07-47d0-4267-9eb3-832d56395737\",\"type\":\"PanTool\"},{\"id\":\"cbe3de4b-8b29-4262-b879-b2ea5ff1300e\",\"type\":\"WheelZoomTool\"},{\"id\":\"20e0cb9f-cd1d-4911-9b14-3426f2593967\",\"type\":\"BoxZoomTool\"},{\"id\":\"9ce2e583-c5b3-4f63-9699-57f9e591d1a9\",\"type\":\"SaveTool\"},{\"id\":\"c6b519aa-1530-4ab1-8ae3-cd86c62fc706\",\"type\":\"ResetTool\"},{\"id\":\"00117b9c-71ce-4a0b-ae90-fb799a754e05\",\"type\":\"HelpTool\"}]},\"id\":\"355d1bc1-a841-45ef-abae-469c813e6fda\",\"type\":\"Toolbar\"},{\"attributes\":{},\"id\":\"7bc0c92b-41af-4d39-bc88-63c3299b808e\",\"type\":\"BasicTickFormatter\"},{\"attributes\":{\"fill_color\":{\"value\":\"#1f77b4\"},\"line_color\":{\"value\":\"#1f77b4\"},\"size\":{\"units\":\"screen\",\"value\":20},\"x\":{\"field\":\"x\"},\"y\":{\"field\":\"y\"}},\"id\":\"4d7e43b1-cc51-4a03-ba7f-feae3383dce1\",\"type\":\"Circle\"},{\"attributes\":{\"plot\":null,\"text\":\"\"},\"id\":\"1e3b42c5-f7ab-4844-956d-16340504f171\",\"type\":\"Title\"},{\"attributes\":{\"data_source\":{\"id\":\"759b74e1-7c9b-4008-95f8-18f6a2aab8fb\",\"type\":\"ColumnDataSource\"},\"glyph\":{\"id\":\"4d7e43b1-cc51-4a03-ba7f-feae3383dce1\",\"type\":\"Circle\"},\"hover_glyph\":null,\"muted_glyph\":null,\"nonselection_glyph\":{\"id\":\"edcbef2e-cc7d-4811-8e87-f04919ad9413\",\"type\":\"Circle\"},\"selection_glyph\":null,\"view\":{\"id\":\"354454ab-7826-4453-89c7-cd4e1584ae59\",\"type\":\"CDSView\"}},\"id\":\"4340b5f3-ab94-45bb-ac4e-308b9fde0d19\",\"type\":\"GlyphRenderer\"},{\"attributes\":{},\"id\":\"92047383-2eb7-4292-b723-9f7931da9415\",\"type\":\"BasicTickFormatter\"},{\"attributes\":{\"children\":[{\"id\":\"cdad3ee3-0799-4051-8f1e-e983160ff129\",\"subtype\":\"Figure\",\"type\":\"Plot\"},{\"id\":\"274a3443-fc19-417b-83c7-e379105a09ba\",\"subtype\":\"Figure\",\"type\":\"Plot\"}]},\"id\":\"8abc435c-3b63-470b-8e34-d31393653458\",\"type\":\"Row\"},{\"attributes\":{},\"id\":\"da88a59f-b10d-4fc8-8af9-865590120fb8\",\"type\":\"BasicTickFormatter\"},{\"attributes\":{},\"id\":\"0b658946-661a-4d4d-bcfe-4dc5c6041133\",\"type\":\"PanTool\"},{\"attributes\":{},\"id\":\"048a28d0-ed34-4646-8ac5-35c6dae92bc6\",\"type\":\"UnionRenderers\"},{\"attributes\":{\"callback\":null,\"data\":{\"x\":[1,2,3],\"y\":[4,5,6]},\"selected\":{\"id\":\"88ff22af-28bb-4de3-9fb2-a0302620cc2f\",\"type\":\"Selection\"},\"selection_policy\":{\"id\":\"bd3866f4-3e64-41f8-a93e-fcecfcce4b97\",\"type\":\"UnionRenderers\"}},\"id\":\"05059999-b663-4387-9fbd-2b41b104d47b\",\"type\":\"ColumnDataSource\"},{\"attributes\":{},\"id\":\"88ff22af-28bb-4de3-9fb2-a0302620cc2f\",\"type\":\"Selection\"},{\"attributes\":{},\"id\":\"0469942f-2c2e-4ff4-9d98-228828354ca8\",\"type\":\"WheelZoomTool\"},{\"attributes\":{},\"id\":\"dad0463d-36eb-45d1-8a3d-da5187ce4297\",\"type\":\"Selection\"},{\"attributes\":{\"overlay\":{\"id\":\"e5d54751-e530-4892-bb7a-084252727693\",\"type\":\"BoxAnnotation\"}},\"id\":\"85b9e540-6742-42eb-b02c-603265b5f023\",\"type\":\"BoxZoomTool\"},{\"attributes\":{},\"id\":\"bd3866f4-3e64-41f8-a93e-fcecfcce4b97\",\"type\":\"UnionRenderers\"},{\"attributes\":{},\"id\":\"90191430-2e09-42a2-9cae-0ef23c94dd19\",\"type\":\"SaveTool\"},{\"attributes\":{},\"id\":\"c577780e-03a4-4cc2-92cb-6a182ef822f2\",\"type\":\"ResetTool\"},{\"attributes\":{},\"id\":\"0293e7a6-eb82-48d3-84c0-504da0cad158\",\"type\":\"HelpTool\"},{\"attributes\":{\"bottom_units\":\"screen\",\"fill_alpha\":{\"value\":0.5},\"fill_color\":{\"value\":\"lightgrey\"},\"left_units\":\"screen\",\"level\":\"overlay\",\"line_alpha\":{\"value\":1.0},\"line_color\":{\"value\":\"black\"},\"line_dash\":[4,4],\"line_width\":{\"value\":2},\"plot\":null,\"render_mode\":\"css\",\"right_units\":\"screen\",\"top_units\":\"screen\"},\"id\":\"e5d54751-e530-4892-bb7a-084252727693\",\"type\":\"BoxAnnotation\"},{\"attributes\":{\"callback\":null},\"id\":\"6a82757b-9e22-4b74-9c57-addc7abd26bf\",\"type\":\"DataRange1d\"},{\"attributes\":{},\"id\":\"0555138a-3ec2-45f6-bb5e-61cf919ffefb\",\"type\":\"BasicTicker\"},{\"attributes\":{\"callback\":null},\"id\":\"b6b28d9a-0245-415f-8599-6788d291d58a\",\"type\":\"DataRange1d\"},{\"attributes\":{},\"id\":\"731be246-488a-4104-97aa-42d2c1c13b31\",\"type\":\"LinearScale\"},{\"attributes\":{},\"id\":\"16ca726c-44c4-46ad-9551-17158dffaca1\",\"type\":\"LinearScale\"},{\"attributes\":{\"formatter\":{\"id\":\"7bc0c92b-41af-4d39-bc88-63c3299b808e\",\"type\":\"BasicTickFormatter\"},\"plot\":{\"id\":\"274a3443-fc19-417b-83c7-e379105a09ba\",\"subtype\":\"Figure\",\"type\":\"Plot\"},\"ticker\":{\"id\":\"0555138a-3ec2-45f6-bb5e-61cf919ffefb\",\"type\":\"BasicTicker\"}},\"id\":\"ed4b1e6a-8490-44e8-afc8-91db8ce56096\",\"type\":\"LinearAxis\"},{\"attributes\":{\"callback\":null,\"data\":{\"x\":[1,2,3],\"y\":[4,5,6]},\"selected\":{\"id\":\"dad0463d-36eb-45d1-8a3d-da5187ce4297\",\"type\":\"Selection\"},\"selection_policy\":{\"id\":\"048a28d0-ed34-4646-8ac5-35c6dae92bc6\",\"type\":\"UnionRenderers\"}},\"id\":\"759b74e1-7c9b-4008-95f8-18f6a2aab8fb\",\"type\":\"ColumnDataSource\"}],\"root_ids\":[\"8abc435c-3b63-470b-8e34-d31393653458\"]},\"title\":\"Bokeh Application\",\"version\":\"0.13.0\"}};\n",
       "  var render_items = [{\"docid\":\"e1a20058-55ff-49a9-812f-e867af8faab6\",\"notebook_comms_target\":\"864e55c9-d483-4226-95a3-fd3d13863555\",\"roots\":{\"8abc435c-3b63-470b-8e34-d31393653458\":\"53dc1064-2f73-421f-8cf9-4bbb709dc6e1\"}}];\n",
       "  root.Bokeh.embed.embed_items_notebook(docs_json, render_items);\n",
       "\n",
       "  }\n",
       "  if (root.Bokeh !== undefined) {\n",
       "    embed_document(root);\n",
       "  } else {\n",
       "    var attempts = 0;\n",
       "    var timer = setInterval(function(root) {\n",
       "      if (root.Bokeh !== undefined) {\n",
       "        embed_document(root);\n",
       "        clearInterval(timer);\n",
       "      }\n",
       "      attempts++;\n",
       "      if (attempts > 100) {\n",
       "        console.log(\"Bokeh: ERROR: Unable to run BokehJS code because BokehJS library is missing\")\n",
       "        clearInterval(timer);\n",
       "      }\n",
       "    }, 10, root)\n",
       "  }\n",
       "})(window);"
      ],
      "application/vnd.bokehjs_exec.v0+json": ""
     },
     "metadata": {
      "application/vnd.bokehjs_exec.v0+json": {
       "id": "8abc435c-3b63-470b-8e34-d31393653458"
      }
     },
     "output_type": "display_data"
    }
   ],
   "source": [
    "p1 = figure(**opts)\n",
    "r1 = p1.circle([1,2,3], [4,5,6], size=20)\n",
    "\n",
    "p2 = figure(**opts)\n",
    "r2 = p2.circle([1,2,3], [4,5,6], size=20)\n",
    "\n",
    "# get a handle to update the shown cell with\n",
    "t = show(row(p1, p2), notebook_handle=True)"
   ]
  },
  {
   "cell_type": "code",
   "execution_count": 4,
   "metadata": {
    "ExecuteTime": {
     "end_time": "2018-12-30T14:26:42.084866Z",
     "start_time": "2018-12-30T14:26:42.070854Z"
    }
   },
   "outputs": [
    {
     "data": {
      "text/html": [
       "<p><code>&lt;Bokeh Notebook handle for <strong>In[3]</strong>&gt;</code></p>"
      ],
      "text/plain": [
       "<bokeh.io.notebook.CommsHandle at 0xe79a8f3ac8>"
      ]
     },
     "execution_count": 4,
     "metadata": {},
     "output_type": "execute_result"
    }
   ],
   "source": [
    "# the comms handle repr show what cell it can be used to update\n",
    "t"
   ]
  },
  {
   "cell_type": "code",
   "execution_count": 5,
   "metadata": {
    "ExecuteTime": {
     "end_time": "2018-12-30T14:26:43.025812Z",
     "start_time": "2018-12-30T14:26:42.998791Z"
    }
   },
   "outputs": [],
   "source": [
    "# this will update the left plot circle color with an explicit handle\n",
    "r1.glyph.fill_color = \"white\"\n",
    "push_notebook(handle=t)"
   ]
  },
  {
   "cell_type": "code",
   "execution_count": 6,
   "metadata": {
    "ExecuteTime": {
     "end_time": "2018-12-30T14:26:43.972570Z",
     "start_time": "2018-12-30T14:26:43.967065Z"
    }
   },
   "outputs": [],
   "source": [
    "# and this will update the right plot circle color because it was in the last shown cell\n",
    "r2.glyph.fill_color = \"pink\"\n",
    "push_notebook()"
   ]
  },
  {
   "cell_type": "code",
   "execution_count": 8,
   "metadata": {
    "ExecuteTime": {
     "end_time": "2018-12-30T14:27:00.087050Z",
     "start_time": "2018-12-30T14:27:00.012988Z"
    }
   },
   "outputs": [
    {
     "data": {
      "text/html": [
       "\n",
       "\n",
       "\n",
       "\n",
       "\n",
       "\n",
       "  <div class=\"bk-root\" id=\"6cf60c83-41f6-4b1f-b22e-43daf9e5b3a0\"></div>\n"
      ]
     },
     "metadata": {},
     "output_type": "display_data"
    },
    {
     "data": {
      "application/javascript": [
       "(function(root) {\n",
       "  function embed_document(root) {\n",
       "    \n",
       "  var docs_json = {\"cced481f-5cf9-4dd5-be3e-932096e06f1f\":{\"roots\":{\"references\":[{\"attributes\":{},\"id\":\"f022460c-c4d0-4945-b872-f284a1cd04d8\",\"type\":\"BasicTicker\"},{\"attributes\":{},\"id\":\"e848a60f-c0a3-4d46-a906-d32f61d0e97b\",\"type\":\"BasicTickFormatter\"},{\"attributes\":{\"fill_color\":{\"value\":\"#1f77b4\"},\"line_color\":{\"value\":\"#1f77b4\"},\"size\":{\"units\":\"screen\",\"value\":20},\"x\":{\"field\":\"x\"},\"y\":{\"field\":\"y\"}},\"id\":\"d168179d-eb49-4dc2-8f86-8d7fad845403\",\"type\":\"Circle\"},{\"attributes\":{\"formatter\":{\"id\":\"5c7f16a3-3a38-4206-a12b-5df74b87ad5e\",\"type\":\"BasicTickFormatter\"},\"plot\":{\"id\":\"d0355bb9-e925-482d-8f3b-bda56e823fad\",\"subtype\":\"Figure\",\"type\":\"Plot\"},\"ticker\":{\"id\":\"f022460c-c4d0-4945-b872-f284a1cd04d8\",\"type\":\"BasicTicker\"}},\"id\":\"bbf2b1ff-1c60-4cac-8888-1d810536e376\",\"type\":\"LinearAxis\"},{\"attributes\":{\"active_drag\":\"auto\",\"active_inspect\":\"auto\",\"active_multi\":null,\"active_scroll\":\"auto\",\"active_tap\":\"auto\",\"tools\":[{\"id\":\"e59ba78a-7476-4c11-bc2e-233233f2ee3d\",\"type\":\"PanTool\"},{\"id\":\"b5ab5fef-68e6-43f5-ad2a-f285382025a6\",\"type\":\"WheelZoomTool\"},{\"id\":\"1c9cc464-0038-4653-9f18-b6226f3d5e10\",\"type\":\"BoxZoomTool\"},{\"id\":\"e58e1df5-cb9b-4882-930d-dcc9620587b6\",\"type\":\"SaveTool\"},{\"id\":\"74deeab5-b456-46ca-944b-b88b1cfe7b8c\",\"type\":\"ResetTool\"},{\"id\":\"c3d83b96-f8a8-4557-b173-e03bc1d9c14e\",\"type\":\"HelpTool\"}]},\"id\":\"d1e4bb2c-f830-4057-a2d3-3c8ca704fb56\",\"type\":\"Toolbar\"},{\"attributes\":{\"source\":{\"id\":\"1475051c-bca2-46f5-834f-d9f4400e9547\",\"type\":\"ColumnDataSource\"}},\"id\":\"39abb01c-6149-46ad-ab40-b0d8d2d8ac27\",\"type\":\"CDSView\"},{\"attributes\":{},\"id\":\"943e68f1-a095-40a5-b9e0-26f10a25c424\",\"type\":\"BasicTicker\"},{\"attributes\":{\"bottom_units\":\"screen\",\"fill_alpha\":{\"value\":0.5},\"fill_color\":{\"value\":\"lightgrey\"},\"left_units\":\"screen\",\"level\":\"overlay\",\"line_alpha\":{\"value\":1.0},\"line_color\":{\"value\":\"black\"},\"line_dash\":[4,4],\"line_width\":{\"value\":2},\"plot\":null,\"render_mode\":\"css\",\"right_units\":\"screen\",\"top_units\":\"screen\"},\"id\":\"1fd7021a-ff2c-4745-825d-eb36f5e1fb28\",\"type\":\"BoxAnnotation\"},{\"attributes\":{\"callback\":null},\"id\":\"71e3efc2-1266-44a5-bbf7-e10f122b7b96\",\"type\":\"DataRange1d\"},{\"attributes\":{\"fill_alpha\":{\"value\":0.1},\"fill_color\":{\"value\":\"#1f77b4\"},\"line_alpha\":{\"value\":0.1},\"line_color\":{\"value\":\"#1f77b4\"},\"size\":{\"units\":\"screen\",\"value\":20},\"x\":{\"field\":\"x\"},\"y\":{\"field\":\"y\"}},\"id\":\"2381c0b4-1441-4c4f-b696-41bfa459f28c\",\"type\":\"Circle\"},{\"attributes\":{\"data_source\":{\"id\":\"1475051c-bca2-46f5-834f-d9f4400e9547\",\"type\":\"ColumnDataSource\"},\"glyph\":{\"id\":\"d168179d-eb49-4dc2-8f86-8d7fad845403\",\"type\":\"Circle\"},\"hover_glyph\":null,\"muted_glyph\":null,\"nonselection_glyph\":{\"id\":\"2381c0b4-1441-4c4f-b696-41bfa459f28c\",\"type\":\"Circle\"},\"selection_glyph\":null,\"view\":{\"id\":\"39abb01c-6149-46ad-ab40-b0d8d2d8ac27\",\"type\":\"CDSView\"}},\"id\":\"b6fdace9-6d1c-481c-8adb-bef4c6bfeaac\",\"type\":\"GlyphRenderer\"},{\"attributes\":{},\"id\":\"5c7f16a3-3a38-4206-a12b-5df74b87ad5e\",\"type\":\"BasicTickFormatter\"},{\"attributes\":{\"below\":[{\"id\":\"aab630b4-d8fc-429b-8731-af1222612161\",\"type\":\"LinearAxis\"}],\"left\":[{\"id\":\"bbf2b1ff-1c60-4cac-8888-1d810536e376\",\"type\":\"LinearAxis\"}],\"min_border\":0,\"plot_height\":250,\"plot_width\":250,\"renderers\":[{\"id\":\"aab630b4-d8fc-429b-8731-af1222612161\",\"type\":\"LinearAxis\"},{\"id\":\"9d183fb3-8196-410d-8f71-a3d2e5376b2b\",\"type\":\"Grid\"},{\"id\":\"bbf2b1ff-1c60-4cac-8888-1d810536e376\",\"type\":\"LinearAxis\"},{\"id\":\"282897b2-e8fe-4887-946c-5570b8c3757d\",\"type\":\"Grid\"},{\"id\":\"1fd7021a-ff2c-4745-825d-eb36f5e1fb28\",\"type\":\"BoxAnnotation\"},{\"id\":\"b6fdace9-6d1c-481c-8adb-bef4c6bfeaac\",\"type\":\"GlyphRenderer\"}],\"title\":{\"id\":\"cf7a8598-55df-46b7-ba56-b407b2864f18\",\"type\":\"Title\"},\"toolbar\":{\"id\":\"d1e4bb2c-f830-4057-a2d3-3c8ca704fb56\",\"type\":\"Toolbar\"},\"x_range\":{\"id\":\"71e3efc2-1266-44a5-bbf7-e10f122b7b96\",\"type\":\"DataRange1d\"},\"x_scale\":{\"id\":\"aa9825aa-f276-4ab3-bea3-93dd2b73c370\",\"type\":\"LinearScale\"},\"y_range\":{\"id\":\"5f53bc9d-2650-4079-bcc0-4940219f5ba3\",\"type\":\"DataRange1d\"},\"y_scale\":{\"id\":\"ee0f547c-5ce9-4238-8488-5e5a1818f8a9\",\"type\":\"LinearScale\"}},\"id\":\"d0355bb9-e925-482d-8f3b-bda56e823fad\",\"subtype\":\"Figure\",\"type\":\"Plot\"},{\"attributes\":{\"callback\":null,\"data\":{\"x\":[1,2,3],\"y\":[4,5,6]},\"selected\":{\"id\":\"87fbba12-53e5-4c40-8b10-74c0e31e2529\",\"type\":\"Selection\"},\"selection_policy\":{\"id\":\"9e95d663-f429-4fdb-b588-0a9d00c267a6\",\"type\":\"UnionRenderers\"}},\"id\":\"1475051c-bca2-46f5-834f-d9f4400e9547\",\"type\":\"ColumnDataSource\"},{\"attributes\":{},\"id\":\"74deeab5-b456-46ca-944b-b88b1cfe7b8c\",\"type\":\"ResetTool\"},{\"attributes\":{\"overlay\":{\"id\":\"1fd7021a-ff2c-4745-825d-eb36f5e1fb28\",\"type\":\"BoxAnnotation\"}},\"id\":\"1c9cc464-0038-4653-9f18-b6226f3d5e10\",\"type\":\"BoxZoomTool\"},{\"attributes\":{},\"id\":\"b5ab5fef-68e6-43f5-ad2a-f285382025a6\",\"type\":\"WheelZoomTool\"},{\"attributes\":{\"plot\":null,\"text\":\"\"},\"id\":\"cf7a8598-55df-46b7-ba56-b407b2864f18\",\"type\":\"Title\"},{\"attributes\":{\"formatter\":{\"id\":\"e848a60f-c0a3-4d46-a906-d32f61d0e97b\",\"type\":\"BasicTickFormatter\"},\"plot\":{\"id\":\"d0355bb9-e925-482d-8f3b-bda56e823fad\",\"subtype\":\"Figure\",\"type\":\"Plot\"},\"ticker\":{\"id\":\"943e68f1-a095-40a5-b9e0-26f10a25c424\",\"type\":\"BasicTicker\"}},\"id\":\"aab630b4-d8fc-429b-8731-af1222612161\",\"type\":\"LinearAxis\"},{\"attributes\":{},\"id\":\"c3d83b96-f8a8-4557-b173-e03bc1d9c14e\",\"type\":\"HelpTool\"},{\"attributes\":{},\"id\":\"e59ba78a-7476-4c11-bc2e-233233f2ee3d\",\"type\":\"PanTool\"},{\"attributes\":{},\"id\":\"aa9825aa-f276-4ab3-bea3-93dd2b73c370\",\"type\":\"LinearScale\"},{\"attributes\":{},\"id\":\"9e95d663-f429-4fdb-b588-0a9d00c267a6\",\"type\":\"UnionRenderers\"},{\"attributes\":{},\"id\":\"e58e1df5-cb9b-4882-930d-dcc9620587b6\",\"type\":\"SaveTool\"},{\"attributes\":{},\"id\":\"ee0f547c-5ce9-4238-8488-5e5a1818f8a9\",\"type\":\"LinearScale\"},{\"attributes\":{},\"id\":\"87fbba12-53e5-4c40-8b10-74c0e31e2529\",\"type\":\"Selection\"},{\"attributes\":{\"plot\":{\"id\":\"d0355bb9-e925-482d-8f3b-bda56e823fad\",\"subtype\":\"Figure\",\"type\":\"Plot\"},\"ticker\":{\"id\":\"943e68f1-a095-40a5-b9e0-26f10a25c424\",\"type\":\"BasicTicker\"}},\"id\":\"9d183fb3-8196-410d-8f71-a3d2e5376b2b\",\"type\":\"Grid\"},{\"attributes\":{\"dimension\":1,\"plot\":{\"id\":\"d0355bb9-e925-482d-8f3b-bda56e823fad\",\"subtype\":\"Figure\",\"type\":\"Plot\"},\"ticker\":{\"id\":\"f022460c-c4d0-4945-b872-f284a1cd04d8\",\"type\":\"BasicTicker\"}},\"id\":\"282897b2-e8fe-4887-946c-5570b8c3757d\",\"type\":\"Grid\"},{\"attributes\":{\"callback\":null},\"id\":\"5f53bc9d-2650-4079-bcc0-4940219f5ba3\",\"type\":\"DataRange1d\"}],\"root_ids\":[\"d0355bb9-e925-482d-8f3b-bda56e823fad\"]},\"title\":\"Bokeh Application\",\"version\":\"0.13.0\"}};\n",
       "  var render_items = [{\"docid\":\"cced481f-5cf9-4dd5-be3e-932096e06f1f\",\"notebook_comms_target\":\"2ca9bc23-01dc-4960-a021-2842a631a593\",\"roots\":{\"d0355bb9-e925-482d-8f3b-bda56e823fad\":\"6cf60c83-41f6-4b1f-b22e-43daf9e5b3a0\"}}];\n",
       "  root.Bokeh.embed.embed_items_notebook(docs_json, render_items);\n",
       "\n",
       "  }\n",
       "  if (root.Bokeh !== undefined) {\n",
       "    embed_document(root);\n",
       "  } else {\n",
       "    var attempts = 0;\n",
       "    var timer = setInterval(function(root) {\n",
       "      if (root.Bokeh !== undefined) {\n",
       "        embed_document(root);\n",
       "        clearInterval(timer);\n",
       "      }\n",
       "      attempts++;\n",
       "      if (attempts > 100) {\n",
       "        console.log(\"Bokeh: ERROR: Unable to run BokehJS code because BokehJS library is missing\")\n",
       "        clearInterval(timer);\n",
       "      }\n",
       "    }, 10, root)\n",
       "  }\n",
       "})(window);"
      ],
      "application/vnd.bokehjs_exec.v0+json": ""
     },
     "metadata": {
      "application/vnd.bokehjs_exec.v0+json": {
       "id": "d0355bb9-e925-482d-8f3b-bda56e823fad"
      }
     },
     "output_type": "display_data"
    }
   ],
   "source": [
    "p3 = figure(**opts)\n",
    "r3 = p3.circle([1,2,3], [4,5,6], size=20)\n",
    "\n",
    "# get a handle to update the shown cell with\n",
    "t2 = show(p3, notebook_handle=True) "
   ]
  },
  {
   "cell_type": "code",
   "execution_count": 9,
   "metadata": {
    "ExecuteTime": {
     "end_time": "2018-12-30T14:27:00.097055Z",
     "start_time": "2018-12-30T14:27:00.092051Z"
    }
   },
   "outputs": [
    {
     "data": {
      "text/html": [
       "<p><code>&lt;Bokeh Notebook handle for <strong>In[8]</strong>&gt;</code></p>"
      ],
      "text/plain": [
       "<bokeh.io.notebook.CommsHandle at 0xe797ba5748>"
      ]
     },
     "execution_count": 9,
     "metadata": {},
     "output_type": "execute_result"
    }
   ],
   "source": [
    "# show which cell t2 handles\n",
    "t2"
   ]
  },
  {
   "cell_type": "code",
   "execution_count": 10,
   "metadata": {
    "ExecuteTime": {
     "end_time": "2018-12-30T14:27:00.109067Z",
     "start_time": "2018-12-30T14:27:00.099055Z"
    }
   },
   "outputs": [],
   "source": [
    "# this updates the immediately previous cell with an explicit handle\n",
    "r3.glyph.fill_color = \"orange\"\n",
    "push_notebook(handle=t2)"
   ]
  },
  {
   "cell_type": "code",
   "execution_count": 11,
   "metadata": {
    "ExecuteTime": {
     "end_time": "2018-12-30T14:27:00.123075Z",
     "start_time": "2018-12-30T14:27:00.117069Z"
    }
   },
   "outputs": [],
   "source": [
    "# this updates the left plot at the top with an explicit handle\n",
    "r1.glyph.fill_color = \"orange\"\n",
    "push_notebook(handle=t)"
   ]
  },
  {
   "cell_type": "code",
   "execution_count": 12,
   "metadata": {
    "ExecuteTime": {
     "end_time": "2018-12-30T14:27:00.200142Z",
     "start_time": "2018-12-30T14:27:00.126076Z"
    }
   },
   "outputs": [
    {
     "data": {
      "text/html": [
       "\n",
       "\n",
       "\n",
       "\n",
       "\n",
       "\n",
       "  <div class=\"bk-root\" id=\"565db854-9fa8-4fe6-a27c-c63cf429cda4\"></div>\n"
      ]
     },
     "metadata": {},
     "output_type": "display_data"
    },
    {
     "data": {
      "application/javascript": [
       "(function(root) {\n",
       "  function embed_document(root) {\n",
       "    \n",
       "  var docs_json = {\"1eb36702-bf46-4bfc-ac01-89bc3a94652c\":{\"roots\":{\"references\":[{\"attributes\":{\"active_drag\":\"auto\",\"active_inspect\":\"auto\",\"active_multi\":null,\"active_scroll\":\"auto\",\"active_tap\":\"auto\",\"tools\":[{\"id\":\"f232ed07-47d0-4267-9eb3-832d56395737\",\"type\":\"PanTool\"},{\"id\":\"cbe3de4b-8b29-4262-b879-b2ea5ff1300e\",\"type\":\"WheelZoomTool\"},{\"id\":\"20e0cb9f-cd1d-4911-9b14-3426f2593967\",\"type\":\"BoxZoomTool\"},{\"id\":\"9ce2e583-c5b3-4f63-9699-57f9e591d1a9\",\"type\":\"SaveTool\"},{\"id\":\"c6b519aa-1530-4ab1-8ae3-cd86c62fc706\",\"type\":\"ResetTool\"},{\"id\":\"00117b9c-71ce-4a0b-ae90-fb799a754e05\",\"type\":\"HelpTool\"}]},\"id\":\"355d1bc1-a841-45ef-abae-469c813e6fda\",\"type\":\"Toolbar\"},{\"attributes\":{},\"id\":\"7bc0c92b-41af-4d39-bc88-63c3299b808e\",\"type\":\"BasicTickFormatter\"},{\"attributes\":{\"source\":{\"id\":\"05059999-b663-4387-9fbd-2b41b104d47b\",\"type\":\"ColumnDataSource\"}},\"id\":\"f9b183fc-ce04-43c0-ad63-316fd30cf287\",\"type\":\"CDSView\"},{\"attributes\":{\"plot\":null,\"text\":\"\"},\"id\":\"1e3b42c5-f7ab-4844-956d-16340504f171\",\"type\":\"Title\"},{\"attributes\":{\"plot\":{\"id\":\"274a3443-fc19-417b-83c7-e379105a09ba\",\"subtype\":\"Figure\",\"type\":\"Plot\"},\"ticker\":{\"id\":\"0555138a-3ec2-45f6-bb5e-61cf919ffefb\",\"type\":\"BasicTicker\"}},\"id\":\"04f4a07e-0dd1-483d-98a2-1aee950b5172\",\"type\":\"Grid\"},{\"attributes\":{\"formatter\":{\"id\":\"da88a59f-b10d-4fc8-8af9-865590120fb8\",\"type\":\"BasicTickFormatter\"},\"plot\":{\"id\":\"274a3443-fc19-417b-83c7-e379105a09ba\",\"subtype\":\"Figure\",\"type\":\"Plot\"},\"ticker\":{\"id\":\"a2f035d3-93e4-4186-b630-c49a6d15ec54\",\"type\":\"BasicTicker\"}},\"id\":\"5c7de6b3-b15f-4eaa-8767-f0e42bf9a9e8\",\"type\":\"LinearAxis\"},{\"attributes\":{},\"id\":\"da88a59f-b10d-4fc8-8af9-865590120fb8\",\"type\":\"BasicTickFormatter\"},{\"attributes\":{},\"id\":\"a2f035d3-93e4-4186-b630-c49a6d15ec54\",\"type\":\"BasicTicker\"},{\"attributes\":{\"fill_alpha\":{\"value\":0.1},\"fill_color\":{\"value\":\"#1f77b4\"},\"line_alpha\":{\"value\":0.1},\"line_color\":{\"value\":\"#1f77b4\"},\"size\":{\"units\":\"screen\",\"value\":20},\"x\":{\"field\":\"x\"},\"y\":{\"field\":\"y\"}},\"id\":\"8db21286-a224-430a-9212-9c4bbc239d4d\",\"type\":\"Circle\"},{\"attributes\":{\"dimension\":1,\"plot\":{\"id\":\"274a3443-fc19-417b-83c7-e379105a09ba\",\"subtype\":\"Figure\",\"type\":\"Plot\"},\"ticker\":{\"id\":\"a2f035d3-93e4-4186-b630-c49a6d15ec54\",\"type\":\"BasicTicker\"}},\"id\":\"14716c53-7b04-4869-92e2-97cae52f18bc\",\"type\":\"Grid\"},{\"attributes\":{\"callback\":null,\"data\":{\"x\":[1,2,3],\"y\":[4,5,6]},\"selected\":{\"id\":\"88ff22af-28bb-4de3-9fb2-a0302620cc2f\",\"type\":\"Selection\"},\"selection_policy\":{\"id\":\"bd3866f4-3e64-41f8-a93e-fcecfcce4b97\",\"type\":\"UnionRenderers\"}},\"id\":\"05059999-b663-4387-9fbd-2b41b104d47b\",\"type\":\"ColumnDataSource\"},{\"attributes\":{\"fill_color\":{\"value\":\"pink\"},\"line_color\":{\"value\":\"#1f77b4\"},\"size\":{\"units\":\"screen\",\"value\":20},\"x\":{\"field\":\"x\"},\"y\":{\"field\":\"y\"}},\"id\":\"260a7238-b3df-4597-a3b8-afb92a1d2b95\",\"type\":\"Circle\"},{\"attributes\":{},\"id\":\"88ff22af-28bb-4de3-9fb2-a0302620cc2f\",\"type\":\"Selection\"},{\"attributes\":{\"below\":[{\"id\":\"ed4b1e6a-8490-44e8-afc8-91db8ce56096\",\"type\":\"LinearAxis\"}],\"left\":[{\"id\":\"5c7de6b3-b15f-4eaa-8767-f0e42bf9a9e8\",\"type\":\"LinearAxis\"}],\"min_border\":0,\"plot_height\":250,\"plot_width\":250,\"renderers\":[{\"id\":\"ed4b1e6a-8490-44e8-afc8-91db8ce56096\",\"type\":\"LinearAxis\"},{\"id\":\"04f4a07e-0dd1-483d-98a2-1aee950b5172\",\"type\":\"Grid\"},{\"id\":\"5c7de6b3-b15f-4eaa-8767-f0e42bf9a9e8\",\"type\":\"LinearAxis\"},{\"id\":\"14716c53-7b04-4869-92e2-97cae52f18bc\",\"type\":\"Grid\"},{\"id\":\"97d7069b-5e39-4c87-bfd1-7896e2db4084\",\"type\":\"BoxAnnotation\"},{\"id\":\"e305435c-fb92-4680-9aa7-2d547dafd5c7\",\"type\":\"GlyphRenderer\"}],\"title\":{\"id\":\"1e3b42c5-f7ab-4844-956d-16340504f171\",\"type\":\"Title\"},\"toolbar\":{\"id\":\"355d1bc1-a841-45ef-abae-469c813e6fda\",\"type\":\"Toolbar\"},\"x_range\":{\"id\":\"6a82757b-9e22-4b74-9c57-addc7abd26bf\",\"type\":\"DataRange1d\"},\"x_scale\":{\"id\":\"731be246-488a-4104-97aa-42d2c1c13b31\",\"type\":\"LinearScale\"},\"y_range\":{\"id\":\"b6b28d9a-0245-415f-8599-6788d291d58a\",\"type\":\"DataRange1d\"},\"y_scale\":{\"id\":\"16ca726c-44c4-46ad-9551-17158dffaca1\",\"type\":\"LinearScale\"}},\"id\":\"274a3443-fc19-417b-83c7-e379105a09ba\",\"subtype\":\"Figure\",\"type\":\"Plot\"},{\"attributes\":{},\"id\":\"bd3866f4-3e64-41f8-a93e-fcecfcce4b97\",\"type\":\"UnionRenderers\"},{\"attributes\":{\"data_source\":{\"id\":\"05059999-b663-4387-9fbd-2b41b104d47b\",\"type\":\"ColumnDataSource\"},\"glyph\":{\"id\":\"260a7238-b3df-4597-a3b8-afb92a1d2b95\",\"type\":\"Circle\"},\"hover_glyph\":null,\"muted_glyph\":null,\"nonselection_glyph\":{\"id\":\"8db21286-a224-430a-9212-9c4bbc239d4d\",\"type\":\"Circle\"},\"selection_glyph\":null,\"view\":{\"id\":\"f9b183fc-ce04-43c0-ad63-316fd30cf287\",\"type\":\"CDSView\"}},\"id\":\"e305435c-fb92-4680-9aa7-2d547dafd5c7\",\"type\":\"GlyphRenderer\"},{\"attributes\":{},\"id\":\"f232ed07-47d0-4267-9eb3-832d56395737\",\"type\":\"PanTool\"},{\"attributes\":{},\"id\":\"cbe3de4b-8b29-4262-b879-b2ea5ff1300e\",\"type\":\"WheelZoomTool\"},{\"attributes\":{\"callback\":null},\"id\":\"6a82757b-9e22-4b74-9c57-addc7abd26bf\",\"type\":\"DataRange1d\"},{\"attributes\":{\"overlay\":{\"id\":\"97d7069b-5e39-4c87-bfd1-7896e2db4084\",\"type\":\"BoxAnnotation\"}},\"id\":\"20e0cb9f-cd1d-4911-9b14-3426f2593967\",\"type\":\"BoxZoomTool\"},{\"attributes\":{},\"id\":\"0555138a-3ec2-45f6-bb5e-61cf919ffefb\",\"type\":\"BasicTicker\"},{\"attributes\":{},\"id\":\"9ce2e583-c5b3-4f63-9699-57f9e591d1a9\",\"type\":\"SaveTool\"},{\"attributes\":{\"callback\":null},\"id\":\"b6b28d9a-0245-415f-8599-6788d291d58a\",\"type\":\"DataRange1d\"},{\"attributes\":{},\"id\":\"c6b519aa-1530-4ab1-8ae3-cd86c62fc706\",\"type\":\"ResetTool\"},{\"attributes\":{},\"id\":\"731be246-488a-4104-97aa-42d2c1c13b31\",\"type\":\"LinearScale\"},{\"attributes\":{},\"id\":\"16ca726c-44c4-46ad-9551-17158dffaca1\",\"type\":\"LinearScale\"},{\"attributes\":{},\"id\":\"00117b9c-71ce-4a0b-ae90-fb799a754e05\",\"type\":\"HelpTool\"},{\"attributes\":{\"bottom_units\":\"screen\",\"fill_alpha\":{\"value\":0.5},\"fill_color\":{\"value\":\"lightgrey\"},\"left_units\":\"screen\",\"level\":\"overlay\",\"line_alpha\":{\"value\":1.0},\"line_color\":{\"value\":\"black\"},\"line_dash\":[4,4],\"line_width\":{\"value\":2},\"plot\":null,\"render_mode\":\"css\",\"right_units\":\"screen\",\"top_units\":\"screen\"},\"id\":\"97d7069b-5e39-4c87-bfd1-7896e2db4084\",\"type\":\"BoxAnnotation\"},{\"attributes\":{\"formatter\":{\"id\":\"7bc0c92b-41af-4d39-bc88-63c3299b808e\",\"type\":\"BasicTickFormatter\"},\"plot\":{\"id\":\"274a3443-fc19-417b-83c7-e379105a09ba\",\"subtype\":\"Figure\",\"type\":\"Plot\"},\"ticker\":{\"id\":\"0555138a-3ec2-45f6-bb5e-61cf919ffefb\",\"type\":\"BasicTicker\"}},\"id\":\"ed4b1e6a-8490-44e8-afc8-91db8ce56096\",\"type\":\"LinearAxis\"}],\"root_ids\":[\"274a3443-fc19-417b-83c7-e379105a09ba\"]},\"title\":\"Bokeh Application\",\"version\":\"0.13.0\"}};\n",
       "  var render_items = [{\"docid\":\"1eb36702-bf46-4bfc-ac01-89bc3a94652c\",\"notebook_comms_target\":\"8873a2a8-e10e-482a-bae2-d95cc9dbc138\",\"roots\":{\"274a3443-fc19-417b-83c7-e379105a09ba\":\"565db854-9fa8-4fe6-a27c-c63cf429cda4\"}}];\n",
       "  root.Bokeh.embed.embed_items_notebook(docs_json, render_items);\n",
       "\n",
       "  }\n",
       "  if (root.Bokeh !== undefined) {\n",
       "    embed_document(root);\n",
       "  } else {\n",
       "    var attempts = 0;\n",
       "    var timer = setInterval(function(root) {\n",
       "      if (root.Bokeh !== undefined) {\n",
       "        embed_document(root);\n",
       "        clearInterval(timer);\n",
       "      }\n",
       "      attempts++;\n",
       "      if (attempts > 100) {\n",
       "        console.log(\"Bokeh: ERROR: Unable to run BokehJS code because BokehJS library is missing\")\n",
       "        clearInterval(timer);\n",
       "      }\n",
       "    }, 10, root)\n",
       "  }\n",
       "})(window);"
      ],
      "application/vnd.bokehjs_exec.v0+json": ""
     },
     "metadata": {
      "application/vnd.bokehjs_exec.v0+json": {
       "id": "274a3443-fc19-417b-83c7-e379105a09ba"
      }
     },
     "output_type": "display_data"
    }
   ],
   "source": [
    "# get a handle to update the shown cell with\n",
    "t3 = show(p2, notebook_handle=True)"
   ]
  },
  {
   "cell_type": "code",
   "execution_count": 13,
   "metadata": {
    "ExecuteTime": {
     "end_time": "2018-12-30T14:27:00.208143Z",
     "start_time": "2018-12-30T14:27:00.202139Z"
    }
   },
   "outputs": [],
   "source": [
    "# this will update the immediately previous plot circle color because it was in the last shown cell\n",
    "r2.glyph.fill_color = \"red\"\n",
    "push_notebook()"
   ]
  },
  {
   "cell_type": "code",
   "execution_count": 14,
   "metadata": {
    "ExecuteTime": {
     "end_time": "2018-12-30T14:27:00.220154Z",
     "start_time": "2018-12-30T14:27:00.210146Z"
    }
   },
   "outputs": [],
   "source": [
    "# this will update the immediately previous plot circle color with an explicit handle\n",
    "r2.glyph.fill_color = \"blue\"\n",
    "push_notebook(handle=t3)"
   ]
  },
  {
   "cell_type": "code",
   "execution_count": null,
   "metadata": {},
   "outputs": [],
   "source": []
  },
  {
   "cell_type": "code",
   "execution_count": null,
   "metadata": {},
   "outputs": [],
   "source": []
  }
 ],
 "metadata": {
  "kernelspec": {
   "display_name": "Python 3",
   "language": "python",
   "name": "python3"
  },
  "language_info": {
   "codemirror_mode": {
    "name": "ipython",
    "version": 3
   },
   "file_extension": ".py",
   "mimetype": "text/x-python",
   "name": "python",
   "nbconvert_exporter": "python",
   "pygments_lexer": "ipython3",
   "version": "3.7.1"
  },
  "toc": {
   "base_numbering": 1,
   "nav_menu": {},
   "number_sections": true,
   "sideBar": true,
   "skip_h1_title": false,
   "title_cell": "Table of Contents",
   "title_sidebar": "Contents",
   "toc_cell": false,
   "toc_position": {},
   "toc_section_display": true,
   "toc_window_display": false
  },
  "varInspector": {
   "cols": {
    "lenName": 16,
    "lenType": 16,
    "lenVar": 40
   },
   "kernels_config": {
    "python": {
     "delete_cmd_postfix": "",
     "delete_cmd_prefix": "del ",
     "library": "var_list.py",
     "varRefreshCmd": "print(var_dic_list())"
    },
    "r": {
     "delete_cmd_postfix": ") ",
     "delete_cmd_prefix": "rm(",
     "library": "var_list.r",
     "varRefreshCmd": "cat(var_dic_list()) "
    }
   },
   "types_to_exclude": [
    "module",
    "function",
    "builtin_function_or_method",
    "instance",
    "_Feature"
   ],
   "window_display": false
  }
 },
 "nbformat": 4,
 "nbformat_minor": 1
}
